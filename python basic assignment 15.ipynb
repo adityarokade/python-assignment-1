{
 "cells": [
  {
   "cell_type": "code",
   "execution_count": 6,
   "metadata": {},
   "outputs": [
    {
     "name": "stdout",
     "output_type": "stream",
     "text": [
      "1 min =60 sec and 1hour =60 sec\n",
      "The total seconds in hour is: 3600\n"
     ]
    }
   ],
   "source": [
    "#1.How many seconds are in an hour? Use the interactive interpreter as a calculator and multiply the number of seconds in a minute (60) by the number of minutes in an hour (also 60).\n",
    "\n",
    "print(\"1 min =60 sec and 1hour =60 sec\")\n",
    "print(\"The total seconds in hour is:\",60*60)   \n",
    "\n"
   ]
  },
  {
   "cell_type": "code",
   "execution_count": 7,
   "metadata": {},
   "outputs": [
    {
     "name": "stdout",
     "output_type": "stream",
     "text": [
      "3600\n"
     ]
    }
   ],
   "source": [
    "#Assign the result from the previous task (seconds in an hour) to a variable called seconds_per_hour.\n",
    "\n",
    "seconds_per_hour = 60 * 60\n",
    "print(seconds_per_hour)"
   ]
  },
  {
   "cell_type": "code",
   "execution_count": 8,
   "metadata": {},
   "outputs": [
    {
     "name": "stdout",
     "output_type": "stream",
     "text": [
      "The seconds in a day is:  86400\n"
     ]
    }
   ],
   "source": [
    "#3. How many seconds do you think there are in a day? Make use of the variables seconds per hour and minutes per hour.\n",
    "\n",
    "\n",
    "\n",
    "second_per_hour=3600\n",
    "minutes_per_hour=60\n",
    "hours_in_one_day=24\n",
    "\n",
    "print(\"The seconds in a day is: \",hours_in_one_day*second_per_hour)\n"
   ]
  },
  {
   "cell_type": "code",
   "execution_count": 13,
   "metadata": {},
   "outputs": [
    {
     "name": "stdout",
     "output_type": "stream",
     "text": [
      "86400\n",
      "\n",
      "\n",
      "OR\n",
      "86400\n"
     ]
    }
   ],
   "source": [
    "#Calculate seconds per day again, but this time save the result in a variable called seconds_per_day\n",
    "second_per_hour=3600\n",
    "minutes_per_hour=60\n",
    "hours_in_one_day=24\n",
    "\n",
    "def secondsperday(second_per_hour,hours_in_one_day):\n",
    "    seconds_per_day=hours_in_one_day*second_per_hour\n",
    "    return seconds_per_day\n",
    "\n",
    "\n",
    "res=secondsperday(second_per_hour,hours_in_one_day)\n",
    "print(res)\n",
    "print()\n",
    "print()\n",
    "\n",
    "\n",
    "print(\"OR\")\n",
    "second_per_hour=3600\n",
    "minutes_per_hour=60\n",
    "hours_in_one_day=24\n",
    "\n",
    "seconds_per_day=hours_in_one_day*second_per_hour\n",
    "print(seconds_per_day)\n",
    "\n"
   ]
  },
  {
   "cell_type": "code",
   "execution_count": 14,
   "metadata": {},
   "outputs": [
    {
     "name": "stdout",
     "output_type": "stream",
     "text": [
      "result is:  24.0\n"
     ]
    }
   ],
   "source": [
    "# Divide seconds_per_day by seconds_per_hour. Use floating-point (/) division.\n",
    "seconds_per_day=86400\n",
    "second_per_hour=3600\n",
    "result=seconds_per_day/second_per_hour\n",
    "print(\"result is: \",result)"
   ]
  },
  {
   "cell_type": "code",
   "execution_count": 15,
   "metadata": {},
   "outputs": [
    {
     "name": "stdout",
     "output_type": "stream",
     "text": [
      "result is:  24\n"
     ]
    }
   ],
   "source": [
    "#Divide seconds_per_day by seconds_per_hour, using integer (//) division. Did this number agree with the floating-point value from the previous question, aside from the final .0?\n",
    "\n",
    "seconds_per_day=86400\n",
    "second_per_hour=3600\n",
    "result=seconds_per_day//second_per_hour\n",
    "print(\"result is: \",result)"
   ]
  },
  {
   "cell_type": "code",
   "execution_count": 24,
   "metadata": {},
   "outputs": [
    {
     "name": "stdout",
     "output_type": "stream",
     "text": [
      "<generator object genPrimes at 0x7f3516b2ead0>\n"
     ]
    }
   ],
   "source": [
    "#Write a generator, genPrimes, that returns the sequence of prime numbers on successive calls to its next() method: 2, 3, 5, 7, 11, ...\n",
    "\n",
    "\n",
    "def genPrimes():\n",
    "    prime= []\n",
    "    n = 2\n",
    "    last = n\n",
    "\n",
    "    while True:\n",
    "        for i in prime:\n",
    "            if n % i == 0:\n",
    "                n += 1\n",
    "                break\n",
    "\n",
    "        else:\n",
    "            prime.append(n)\n",
    "            last = n\n",
    "            n += 1\n",
    "            yield last\n",
    "            \n",
    "a=genPrimes()\n",
    "print(a)"
   ]
  },
  {
   "cell_type": "code",
   "execution_count": null,
   "metadata": {},
   "outputs": [],
   "source": []
  }
 ],
 "metadata": {
  "kernelspec": {
   "display_name": "Python 3",
   "language": "python",
   "name": "python3"
  },
  "language_info": {
   "codemirror_mode": {
    "name": "ipython",
    "version": 3
   },
   "file_extension": ".py",
   "mimetype": "text/x-python",
   "name": "python",
   "nbconvert_exporter": "python",
   "pygments_lexer": "ipython3",
   "version": "3.7.6"
  }
 },
 "nbformat": 4,
 "nbformat_minor": 4
}
