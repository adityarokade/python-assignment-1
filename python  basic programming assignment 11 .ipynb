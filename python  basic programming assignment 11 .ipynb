{
 "cells": [
  {
   "cell_type": "code",
   "execution_count": 2,
   "metadata": {},
   "outputs": [
    {
     "name": "stdout",
     "output_type": "stream",
     "text": [
      "Enter the length: 3\n",
      "Enter the string: hi aditya dattatray rokade\n",
      "['aditya', 'dattatray', 'rokade']\n"
     ]
    }
   ],
   "source": [
    "#Write a Python program to find words which are greater than given length k?\n",
    "\n",
    "\n",
    "def string_s(a, str):\n",
    "\n",
    "    string = []\n",
    "\n",
    "    text = str.split(\" \")\n",
    "\n",
    "    for x in text:\n",
    "        if len(x) > a:\n",
    "            string.append(x)\n",
    "    return string\n",
    "\n",
    "\n",
    "\n",
    "a=int(input(\"Enter the length: \"))\n",
    "str =input(\"Enter the string: \")\n",
    "print(string_s(a, str))\n"
   ]
  },
  {
   "cell_type": "code",
   "execution_count": 5,
   "metadata": {},
   "outputs": [
    {
     "name": "stdout",
     "output_type": "stream",
     "text": [
      "adity dattatray rokade\n"
     ]
    }
   ],
   "source": [
    "#Write a Python program for removing i-th character from a string?\n",
    "\n",
    "\n",
    "def remove(string, i): \n",
    "    a = string[ : i] \n",
    "    b = string[i + 1: ]\n",
    "    return a + b  \n",
    "\n",
    "if __name__ == '__main__':\n",
    "      \n",
    "    string = \"aditya dattatray rokade\"\n",
    "    i = 5\n",
    "    \n",
    "    \n",
    "    print(remove(string, i))"
   ]
  },
  {
   "cell_type": "code",
   "execution_count": 15,
   "metadata": {},
   "outputs": [
    {
     "name": "stdout",
     "output_type": "stream",
     "text": [
      "After spliting string is:  [['', 'dity', ' d', 'tt', 'tr', 'y rok', 'de']]\n",
      "After joining string is: ['a-d-i-t-y-a- -d-a-t-t-a-t-r-a-y- -r-o-k-a-d-e']\n"
     ]
    }
   ],
   "source": [
    "#Write a Python program to split and join a string?\n",
    "\n",
    "str=\"aditya dattatray rokade\"\n",
    "x=[]\n",
    "b=str.split(\"a\")\n",
    "x.append(b)\n",
    "\n",
    "print(\"After spliting string is: \",x)\n",
    "\n",
    "c=[]\n",
    "d=\"-\".join(str)\n",
    "c.append(d)\n",
    "print(\"After joining string is:\",c)\n"
   ]
  },
  {
   "cell_type": "code",
   "execution_count": 16,
   "metadata": {},
   "outputs": [
    {
     "name": "stdout",
     "output_type": "stream",
     "text": [
      "No\n"
     ]
    }
   ],
   "source": [
    "#Write a Python to check if a given string is binary string or not?\n",
    "def check2(string) :\n",
    "  \n",
    "    \n",
    "    t = '01'\n",
    "  \n",
    "    \n",
    "    count = 0\n",
    "  \n",
    "    \n",
    "    for char in string :\n",
    "  \n",
    "        \n",
    "        if char not in t :\n",
    "            count = 1\n",
    "            break\n",
    "        else :\n",
    "            pass\n",
    "          \n",
    "    \n",
    "    if count :\n",
    "        print(\"No\")\n",
    "    else :\n",
    "        print(\"Yes\")\n",
    "  \n",
    "  \n",
    "  \n",
    "\n",
    "if __name__ == \"__main__\" :\n",
    "  \n",
    "    string = \"001021010001010\"\n",
    "  \n",
    "    \n",
    "    check2(string)"
   ]
  },
  {
   "cell_type": "code",
   "execution_count": 17,
   "metadata": {},
   "outputs": [
    {
     "name": "stdout",
     "output_type": "stream",
     "text": [
      "['Full', 'stack', 'data', 'science', 'with', 'one', 'year', 'intenship', 'and', 'job', 'G']\n"
     ]
    }
   ],
   "source": [
    "#Write a Python program to find uncommon words from two Strings?\n",
    "def UncommonWords(A, B):\n",
    "  \n",
    "    \n",
    "    count = {}\n",
    "      \n",
    "   \n",
    "    for word in A.split():\n",
    "        count[word] = count.get(word, 0) + 1\n",
    "      \n",
    "    \n",
    "    for word in B.split():\n",
    "        count[word] = count.get(word, 0) + 1\n",
    "  \n",
    "    \n",
    "    return [word for word in count if count[word] == 1]\n",
    "  \n",
    "\n",
    "A = \"Full stack data science\"\n",
    "B = \"with one year intenship and job G\"\n",
    "  \n",
    "\n",
    "print(UncommonWords(A, B))"
   ]
  },
  {
   "cell_type": "code",
   "execution_count": 28,
   "metadata": {},
   "outputs": [
    {
     "name": "stdout",
     "output_type": "stream",
     "text": [
      "a d \n"
     ]
    }
   ],
   "source": [
    "#Write a Python to find all duplicate characters in string?\n",
    "\n",
    "\n",
    "string = \"adityarokade\"\n",
    "\n",
    "duplicates = {}\n",
    "for char in string:\n",
    "   \n",
    "   if char in duplicates:\n",
    "      \n",
    "      duplicates[char] += 1\n",
    "   else:\n",
    "      \n",
    "      duplicates[char] = 1\n",
    "for key, value in duplicates.items():\n",
    "   if value > 1:\n",
    "      print(key, end = \" \")\n",
    "print()"
   ]
  },
  {
   "cell_type": "code",
   "execution_count": 33,
   "metadata": {},
   "outputs": [
    {
     "name": "stdout",
     "output_type": "stream",
     "text": [
      "String contains Special Characters.\n"
     ]
    }
   ],
   "source": [
    "#Write a Python Program to check if a string contains any special character?\n",
    "import re \n",
    "  \n",
    "\n",
    "def check_splcharacter(test): \n",
    "  \n",
    "    \n",
    " \n",
    "    string_check= re.compile('[@_!#$%^&*()<>?/\\|}{~:]') \n",
    "      \n",
    "    \n",
    "     \n",
    "    if(string_check.search(test) == None): \n",
    "        print(\"String does not contain Special Characters.\")\n",
    "          \n",
    "    else: \n",
    "        print(\"String contains Special Characters.\") \n",
    "      \n",
    "  \n",
    "\n",
    "if __name__ == '__main__' : \n",
    "      \n",
    "  \n",
    " \n",
    "    test = \"adi@rokade%\"\n",
    "       # calling check_splcharacter function\n",
    "  \n",
    "    check_splcharacter(test) "
   ]
  },
  {
   "cell_type": "code",
   "execution_count": null,
   "metadata": {},
   "outputs": [],
   "source": []
  }
 ],
 "metadata": {
  "kernelspec": {
   "display_name": "Python 3",
   "language": "python",
   "name": "python3"
  },
  "language_info": {
   "codemirror_mode": {
    "name": "ipython",
    "version": 3
   },
   "file_extension": ".py",
   "mimetype": "text/x-python",
   "name": "python",
   "nbconvert_exporter": "python",
   "pygments_lexer": "ipython3",
   "version": "3.7.6"
  }
 },
 "nbformat": 4,
 "nbformat_minor": 4
}
