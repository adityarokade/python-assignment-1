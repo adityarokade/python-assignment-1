{
 "cells": [
  {
   "cell_type": "code",
   "execution_count": 1,
   "metadata": {},
   "outputs": [
    {
     "name": "stdout",
     "output_type": "stream",
     "text": [
      "Enter the your year of birth: 2002\n",
      "[2002, 2003, 2004, 2005, 2006]\n"
     ]
    }
   ],
   "source": [
    "#1. Create a list called years_list, starting with the year of your birth, and each year thereafter until the year of your fifth birthday. For example, if you were born in 1980. the list would be years_list = [1980, 1981, 1982, 1983, 1984, 1985].\n",
    "\n",
    "years_list=[]\n",
    "a=int(input(\"Enter the your year of birth: \"))\n",
    "\n",
    "for i in range(5):\n",
    "    res=a+i\n",
    "    years_list.append(res)\n",
    "    \n",
    "print(years_list)"
   ]
  },
  {
   "cell_type": "code",
   "execution_count": 2,
   "metadata": {},
   "outputs": [
    {
     "name": "stdout",
     "output_type": "stream",
     "text": [
      "Enter the your year of birth: 2002\n",
      "Your third birthday is:  2005\n",
      "[2002, 2003, 2004, 2005, 2006]\n"
     ]
    }
   ],
   "source": [
    "#2. In which year in years_list was your third birthday? Remember, you were 0 years of age for your first year.\n",
    "\n",
    "years_list=[]\n",
    "a=int(input(\"Enter the your year of birth: \"))\n",
    "\n",
    "for i in range(5):\n",
    "    res=a+i\n",
    "    years_list.append(res)\n",
    "    if (res-3==a):\n",
    "        print(\"Your third birthday is: \",res)\n",
    "    \n",
    "print(years_list)"
   ]
  },
  {
   "cell_type": "code",
   "execution_count": 3,
   "metadata": {},
   "outputs": [
    {
     "name": "stdout",
     "output_type": "stream",
     "text": [
      "2006\n"
     ]
    }
   ],
   "source": [
    "#3.In the years list, which year were you the oldest?\n",
    "\n",
    "years_list=[2002, 2003, 2004, 2005, 2006]\n",
    "\n",
    "a=max(years_list)\n",
    "print(a)"
   ]
  },
  {
   "cell_type": "code",
   "execution_count": 4,
   "metadata": {},
   "outputs": [
    {
     "name": "stdout",
     "output_type": "stream",
     "text": [
      "['mozzarella', 'cinderella', 'salmonella']\n"
     ]
    },
    {
     "data": {
      "text/plain": [
       "list"
      ]
     },
     "execution_count": 4,
     "metadata": {},
     "output_type": "execute_result"
    }
   ],
   "source": [
    "#4. Make a list called things with these three strings as elements: \"mozzarella\", \"cinderella\", \"salmonella\".\n",
    "\n",
    "\n",
    "\n",
    "things=[\"mozzarella\", \"cinderella\", \"salmonella\"]\n",
    "print(things)\n",
    "type(things)"
   ]
  },
  {
   "cell_type": "code",
   "execution_count": 5,
   "metadata": {},
   "outputs": [
    {
     "name": "stdout",
     "output_type": "stream",
     "text": [
      "Mozzarella\n",
      "Cinderella\n",
      "Salmonella\n",
      "['Mozzarella', 'Cinderella', 'Salmonella']\n"
     ]
    }
   ],
   "source": [
    "#5. Capitalize the element in things that refers to a person and then print the list. Did it change the element in the list?\n",
    "\n",
    "things=[\"mozzarella\", \"cinderella\", \"salmonella\"]\n",
    "new_list=[]\n",
    "for i in things:\n",
    "    a=i.capitalize()\n",
    "    print(a)\n",
    "    new_list.append(a)\n",
    "print(new_list)\n",
    "    \n"
   ]
  },
  {
   "cell_type": "code",
   "execution_count": 6,
   "metadata": {},
   "outputs": [
    {
     "name": "stdout",
     "output_type": "stream",
     "text": [
      "['Groucho', 'Chico', 'Harpo']\n"
     ]
    }
   ],
   "source": [
    "#6. Make a surprise list with the elements \"Groucho,\" \"Chico,\" and \"Harpo.\"\n",
    "\n",
    "surprise=[\"Groucho\",\"Chico\", \"Harpo\"]\n",
    "print(surprise)"
   ]
  },
  {
   "cell_type": "code",
   "execution_count": 7,
   "metadata": {},
   "outputs": [
    {
     "name": "stdout",
     "output_type": "stream",
     "text": [
      "harpo\n"
     ]
    }
   ],
   "source": [
    "#7. Lowercase the last element of the surprise list, reverse it, and then capitalize it.\n",
    "\n",
    "\n",
    "surprise=[\"Groucho\",\"Chico\", \"Harpo\"]\n",
    "res=surprise[-1].lower()\n",
    "res[::-1]\n",
    "res.capitalize()\n",
    "print(res)\n",
    "\n",
    "\n",
    "\n"
   ]
  },
  {
   "cell_type": "code",
   "execution_count": 8,
   "metadata": {},
   "outputs": [
    {
     "name": "stdout",
     "output_type": "stream",
     "text": [
      "{'dog': 'chien', 'cat': 'chat', 'walrus': 'morse'}\n"
     ]
    }
   ],
   "source": [
    "#. Make an English-to-French dictionary called e2f and print it. Here are your starter words: dog is chien, cat is chat, and walrus is morse.\n",
    "\n",
    "\n",
    "\n",
    "e2f={\"dog\":\"chien\",\"cat\":\"chat\",\"walrus\":\"morse\"}\n",
    "print(e2f)"
   ]
  },
  {
   "cell_type": "code",
   "execution_count": 9,
   "metadata": {},
   "outputs": [
    {
     "name": "stdout",
     "output_type": "stream",
     "text": [
      "morse\n"
     ]
    }
   ],
   "source": [
    "# Write the French word for walrus in your three-word dictionary e2f.\n",
    "e2f={\"dog\":\"chien\",\"cat\":\"chat\",\"walrus\":\"morse\"}\n",
    "print(e2f['walrus'])\n"
   ]
  },
  {
   "cell_type": "code",
   "execution_count": 10,
   "metadata": {},
   "outputs": [
    {
     "name": "stdout",
     "output_type": "stream",
     "text": [
      "{'chien': 'dog', 'chat': 'cat', 'morse': 'walrus'}\n"
     ]
    }
   ],
   "source": [
    "# Make a French-to-English dictionary called f2e from e2f. Use the items method.\n",
    "\n",
    "\n",
    "\n",
    "e2f = {'dog': 'chien', 'cat': 'chat', 'walrus': 'morse'}\n",
    "f2e = {}\n",
    "for english, french in e2f.items():\n",
    "    f2e[french] = english\n",
    "    \n",
    "print(f2e)"
   ]
  },
  {
   "cell_type": "code",
   "execution_count": 11,
   "metadata": {},
   "outputs": [
    {
     "name": "stdout",
     "output_type": "stream",
     "text": [
      "dog\n"
     ]
    }
   ],
   "source": [
    "#11. Print the English version of the French word chien using f2e.\n",
    "\n",
    "f2e={'chien': 'dog', 'chat': 'cat', 'morse': 'walrus'}\n",
    "\n",
    "print(f2e['chien'])"
   ]
  },
  {
   "cell_type": "code",
   "execution_count": 12,
   "metadata": {},
   "outputs": [
    {
     "name": "stdout",
     "output_type": "stream",
     "text": [
      "{'dog', 'walrus', 'cat'}\n"
     ]
    }
   ],
   "source": [
    "#Make and print a set of English words from the keys in e2f.\n",
    "\n",
    "e2f = {'dog': 'chien', 'cat': 'chat', 'walrus': 'morse'}\n",
    "\n",
    "se=set()\n",
    "for i in e2f.keys():\n",
    "    se.add(i)\n",
    "print(se)\n"
   ]
  },
  {
   "cell_type": "code",
   "execution_count": 13,
   "metadata": {},
   "outputs": [
    {
     "name": "stdout",
     "output_type": "stream",
     "text": [
      "{'animals': {'cats': ['Henri', 'Grumpy', 'Lucy'], 'octopi': {}, 'emus': {}}, 'plants': {}, 'other': {}}\n"
     ]
    }
   ],
   "source": [
    "#Make a multilevel dictionary called life. Use these strings for the topmost keys: 'animals', 'plants', and 'other'. Make the 'animals' key refer to another dictionary with the keys 'cats', 'octopi', and 'emus'. Make the 'cats' key refer to a list of strings with the values 'Henri', 'Grumpy', and 'Lucy'. Make all the other keys refer to empty dictionaries.\n",
    "\n",
    "\n",
    "\n",
    "life={'animals':{'cats':['Henri','Grumpy','Lucy'],'octopi':{},'emus':{}}, 'plants':{},'other':{}}\n",
    "print(life)"
   ]
  },
  {
   "cell_type": "code",
   "execution_count": 14,
   "metadata": {},
   "outputs": [
    {
     "name": "stdout",
     "output_type": "stream",
     "text": [
      "dict_keys(['animals', 'plants', 'other'])\n"
     ]
    }
   ],
   "source": [
    "#14. Print the top-level keys of life.\n",
    "\n",
    "life={'animals':{'cats':['Henri','Grumpy','Lucy'],'octopi':{},'emus':{}}, 'plants':{},'other':{}}\n",
    "\n",
    "print(life.keys())"
   ]
  },
  {
   "cell_type": "code",
   "execution_count": 15,
   "metadata": {},
   "outputs": [
    {
     "name": "stdout",
     "output_type": "stream",
     "text": [
      "dict_keys(['cats', 'octopi', 'emus'])\n"
     ]
    }
   ],
   "source": [
    "#15. Print the keys for life['animals'].\n",
    "\n",
    "life={'animals':{'cats':['Henri','Grumpy','Lucy'],'octopi':{},'emus':{}}, 'plants':{},'other':{}}\n",
    "\n",
    "print(life['animals'].keys())"
   ]
  },
  {
   "cell_type": "code",
   "execution_count": 16,
   "metadata": {},
   "outputs": [
    {
     "name": "stdout",
     "output_type": "stream",
     "text": [
      "['Henri', 'Grumpy', 'Lucy']\n"
     ]
    }
   ],
   "source": [
    "#16. Print the values for life['animals']['cats']\n",
    "\n",
    "life={'animals':{'cats':['Henri','Grumpy','Lucy'],'octopi':{},'emus':{}}, 'plants':{},'other':{}}\n",
    "\n",
    "print(life['animals']['cats'])"
   ]
  },
  {
   "cell_type": "code",
   "execution_count": null,
   "metadata": {},
   "outputs": [],
   "source": []
  }
 ],
 "metadata": {
  "kernelspec": {
   "display_name": "Python 3",
   "language": "python",
   "name": "python3"
  },
  "language_info": {
   "codemirror_mode": {
    "name": "ipython",
    "version": 3
   },
   "file_extension": ".py",
   "mimetype": "text/x-python",
   "name": "python",
   "nbconvert_exporter": "python",
   "pygments_lexer": "ipython3",
   "version": "3.7.6"
  }
 },
 "nbformat": 4,
 "nbformat_minor": 4
}
