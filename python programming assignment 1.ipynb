{
 "cells": [
  {
   "cell_type": "code",
   "execution_count": 3,
   "metadata": {},
   "outputs": [
    {
     "name": "stdout",
     "output_type": "stream",
     "text": [
      "Hello Python\n",
      "\n",
      "or we can write as\n",
      "Hello Python\n"
     ]
    }
   ],
   "source": [
    "#1. Write a Python program to print 'Hello Python'?\n",
    "\n",
    "a=\"Hello Python\"\n",
    "\n",
    "print(a)\n",
    "print()\n",
    "print(\"or we can write as\")\n",
    "print(\"Hello Python\")\n"
   ]
  },
  {
   "cell_type": "code",
   "execution_count": 6,
   "metadata": {},
   "outputs": [
    {
     "name": "stdout",
     "output_type": "stream",
     "text": [
      "Arithmetical operations\n",
      "Enter the first number : 2\n",
      "Enter the second number : 4\n",
      "6\n",
      "0.5\n"
     ]
    }
   ],
   "source": [
    "#2. Write a Python program to do arithmetical operations addition and division.?\n",
    "\n",
    "\n",
    "print(\"Arithmetical operations\")\n",
    "a=int(input(\"Enter the first number : \"))\n",
    "b=int(input(\"Enter the second number : \"))\n",
    "c=a+b                                                     #addition \n",
    "print(c)\n",
    "\n",
    "d=a/b                                                   #division\n",
    "\n",
    "print(d)"
   ]
  },
  {
   "cell_type": "code",
   "execution_count": 10,
   "metadata": {},
   "outputs": [
    {
     "name": "stdout",
     "output_type": "stream",
     "text": [
      "Enter the base of the triangle5\n",
      "Enter the hight of the triangle10\n",
      "The area of the triangle is : 25.0\n"
     ]
    }
   ],
   "source": [
    "#3. Write a Python program to find the area of a triangle?\n",
    "\n",
    "\n",
    "\n",
    "class triangle:\n",
    "    \n",
    "    def __init__(self,b,h):\n",
    "        self.b=b\n",
    "        self.h=h\n",
    "        \n",
    "    def area(self):\n",
    "         print(\"The area of the triangle is :\",(0.5*b*h))\n",
    "            \n",
    "b=int(input(\"Enter the base of the triangle\"))\n",
    "h=int(input(\"Enter the hight of the triangle\"))\n",
    "            \n",
    "T=triangle(b,h)\n",
    "T.area()"
   ]
  },
  {
   "cell_type": "code",
   "execution_count": 16,
   "metadata": {},
   "outputs": [
    {
     "name": "stdout",
     "output_type": "stream",
     "text": [
      "Enter value of a: 8\n",
      "Enter value of b: 10\n",
      "The value of x after swapping is:  10\n",
      "The value of y after swapping is:  8\n"
     ]
    }
   ],
   "source": [
    "#4. Write a Python program to swap two variables?\n",
    "\n",
    "a = input(\"Enter value of a: \")  \n",
    "b = input(\"Enter value of b: \") \n",
    "\n",
    "\n",
    "sw=a\n",
    "a=b\n",
    "b=sw\n",
    "  \n",
    "print('The value of x after swapping is: ',a)\n",
    "print('The value of y after swapping is: ',b)  "
   ]
  },
  {
   "cell_type": "code",
   "execution_count": 2,
   "metadata": {},
   "outputs": [
    {
     "name": "stdout",
     "output_type": "stream",
     "text": [
      "0\n",
      "2\n",
      "4\n",
      "6\n",
      "8\n",
      "\n",
      "1\n",
      "3\n",
      "5\n",
      "7\n",
      "9\n",
      "\n"
     ]
    }
   ],
   "source": [
    "#5 write a python programmeto genrete a random number ? \n",
    "for i in range(0,10,2):\n",
    "    print(i)\n",
    "print()\n",
    "for j in range(1,10,2):\n",
    "    print(j)\n",
    "print() \n"
   ]
  },
  {
   "cell_type": "code",
   "execution_count": null,
   "metadata": {},
   "outputs": [],
   "source": []
  }
 ],
 "metadata": {
  "kernelspec": {
   "display_name": "Python 3",
   "language": "python",
   "name": "python3"
  },
  "language_info": {
   "codemirror_mode": {
    "name": "ipython",
    "version": 3
   },
   "file_extension": ".py",
   "mimetype": "text/x-python",
   "name": "python",
   "nbconvert_exporter": "python",
   "pygments_lexer": "ipython3",
   "version": "3.7.4"
  }
 },
 "nbformat": 4,
 "nbformat_minor": 4
}
