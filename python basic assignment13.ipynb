{
 "cells": [
  {
   "cell_type": "code",
   "execution_count": 2,
   "metadata": {},
   "outputs": [
    {
     "name": "stdout",
     "output_type": "stream",
     "text": [
      "In Excel, spreadsheets can have values of data types other than strings; cells can have different fonts, sizes, or color settings; cells can have varying widths and heights; adjacent cells can be merged; and you can embed\n"
     ]
    }
   ],
   "source": [
    "#1. What advantages do Excel spreadsheets have over CSV spreadsheets?\n",
    "print(\"In Excel, spreadsheets can have values of data types other than strings; cells can have different fonts, sizes, or color settings; cells can have varying widths and heights; adjacent cells can be merged; and you can embed\")"
   ]
  },
  {
   "cell_type": "code",
   "execution_count": 3,
   "metadata": {},
   "outputs": [
    {
     "name": "stdout",
     "output_type": "stream",
     "text": [
      "we can pass  a File object, obtained from a call to open().\n"
     ]
    }
   ],
   "source": [
    "#2.What do you pass to csv.reader() and csv.writer() to create reader and writer objects?\n",
    "print(\"we can pass  a File object, obtained from a call to open().\")"
   ]
  },
  {
   "cell_type": "code",
   "execution_count": 4,
   "metadata": {},
   "outputs": [
    {
     "name": "stdout",
     "output_type": "stream",
     "text": [
      "File objects need to be opened in read-binary ('rb')or('r') for Reader objects and write-binary ('wb')or('w') for Writer objects.\n"
     ]
    }
   ],
   "source": [
    "#3. What modes do File objects for reader and writer objects need to be opened in?\n",
    "print(\"File objects need to be opened in read-binary ('rb')or('r') for Reader objects and write-binary ('wb')or('w') for Writer objects.\")"
   ]
  },
  {
   "cell_type": "code",
   "execution_count": 5,
   "metadata": {},
   "outputs": [
    {
     "name": "stdout",
     "output_type": "stream",
     "text": [
      "The writerow() method is used to take a list of argument\n"
     ]
    }
   ],
   "source": [
    "#4. What method takes a list argument and writes it to a CSV file?\n",
    "print(\"The writerow() method is used to take a list of argument\")"
   ]
  },
  {
   "cell_type": "code",
   "execution_count": 6,
   "metadata": {},
   "outputs": [
    {
     "name": "stdout",
     "output_type": "stream",
     "text": [
      "The delimiter argument changes the string used to separate cells in a row. The lineterminator argument changes the string used to separate rows.\n"
     ]
    }
   ],
   "source": [
    "#5. What do the keyword arguments delimiter and line terminator do?\n",
    "print(\"The delimiter argument changes the string used to separate cells in a row. The lineterminator argument changes the string used to separate rows.\")"
   ]
  },
  {
   "cell_type": "code",
   "execution_count": 7,
   "metadata": {},
   "outputs": [
    {
     "name": "stdout",
     "output_type": "stream",
     "text": [
      "json.loads() fun is used to takes a string of JSON data\n"
     ]
    }
   ],
   "source": [
    "#6. What function takes a string of JSON data and returns a Python data structure?\n",
    "print(\"json.loads() fun is used to takes a string of JSON data\")"
   ]
  },
  {
   "cell_type": "code",
   "execution_count": 8,
   "metadata": {},
   "outputs": [
    {
     "name": "stdout",
     "output_type": "stream",
     "text": [
      "json.dumps() function returns the JSON data\n"
     ]
    }
   ],
   "source": [
    "#7. What function takes a Python data structure and returns a string of JSON data?\n",
    "print(\"json.dumps() function returns the JSON data\")"
   ]
  },
  {
   "cell_type": "code",
   "execution_count": null,
   "metadata": {},
   "outputs": [],
   "source": []
  }
 ],
 "metadata": {
  "kernelspec": {
   "display_name": "Python 3",
   "language": "python",
   "name": "python3"
  },
  "language_info": {
   "codemirror_mode": {
    "name": "ipython",
    "version": 3
   },
   "file_extension": ".py",
   "mimetype": "text/x-python",
   "name": "python",
   "nbconvert_exporter": "python",
   "pygments_lexer": "ipython3",
   "version": "3.7.6"
  }
 },
 "nbformat": 4,
 "nbformat_minor": 4
}
