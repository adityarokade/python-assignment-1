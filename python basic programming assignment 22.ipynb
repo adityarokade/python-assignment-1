{
 "cells": [
  {
   "cell_type": "code",
   "execution_count": 6,
   "metadata": {},
   "outputs": [
    {
     "name": "stdout",
     "output_type": "stream",
     "text": [
      "('list is :-', [3, 6, 9])\n",
      "('list is :-', [8])\n",
      "('list is :-', [])\n"
     ]
    }
   ],
   "source": [
    "#Create a function that takes three parameters where:\n",
    "#    • x is the start of the range (inclusive).\n",
    "#    • y is the end of the range (inclusive).\n",
    "#    • n is the divisor to be checked against.\n",
    "#Return an ordered list with numbers in the range that are divisible by the third parameter n. Return an empty list if there are no numbers that are divisible by n.\n",
    "\n",
    "\n",
    "\n",
    "def list_creater(x,y,n):\n",
    "    l=[]\n",
    "    for i in range(x,y):\n",
    "        if i%n==0:\n",
    "            l.append(i)\n",
    "            \n",
    "    return(\"list is :-\",l)\n",
    "print(list_creater(1,10,3))\n",
    "print(list_creater(7,9,2))\n",
    "print(list_creater(15,20,7))"
   ]
  },
  {
   "cell_type": "code",
   "execution_count": 7,
   "metadata": {},
   "outputs": [
    {
     "name": "stdout",
     "output_type": "stream",
     "text": [
      "('list is :-', [3, 6, 9])\n",
      "('list is :-', [8])\n",
      "('list is :-', [])\n"
     ]
    }
   ],
   "source": [
    "#Create a function that takes in two lists and returns True if the second list follows the first list by one element, and False otherwise. In other words, determine if the second list is the first list shifted to the right by 1.\n",
    "\n",
    "\n",
    "def list_creater(x,y,n):\n",
    "    l=[]\n",
    "    for i in range(x,y):\n",
    "        if i%n==0:\n",
    "            l.append(i)\n",
    "            \n",
    "    return(\"list is :-\",l)\n",
    "print(list_creater(1,10,3))\n",
    "print(list_creater(7,9,2))\n",
    "print(list_creater(15,20,7))\n"
   ]
  },
  {
   "cell_type": "code",
   "execution_count": 34,
   "metadata": {},
   "outputs": [
    {
     "data": {
      "text/plain": [
       "('new_word=', 'AMS')"
      ]
     },
     "execution_count": 34,
     "metadata": {},
     "output_type": "execute_result"
    }
   ],
   "source": [
    "#A group of friends have decided to start a secret society. The name will be the first letter of each of their names, sorted in alphabetical order.\n",
    "#Create a function that takes in a list of names and returns the name of the secret society.\n",
    "\n",
    "\n",
    "def society_name(l):\n",
    "    l1=[]\n",
    "    l2=[]\n",
    "    for i in l:\n",
    "        l1.append(i[0])\n",
    "    \n",
    "    \n",
    "    l1.sort()\n",
    "    \n",
    "    \n",
    "    new_word=\"\".join(l1)\n",
    "    \n",
    "    return(\"new_word=\",new_word)\n",
    "society_name([\"Adam\", \"Sarah\", \"Malcolm\"])\n",
    "            \n",
    "    \n",
    "            \n",
    "            "
   ]
  },
  {
   "cell_type": "code",
   "execution_count": 49,
   "metadata": {},
   "outputs": [
    {
     "name": "stdout",
     "output_type": "stream",
     "text": [
      "True\n",
      "False\n",
      "False\n"
     ]
    }
   ],
   "source": [
    "#An isogram is a word that has no duplicate letters. Create a function that takes a string and returns either True or False depending on whether or not it's an \"isogram\"\n",
    "\n",
    "\n",
    "\n",
    "def is_isogram(a):\n",
    "    a=a.lower()\n",
    "    l=[]\n",
    "    b=True\n",
    "    for i in a:\n",
    "        \n",
    "        if i in l:\n",
    "            b=False\n",
    "        l.append(i)\n",
    "    return(b)\n",
    "    \n",
    "        \n",
    "print(is_isogram(\"Algorism\"))\n",
    "print(is_isogram(\"PasSword\"))\n",
    "print(is_isogram(\"Consecutive\"))"
   ]
  },
  {
   "cell_type": "code",
   "execution_count": 56,
   "metadata": {},
   "outputs": [
    {
     "data": {
      "text/plain": [
       "True"
      ]
     },
     "execution_count": 56,
     "metadata": {},
     "output_type": "execute_result"
    }
   ],
   "source": [
    "#Create a function that takes a string and returns True or False, depending on whether the characters are in order or not.\n",
    " \n",
    "    \n",
    "def is_in_order(s):\n",
    "   \n",
    " \n",
    "    \n",
    "    c = [s[i] for i in range(len(s))]\n",
    " \n",
    "   \n",
    "    c.sort(reverse = False)\n",
    " \n",
    "    \n",
    "    for i in range(len(s)):\n",
    "        if (c[i] != s[i]):\n",
    "            return False\n",
    "         \n",
    "    return True\n",
    "    \n",
    "is_in_order(\"abc\")\n",
    "    "
   ]
  }
 ],
 "metadata": {
  "kernelspec": {
   "display_name": "Python 3",
   "language": "python",
   "name": "python3"
  },
  "language_info": {
   "codemirror_mode": {
    "name": "ipython",
    "version": 3
   },
   "file_extension": ".py",
   "mimetype": "text/x-python",
   "name": "python",
   "nbconvert_exporter": "python",
   "pygments_lexer": "ipython3",
   "version": "3.7.6"
  }
 },
 "nbformat": 4,
 "nbformat_minor": 4
}
