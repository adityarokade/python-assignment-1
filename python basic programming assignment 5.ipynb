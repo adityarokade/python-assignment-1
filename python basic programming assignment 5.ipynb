{
 "cells": [
  {
   "cell_type": "code",
   "execution_count": 3,
   "metadata": {},
   "outputs": [
    {
     "name": "stdout",
     "output_type": "stream",
     "text": [
      "Enter first number: 3\n",
      "Enter second number: 4\n",
      "The L.C.M. of 3 and 4 is 12\n"
     ]
    }
   ],
   "source": [
    "#1. Write a Python Program to Find LCM?\n",
    "\n",
    "\n",
    "def lcm(x, y):  \n",
    "    if x > y:  \n",
    "        greater = x  \n",
    "    else:  \n",
    "        greater = y  \n",
    "    while(True):  \n",
    "        if((greater % x == 0) and (greater % y == 0)):  \n",
    "            lcm = greater  \n",
    "            break  \n",
    "        greater += 1  \n",
    "    return lcm \n",
    "\n",
    "num1 = int(input(\"Enter first number: \"))  \n",
    "num2 = int(input(\"Enter second number: \"))  \n",
    "print(\"The L.C.M. of\", num1,\"and\", num2,\"is\", lcm(num1, num2))  "
   ]
  },
  {
   "cell_type": "code",
   "execution_count": 5,
   "metadata": {},
   "outputs": [
    {
     "name": "stdout",
     "output_type": "stream",
     "text": [
      "Enter first number: 12\n",
      "Enter second number: 4\n",
      "The H.C.F. of 12 and 4 is 4\n"
     ]
    }
   ],
   "source": [
    "#2. Write a Python Program to Find HCF?\n",
    "\n",
    "\n",
    "\n",
    "def hcf(x, y):  \n",
    "    if x > y:  \n",
    "        smaller = y  \n",
    "    else:  \n",
    "        smaller = x  \n",
    "    for i in range(1,smaller + 1):  \n",
    "        if((x % i == 0) and (y % i == 0)):  \n",
    "            hcf = i  \n",
    "    return hcf  \n",
    "  \n",
    "num1 = int(input(\"Enter first number: \"))  \n",
    "num2 = int(input(\"Enter second number: \"))  \n",
    "print(\"The H.C.F. of\", num1,\"and\", num2,\"is\", hcf(num1, num2))  "
   ]
  },
  {
   "cell_type": "code",
   "execution_count": 16,
   "metadata": {},
   "outputs": [
    {
     "name": "stdout",
     "output_type": "stream",
     "text": [
      "Enter the int number:  5\n",
      "decimal form is: 5\n",
      "0b101 in binary form\n",
      "0o5 in octal number\n",
      "0x5 in hexadecimal form\n"
     ]
    }
   ],
   "source": [
    "#3. Write a Python Program to Convert Decimal to Binary, Octal and Hexadecimal?\n",
    "\n",
    "\n",
    "a=int(input(\"Enter the int number:  \"))\n",
    "\n",
    "print(\"decimal form is:\",a)\n",
    "      \n",
    "print(bin(a),\"in binary form\")\n",
    "print(oct(a),\"in octal number\")\n",
    "print(hex(a),\"in hexadecimal form\")\n"
   ]
  },
  {
   "cell_type": "code",
   "execution_count": 18,
   "metadata": {},
   "outputs": [
    {
     "name": "stdout",
     "output_type": "stream",
     "text": [
      "Enter the value: A\n",
      "The ASCII value is : 65\n"
     ]
    }
   ],
   "source": [
    "#4. Write a Python Program To Find ASCII value of a character?\n",
    "\n",
    "\n",
    "\n",
    "\n",
    "a=input(\"Enter the value: \")\n",
    "\n",
    "print(\"The ASCII value is :\",ord(a))"
   ]
  },
  {
   "cell_type": "code",
   "execution_count": 23,
   "metadata": {},
   "outputs": [
    {
     "name": "stdout",
     "output_type": "stream",
     "text": [
      "1)add ,2)sub  ,3)multi ,4) div \n",
      "ENTER THE 1 NUMBER: 8\n",
      "ENTER THE 2 NUMBER: 4\n",
      " Enter the operation no:4\n",
      "The div  of a/b is :  2.0 And b/a is: 0.5\n"
     ]
    }
   ],
   "source": [
    "#5. Write a Python Program to Make a Simple Calculator with 4 basic mathematical operations?\n",
    "\n",
    "\n",
    "\n",
    "print(\"1)add ,2)sub  ,3)multi ,4) div \")\n",
    "a=int(input(\"ENTER THE 1 NUMBER: \"))\n",
    "b=int(input(\"ENTER THE 2 NUMBER: \"))\n",
    "c=int(input(\" Enter the operation no:\"))\n",
    "        \n",
    "class cal:\n",
    "    def __init__(self,a,b,c):\n",
    "        self.a=a\n",
    "        self.b=b\n",
    "        self.c=c\n",
    "                \n",
    "        \n",
    "        \n",
    "    def show(self):\n",
    "        if (c==1):\n",
    "            print(\"The add is :\",a+b)\n",
    "            \n",
    "        elif(c==2):\n",
    "            if(a>b):\n",
    "                print(\"The sub is:  \",a-b)\n",
    "            else:\n",
    "                print(\"The sub is : \", b-a)\n",
    "                \n",
    "        elif(c==3):\n",
    "            print(\"The multi is:  \",a*b)\n",
    "        elif(c==4):\n",
    "            print(\"The div  of a/b is : \",a/b,\"And b/a is:\",b/a)\n",
    "            \n",
    "        \n",
    "            \n",
    "sc=cal(a,b,c)\n",
    "sc.show()\n",
    "        \n",
    "        \n",
    "        "
   ]
  },
  {
   "cell_type": "code",
   "execution_count": null,
   "metadata": {},
   "outputs": [],
   "source": []
  },
  {
   "cell_type": "code",
   "execution_count": null,
   "metadata": {},
   "outputs": [],
   "source": []
  }
 ],
 "metadata": {
  "kernelspec": {
   "display_name": "Python 3",
   "language": "python",
   "name": "python3"
  },
  "language_info": {
   "codemirror_mode": {
    "name": "ipython",
    "version": 3
   },
   "file_extension": ".py",
   "mimetype": "text/x-python",
   "name": "python",
   "nbconvert_exporter": "python",
   "pygments_lexer": "ipython3",
   "version": "3.7.4"
  }
 },
 "nbformat": 4,
 "nbformat_minor": 4
}
