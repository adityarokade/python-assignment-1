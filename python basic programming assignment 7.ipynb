{
 "cells": [
  {
   "cell_type": "code",
   "execution_count": 1,
   "metadata": {},
   "outputs": [
    {
     "name": "stdout",
     "output_type": "stream",
     "text": [
      "the sum  is : 36\n"
     ]
    }
   ],
   "source": [
    "# 1 Write a Python Program to find sum of array?\n",
    "\n",
    "import array \n",
    "aa=array.array('i',[1,2,3,4,5,6,7,8])\n",
    "\n",
    "a=sum(aa)\n",
    "print(\"the sum  is :\",a)"
   ]
  },
  {
   "cell_type": "code",
   "execution_count": 2,
   "metadata": {},
   "outputs": [
    {
     "name": "stdout",
     "output_type": "stream",
     "text": [
      "53\n"
     ]
    }
   ],
   "source": [
    "#2 Write a Python Program to find largest element in an array?\n",
    "\n",
    "import array\n",
    "a2=array.array('i',[1,2,53,4,5,6,7,8])\n",
    "b=max(a2)\n",
    "print(b)"
   ]
  },
  {
   "cell_type": "code",
   "execution_count": 3,
   "metadata": {},
   "outputs": [],
   "source": [
    "#3 Write a Python Program for array rotation?\n",
    "\n",
    "from array import*\n",
    "\n",
    "a3=array('i',[1,2,3,4,5,6,78,51,67])\n",
    "\n",
    "\n"
   ]
  },
  {
   "cell_type": "code",
   "execution_count": 4,
   "metadata": {},
   "outputs": [
    {
     "name": "stdout",
     "output_type": "stream",
     "text": [
      "Enter the no of elements:5\n",
      "enter element1\n",
      "enter element2\n",
      "enter element3\n",
      "enter element4\n",
      "enter element5\n",
      "3 4 5 1 2 "
     ]
    }
   ],
   "source": [
    "#4 Write a Python Program to Split the array and add the first part to the end?\n",
    "from array import*\n",
    "def splitArr(a, n, k): \n",
    "   b = a[:k]\n",
    "   return (a[k::]+b[::])\n",
    "\n",
    "\n",
    "arr=array('i',[])\n",
    "n=int(input(\"Enter the no of elements:\"))\n",
    "\n",
    "for i in range(n):\n",
    "    arr.append(int(input(\"enter element\")))          \n",
    "  \n",
    "\n",
    "\n",
    "n = len(arr)\n",
    "position = 2\n",
    "arr = splitArr(arr, n, position)\n",
    "for i in range(0, n): \n",
    "    \n",
    "        print(arr[i], end = ' ')"
   ]
  },
  {
   "cell_type": "code",
   "execution_count": 6,
   "metadata": {},
   "outputs": [
    {
     "name": "stdout",
     "output_type": "stream",
     "text": [
      "Enter the how many no of elements in array :5\n",
      "enter element1\n",
      "enter element2\n",
      "enter element3\n",
      "enter element4\n",
      "enter element5\n",
      "True\n"
     ]
    }
   ],
   "source": [
    "# 5Write a Python Program to check if given array is Monotonic?\n",
    "def isMonotonic(A):\n",
    "  \n",
    "    return (all(A[i] <= A[i + 1] for i in range(len(A) - 1)) or\n",
    "            all(A[i] >= A[i + 1] for i in range(len(A) - 1)))\n",
    "  \n",
    "A=array('i',[])\n",
    "n=int(input(\"Enter the how many no of elements in array :\"))\n",
    "\n",
    "for i in range(n):\n",
    "    A.append(int(input(\"enter element\")))    \n",
    "  \n",
    "\n",
    "print(isMonotonic(A))\n",
    "  "
   ]
  },
  {
   "cell_type": "markdown",
   "metadata": {},
   "source": [
    " "
   ]
  }
 ],
 "metadata": {
  "kernelspec": {
   "display_name": "Python 3",
   "language": "python",
   "name": "python3"
  },
  "language_info": {
   "codemirror_mode": {
    "name": "ipython",
    "version": 3
   },
   "file_extension": ".py",
   "mimetype": "text/x-python",
   "name": "python",
   "nbconvert_exporter": "python",
   "pygments_lexer": "ipython3",
   "version": "3.7.6"
  }
 },
 "nbformat": 4,
 "nbformat_minor": 4
}
