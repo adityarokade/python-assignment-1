{
 "cells": [
  {
   "cell_type": "code",
   "execution_count": 17,
   "metadata": {},
   "outputs": [
    {
     "name": "stdout",
     "output_type": "stream",
     "text": [
      "no\n",
      "no\n"
     ]
    },
    {
     "data": {
      "text/plain": [
       "[1, 2, -3]"
      ]
     },
     "execution_count": 17,
     "metadata": {},
     "output_type": "execute_result"
    }
   ],
   "source": [
    "#Create a function that takes a list of non-negative integers and strings and return a new list without the strings.\n",
    "\n",
    "def check_int(l):\n",
    "    new_list=[]\n",
    "    n=len(l)\n",
    "    for i in range(n):\n",
    "        if(type(l[i])==int):\n",
    "            new_list.append(l[i])\n",
    "        else:\n",
    "            print(\"no\")\n",
    "            \n",
    "    return new_list\n",
    "        \n",
    "        \n",
    "l=[1, 2,-3, \"a\", \"b\"]\n",
    "\n",
    "    \n",
    "check_int(l)\n",
    "            \n",
    "    "
   ]
  },
  {
   "cell_type": "code",
   "execution_count": 41,
   "metadata": {},
   "outputs": [
    {
     "name": "stdout",
     "output_type": "stream",
     "text": [
      "['R', 'E', 'S', 'R', 'E', 'V', 'E', 'r']\n"
     ]
    }
   ],
   "source": [
    "#The \"Reverser\" takes a string as input and returns that string in reverse order, with the opposite case.\n",
    "\n",
    "def string_operation(s):\n",
    "    a=s.swapcase()\n",
    "    l=[]\n",
    "    \n",
    "    for i in a:\n",
    "        l.append(i)\n",
    "    l.reverse()\n",
    "    print(l)\n",
    "    \n",
    "    \n",
    "    \n",
    "    \n",
    "    \n",
    "s=\"Reverser\"   \n",
    "string_operation(s)\n",
    "    "
   ]
  },
  {
   "cell_type": "code",
   "execution_count": 42,
   "metadata": {},
   "outputs": [
    {
     "name": "stdout",
     "output_type": "stream",
     "text": [
      "First element in list is: 1\n",
      "Middle elements are : [2, 3, 4, 56, 77, 8, 99]\n",
      "last element in list is 67\n"
     ]
    }
   ],
   "source": [
    "#...Your task is to unpack the list writeyourcodehere into three variables, being first, middle, and last, with middle being everything in between the first and last element. Then print all three variables....\n",
    "\n",
    "def list_operation(l):\n",
    "    first=l[0]\n",
    "    middle = l[1:-1]\n",
    "    last = l[-1]\n",
    "    print(\"First element in list is:\",first)\n",
    "    print(\"Middle elements are :\",middle)\n",
    "    print(\"last element in list is\",last)\n",
    "  \n",
    "l=[1,2,3,4,56,77,8,99,67]\n",
    "list_operation(l)"
   ]
  },
  {
   "cell_type": "code",
   "execution_count": 47,
   "metadata": {},
   "outputs": [
    {
     "data": {
      "text/plain": [
       "120"
      ]
     },
     "execution_count": 47,
     "metadata": {},
     "output_type": "execute_result"
    }
   ],
   "source": [
    "#Write a function that calculates the factorial of a number recursively.\n",
    "\n",
    "def cal_factorial(n):\n",
    "    \n",
    "    if n==0:\n",
    "        return 1\n",
    "    return n* cal_factorial(n-1)\n",
    "    \n",
    "cal_factorial(5)\n",
    "    \n",
    "        "
   ]
  },
  {
   "cell_type": "code",
   "execution_count": 50,
   "metadata": {},
   "outputs": [
    {
     "name": "stdout",
     "output_type": "stream",
     "text": [
      "[4, 3, 2, 1, 8, 7, 9, 9]\n"
     ]
    }
   ],
   "source": [
    "#Write a function that moves all elements of one type to the end of the list.\n",
    "\n",
    "def remover(lis,n):\n",
    "    \n",
    "    li=[]\n",
    "    for i in range(len(lis)):\n",
    "        if(lis[i]!=n):\n",
    "            li.insert(0,lis[i])\n",
    "        else:\n",
    "            li.append(lis[i])\n",
    "            \n",
    "            \n",
    "            \n",
    "    print(li)\n",
    "lis=[7, 8, 9, 1, 2, 3,9, 4]\n",
    "n=9\n",
    "\n",
    "remover(lis,n)"
   ]
  },
  {
   "cell_type": "code",
   "execution_count": null,
   "metadata": {},
   "outputs": [],
   "source": []
  }
 ],
 "metadata": {
  "kernelspec": {
   "display_name": "Python 3",
   "language": "python",
   "name": "python3"
  },
  "language_info": {
   "codemirror_mode": {
    "name": "ipython",
    "version": 3
   },
   "file_extension": ".py",
   "mimetype": "text/x-python",
   "name": "python",
   "nbconvert_exporter": "python",
   "pygments_lexer": "ipython3",
   "version": "3.7.6"
  }
 },
 "nbformat": 4,
 "nbformat_minor": 4
}
