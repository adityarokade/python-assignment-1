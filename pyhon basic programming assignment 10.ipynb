{
 "cells": [
  {
   "cell_type": "code",
   "execution_count": 8,
   "metadata": {},
   "outputs": [
    {
     "name": "stdout",
     "output_type": "stream",
     "text": [
      "Enter the number of elements in list:5\n",
      "Enter the element:1\n",
      "Enter the element:2\n",
      "Enter the element:3\n",
      "Enter the element:4\n",
      "Enter the element:5\n",
      "sum is : 15\n",
      "[1, 2, 3, 4, 5]\n",
      "<class 'list'>\n"
     ]
    }
   ],
   "source": [
    "#Write a Python program to find sum of elements in list?\n",
    "\n",
    "l=[]\n",
    "n=int(input(\"Enter the number of elements in list:\"))\n",
    "for i in range(n):\n",
    "    l.append(int(input(\"Enter the element:\")))\n",
    "    \n",
    "sum=0\n",
    "for j in range(len(l)):\n",
    "    sum=sum+l[j]\n",
    "    \n",
    "    \n",
    "print(\"sum is :\",sum)\n",
    "    \n",
    "    \n"
   ]
  },
  {
   "cell_type": "code",
   "execution_count": 9,
   "metadata": {},
   "outputs": [
    {
     "name": "stdout",
     "output_type": "stream",
     "text": [
      "Enter the number of elements in list:5\n",
      "Enter the element:1\n",
      "Enter the element:2\n",
      "Enter the element:3\n",
      "Enter the element:4\n",
      "Enter the element:5\n",
      "Enter the no to multiply:2\n",
      "before: [1, 2, 3, 4, 5]\n",
      "after: [2, 4, 6, 8, 10]\n"
     ]
    }
   ],
   "source": [
    "#Write a Python program to  Multiply all numbers in the list?\n",
    "\n",
    "l=[]\n",
    "n=int(input(\"Enter the number of elements in list:\"))\n",
    "for i in range(n):\n",
    "    l.append(int(input(\"Enter the element:\")))\n",
    "l1=[]\n",
    "m=int(input(\"Enter the no to multiply:\"))\n",
    "for j in range(len(l)):\n",
    "    b=m*l[j]\n",
    "    l1.append(b)\n",
    "    \n",
    "print(\"before multiplying:\",l)\n",
    "print(\"after multiplying:\",l1)\n",
    "    "
   ]
  },
  {
   "cell_type": "code",
   "execution_count": 13,
   "metadata": {},
   "outputs": [
    {
     "name": "stdout",
     "output_type": "stream",
     "text": [
      "Enter the number of elements in list:5\n",
      "Enter the element:1\n",
      "Enter the element:2\n",
      "Enter the element:3\n",
      "Enter the element:4\n",
      "Enter the element:5\n",
      "The lowest number is:  1\n"
     ]
    }
   ],
   "source": [
    "#Write a Python program to find smallest number in a list?\n",
    "\n",
    "l=[]\n",
    "n=int(input(\"Enter the number of elements in list:\"))\n",
    "for i in range(n):\n",
    "    l.append(int(input(\"Enter the element:\")))\n",
    "a=min(l)\n",
    "print(\"The lowest number is: \",a)"
   ]
  },
  {
   "cell_type": "code",
   "execution_count": 14,
   "metadata": {},
   "outputs": [
    {
     "name": "stdout",
     "output_type": "stream",
     "text": [
      "Enter the number of elements in list:6\n",
      "Enter the element:3\n",
      "Enter the element:5\n",
      "Enter the element:7\n",
      "Enter the element:2\n",
      "Enter the element:5\n",
      "Enter the element:9\n",
      "The largest number is:  9\n"
     ]
    }
   ],
   "source": [
    "#Write a Python program to find largest number in a list?\n",
    "l=[]\n",
    "n=int(input(\"Enter the number of elements in list:\"))\n",
    "for i in range(n):\n",
    "    l.append(int(input(\"Enter the element:\")))\n",
    "a=max(l)\n",
    "print(\"The largest number is: \",a)"
   ]
  },
  {
   "cell_type": "code",
   "execution_count": 22,
   "metadata": {},
   "outputs": [
    {
     "name": "stdout",
     "output_type": "stream",
     "text": [
      "Enter the number of elements in list:5\n",
      "Enter the element:12\n",
      "Enter the element:8\n",
      "Enter the element:34\n",
      "Enter the element:6\n",
      "Enter the element:89\n",
      "list is : [6, 8, 12, 34, 89]\n",
      "second largest element is : 34\n"
     ]
    }
   ],
   "source": [
    "#Write a Python program to find second largest number in a list?\n",
    "\n",
    "l=[]\n",
    "n=int(input(\"Enter the number of elements in list:\"))\n",
    "for i in range(n):\n",
    "    l.append(int(input(\"Enter the element:\")))\n",
    "    \n",
    "\n",
    "l.sort()\n",
    "print(\"list is :\",l)\n",
    "print(\"second largest element is :\",l[-2])\n"
   ]
  },
  {
   "cell_type": "code",
   "execution_count": 25,
   "metadata": {},
   "outputs": [
    {
     "name": "stdout",
     "output_type": "stream",
     "text": [
      "Enter the number of elements in list:5\n",
      "Enter the element:1\n",
      "Enter the element:2\n",
      "Enter the element:3\n",
      "Enter the element:4\n",
      "Enter the element:5\n",
      "list is : [1, 2, 3, 4, 5]\n",
      "Enter the index number of list:3\n",
      "second largest element is : 3\n"
     ]
    }
   ],
   "source": [
    "#Write a Python program to find N largest elements from a list?\n",
    "l=[]\n",
    "n=int(input(\"Enter the number of elements in list:\"))\n",
    "for i in range(n):\n",
    "    l.append(int(input(\"Enter the element:\")))\n",
    "print(\"list is :\",l)\n",
    "n=int(input(\"Enter the index number of list:\"))\n",
    "\n",
    "l.sort()\n",
    "print(\"second largest element is :\",l[-n])\n",
    "    \n",
    "\n"
   ]
  },
  {
   "cell_type": "code",
   "execution_count": 30,
   "metadata": {},
   "outputs": [
    {
     "name": "stdout",
     "output_type": "stream",
     "text": [
      "Enter the number of elements in list:8\n",
      "Enter the element:1\n",
      "Enter the element:2\n",
      "Enter the element:3\n",
      "Enter the element:4\n",
      "Enter the element:5\n",
      "Enter the element:6\n",
      "Enter the element:7\n",
      "Enter the element:8\n",
      "list is : [1, 2, 3, 4, 5, 6, 7, 8]\n",
      "  \n",
      "  \n",
      "  \n",
      "  \n",
      "even numbers list is: [2, 4, 6, 8]\n"
     ]
    }
   ],
   "source": [
    "#Write a Python program to print even numbers in a list?\n",
    "\n",
    "l=[]\n",
    "n=int(input(\"Enter the number of elements in list:\"))\n",
    "for i in range(n):\n",
    "    l.append(int(input(\"Enter the element:\")))\n",
    "print(\"list is :\",l)\n",
    "l1=[]\n",
    "for i in l:\n",
    "    if (i%2==0):\n",
    "        l1.append(i)\n",
    "       \n",
    "        \n",
    "    else:\n",
    "        print(\"  \")\n",
    "        \n",
    "print(\"even numbers list is:\",l1)"
   ]
  },
  {
   "cell_type": "code",
   "execution_count": 31,
   "metadata": {},
   "outputs": [
    {
     "name": "stdout",
     "output_type": "stream",
     "text": [
      "Enter the number of elements in list:9\n",
      "Enter the element:1\n",
      "Enter the element:2\n",
      "Enter the element:3\n",
      "Enter the element:4\n",
      "Enter the element:5\n",
      "Enter the element:6\n",
      "Enter the element:7\n",
      "Enter the element:8\n",
      "Enter the element:9\n",
      "list is : [1, 2, 3, 4, 5, 6, 7, 8, 9]\n",
      " \n",
      " \n",
      " \n",
      " \n",
      "odd numbers list is: [1, 3, 5, 7, 9]\n"
     ]
    }
   ],
   "source": [
    "#Write a Python program to print odd numbers in a List?\n",
    "l=[]\n",
    "n=int(input(\"Enter the number of elements in list:\"))\n",
    "for i in range(n):\n",
    "    l.append(int(input(\"Enter the element:\")))\n",
    "print(\"list is :\",l)\n",
    "l1=[]\n",
    "for i in l:\n",
    "    if (i%2==0):\n",
    "        print(\" \")\n",
    "       \n",
    "        \n",
    "    else:\n",
    "        l1.append(i)\n",
    "        \n",
    "print(\"odd numbers list is:\",l1)\n"
   ]
  },
  {
   "cell_type": "code",
   "execution_count": 42,
   "metadata": {},
   "outputs": [
    {
     "name": "stdout",
     "output_type": "stream",
     "text": [
      "[1, 2, 3, 4, [3, 4, 5], 6, 7]\n"
     ]
    }
   ],
   "source": [
    "#Write a Python program to Remove empty List from List?\n",
    "\n",
    "list=[1,2,3,4,[3,4,5],[],6,[],7]\n",
    "\n",
    "print([x for x in list if x])\n"
   ]
  },
  {
   "cell_type": "code",
   "execution_count": 47,
   "metadata": {},
   "outputs": [
    {
     "name": "stdout",
     "output_type": "stream",
     "text": [
      "Enter the number of elements in list:5\n",
      "Enter the element:1\n",
      "Enter the element:2\n",
      "Enter the element:3\n",
      "Enter the element:4\n",
      "Enter the element:5\n",
      "copying: [1, 2, 3, 4, 5]\n",
      "<class 'list'>\n",
      "cloning list: [1, 2, 3, 4, 5]\n",
      "<class 'list'>\n"
     ]
    }
   ],
   "source": [
    "#Write a Python program to Cloning or Copying a list?\n",
    "l=[]\n",
    "n=int(input(\"Enter the number of elements in list:\"))\n",
    "for i in range(n):\n",
    "    l.append(int(input(\"Enter the element:\")))\n",
    " \n",
    "a=l.copy()\n",
    "print(\"copying:\",a)\n",
    "print(type(a))\n",
    "\n",
    "c=l[:]\n",
    "print(\"cloning list:\",c)\n",
    "print(type(c))\n"
   ]
  },
  {
   "cell_type": "code",
   "execution_count": 51,
   "metadata": {},
   "outputs": [
    {
     "name": "stdout",
     "output_type": "stream",
     "text": [
      "Enter the number of elements in list:5\n",
      "Enter the element:1\n",
      "Enter the element:2\n",
      "Enter the element:1\n",
      "Enter the element:2\n",
      "Enter the element:1\n",
      "[1, 2, 1, 2, 1]\n",
      "enter the number between above list:1\n",
      "3\n"
     ]
    }
   ],
   "source": [
    "#Write a Python program to Count occurrences of an element in a list?\n",
    "l=[]\n",
    "n=int(input(\"Enter the number of elements in list:\"))\n",
    "for i in range(n):\n",
    "    l.append(int(input(\"Enter the element:\")))\n",
    "print(l) \n",
    "b=int(input(\"enter the number between above list:\"))\n",
    "c=l.count(b)\n",
    "print(c)"
   ]
  },
  {
   "cell_type": "code",
   "execution_count": null,
   "metadata": {},
   "outputs": [],
   "source": []
  }
 ],
 "metadata": {
  "kernelspec": {
   "display_name": "Python 3",
   "language": "python",
   "name": "python3"
  },
  "language_info": {
   "codemirror_mode": {
    "name": "ipython",
    "version": 3
   },
   "file_extension": ".py",
   "mimetype": "text/x-python",
   "name": "python",
   "nbconvert_exporter": "python",
   "pygments_lexer": "ipython3",
   "version": "3.7.6"
  }
 },
 "nbformat": 4,
 "nbformat_minor": 4
}
