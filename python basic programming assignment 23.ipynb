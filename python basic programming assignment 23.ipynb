{
 "cells": [
  {
   "cell_type": "code",
   "execution_count": 50,
   "metadata": {},
   "outputs": [
    {
     "data": {
      "text/plain": [
       "True"
      ]
     },
     "execution_count": 50,
     "metadata": {},
     "output_type": "execute_result"
    }
   ],
   "source": [
    "#Create a function that takes a number as an argument and returns True or False depending on whether the number is symmetrical or not. A number is symmetrical when it is the same as its reverse.\n",
    "\n",
    "\n",
    "def is_symmetrical(n):\n",
    "    l=[]\n",
    "    l1=[]\n",
    "    for i in str(n):\n",
    "        l.append(i)\n",
    "        l1.append(i)\n",
    "    l.reverse()\n",
    "    if l1==l:\n",
    "        return True\n",
    "    else:\n",
    "        return False\n",
    "        \n",
    "    \n",
    "is_symmetrical(787)"
   ]
  },
  {
   "cell_type": "code",
   "execution_count": 58,
   "metadata": {},
   "outputs": [
    {
     "data": {
      "text/plain": [
       "24"
      ]
     },
     "execution_count": 58,
     "metadata": {},
     "output_type": "execute_result"
    }
   ],
   "source": [
    "#Given a string of numbers separated by a comma and space, return the product of the numbers.\n",
    "\n",
    "def gen_product(n):\n",
    "\n",
    "    p=1\n",
    "    for i in n:\n",
    "        if i in [' ',',']:\n",
    "            pass\n",
    "        else:\n",
    "            i=int(i)\n",
    "            p=p*i\n",
    "            \n",
    "    return p\n",
    "\n",
    "gen_product(\"2, 3\")\n",
    "gen_product(\"1, 2, 3, 4\")"
   ]
  },
  {
   "cell_type": "code",
   "execution_count": 68,
   "metadata": {},
   "outputs": [
    {
     "data": {
      "text/plain": [
       "'416649'"
      ]
     },
     "execution_count": 68,
     "metadata": {},
     "output_type": "execute_result"
    }
   ],
   "source": [
    "#Create a function that squares every digit of a number.\n",
    "\n",
    "\n",
    "def square_creater(n):\n",
    "    n=str(n)\n",
    "    s=[]\n",
    "    for i in n:\n",
    "        i=int(i)\n",
    "        \n",
    "        s.append(str(i*i))\n",
    "    \n",
    "    square=\"\".join(s)\n",
    "    return square\n",
    "        \n",
    "    \n",
    "\n",
    "square_creater(2483)"
   ]
  },
  {
   "cell_type": "code",
   "execution_count": 75,
   "metadata": {},
   "outputs": [
    {
     "data": {
      "text/plain": [
       "[1, 2, 3]"
      ]
     },
     "execution_count": 75,
     "metadata": {},
     "output_type": "execute_result"
    }
   ],
   "source": [
    "#Create a function that sorts a list and removes all duplicate items from it.\n",
    "\n",
    "def list_checker(l):\n",
    "    s=set(l)\n",
    "    l1=list(s)\n",
    "    l1.sort()\n",
    "    return l1\n",
    "            \n",
    "list_checker([1, 3, 3, 5, 5])\n",
    "list_checker([3, 3, 3, 2, 1])"
   ]
  },
  {
   "cell_type": "code",
   "execution_count": 86,
   "metadata": {},
   "outputs": [
    {
     "data": {
      "text/plain": [
       "6"
      ]
     },
     "execution_count": 86,
     "metadata": {},
     "output_type": "execute_result"
    }
   ],
   "source": [
    "#Create a function that returns the mean of all digits.\n",
    "\n",
    "def mean(n):\n",
    "    n=str(n)\n",
    "    c=0\n",
    "    a=0\n",
    "    for i in n:\n",
    "        c=c+1\n",
    "        i=int(i)\n",
    "        a=a+i\n",
    "    m=a/c\n",
    "    \n",
    "    return int(m)\n",
    "\n",
    "mean(512)  \n",
    "mean(666)"
   ]
  },
  {
   "cell_type": "code",
   "execution_count": null,
   "metadata": {},
   "outputs": [],
   "source": []
  }
 ],
 "metadata": {
  "kernelspec": {
   "display_name": "Python 3",
   "language": "python",
   "name": "python3"
  },
  "language_info": {
   "codemirror_mode": {
    "name": "ipython",
    "version": 3
   },
   "file_extension": ".py",
   "mimetype": "text/x-python",
   "name": "python",
   "nbconvert_exporter": "python",
   "pygments_lexer": "ipython3",
   "version": "3.7.6"
  }
 },
 "nbformat": 4,
 "nbformat_minor": 4
}
