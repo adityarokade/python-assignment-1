{
 "cells": [
  {
   "cell_type": "code",
   "execution_count": 1,
   "metadata": {},
   "outputs": [],
   "source": [
    "#1. Add the current date to the text file today.txt as a string.\n",
    "\n",
    "from datetime import date as dt\n",
    "\n",
    "f=open(\"today.txt\",\"w\")\n",
    "f.write(str(dt.today()))\n",
    "f.close()"
   ]
  },
  {
   "cell_type": "code",
   "execution_count": 2,
   "metadata": {},
   "outputs": [
    {
     "name": "stdout",
     "output_type": "stream",
     "text": [
      "2021-08-14\n"
     ]
    }
   ],
   "source": [
    "#2. Read the text file today.txt into the string today_string\n",
    "\n",
    "\n",
    "f=open(\"today.txt\",\"r\")\n",
    "today_string=f.read()\n",
    "print(today_string)"
   ]
  },
  {
   "cell_type": "code",
   "execution_count": 3,
   "metadata": {},
   "outputs": [
    {
     "name": "stdout",
     "output_type": "stream",
     "text": [
      "<class 'str'>\n"
     ]
    }
   ],
   "source": [
    "#3. Parse the date from today_string.\n",
    "print(type(today_string))"
   ]
  },
  {
   "cell_type": "code",
   "execution_count": 4,
   "metadata": {},
   "outputs": [
    {
     "data": {
      "text/plain": [
       "['python basic programming assignment9.ipynb',\n",
       " 'python basic assignment 19.ipynb',\n",
       " 'python basic assignment 21.ipynb',\n",
       " 'python basic programming assignment 6.ipynb',\n",
       " '__pycache__',\n",
       " 'python basic programming assignment 17.ipynb',\n",
       " 'python basic assignment 18--.ipynb',\n",
       " 'python basic assignment10.ipynb',\n",
       " 'python basic assignment 17.ipynb',\n",
       " 'python basic assignment 14.ipynb',\n",
       " 'books.csv',\n",
       " 'python basic assignment 7.ipynb',\n",
       " 'python basic programming assignment16.ipynb',\n",
       " 'pyhon basic programming assignment 10.ipynb',\n",
       " 'today.txt',\n",
       " 'python  basic programming assignment 11 .ipynb',\n",
       " 'python basic programming assignment 20.ipynb',\n",
       " 'python basic programming assignment8.ipynb',\n",
       " 'python basic assignment 20.ipynb',\n",
       " 'python basic  programming assignment 13.ipynb',\n",
       " 'python basic  programming assignment 19.ipynb',\n",
       " '.ipynb_checkpoints',\n",
       " 'python basic programming assignment18.ipynb',\n",
       " 'python basic programming assignment 12.ipynb',\n",
       " 'python basic assignment16.ipynb',\n",
       " 'python basic assignment 11.ipynb',\n",
       " 'zoo.py',\n",
       " 'test.txt',\n",
       " 'python basic assignment13.ipynb',\n",
       " 'python basic programming assignment 14.ipynb',\n",
       " 'python basic assignment 9.ipynb',\n",
       " 'python basic programming assignment 7.ipynb',\n",
       " 'python basic assignment 15.ipynb',\n",
       " 'python basic programming assignment 15.ipynb',\n",
       " 'python basic assignment 12.ipynb',\n",
       " 'python basic assignment 8 .ipynb']"
      ]
     },
     "execution_count": 4,
     "metadata": {},
     "output_type": "execute_result"
    }
   ],
   "source": [
    "#4. List the files in your current directory\n",
    "import os\n",
    "os.listdir()"
   ]
  },
  {
   "cell_type": "code",
   "execution_count": 7,
   "metadata": {},
   "outputs": [
    {
     "name": "stdout",
     "output_type": "stream",
     "text": [
      "list of files: ['python basic programming assignment9.ipynb', 'python basic assignment 19.ipynb', 'python basic assignment 21.ipynb', 'python basic programming assignment 6.ipynb', '__pycache__', 'python basic programming assignment 17.ipynb', 'python basic assignment 18--.ipynb', 'python basic assignment10.ipynb', 'python basic assignment 17.ipynb', 'python basic assignment 14.ipynb', 'books.csv', 'python basic assignment 7.ipynb', 'python basic programming assignment16.ipynb', 'pyhon basic programming assignment 10.ipynb', 'today.txt', 'python  basic programming assignment 11 .ipynb', 'python basic programming assignment 20.ipynb', 'python basic programming assignment8.ipynb', 'python basic assignment 20.ipynb', 'python basic  programming assignment 13.ipynb', 'python basic  programming assignment 19.ipynb', '.ipynb_checkpoints', 'python basic programming assignment18.ipynb', 'python basic programming assignment 12.ipynb', 'python basic assignment16.ipynb', 'python basic assignment 11.ipynb', 'zoo.py', 'test.txt', 'python basic assignment13.ipynb', 'python basic programming assignment 14.ipynb', 'python basic assignment 9.ipynb', 'python basic programming assignment 7.ipynb', 'python basic assignment 15.ipynb', 'python basic programming assignment 15.ipynb', 'python basic assignment 12.ipynb', 'python basic assignment 8 .ipynb']\n"
     ]
    }
   ],
   "source": [
    "#5. Create a list of all of the files in your parent directory (minimum five files should be available)\n",
    "\n",
    "import os\n",
    "def create_list():\n",
    "    l=[]\n",
    "    \n",
    "    for i in (os.listdir()):\n",
    "        l.append(i)\n",
    "\n",
    "        \n",
    "    print( \"list of files:\",l)\n",
    "create_list()"
   ]
  },
  {
   "cell_type": "code",
   "execution_count": 8,
   "metadata": {},
   "outputs": [
    {
     "name": "stdout",
     "output_type": "stream",
     "text": [
      "Started worker computer_0\n",
      "computer_0 worker finished in 4 seconds\n",
      "Started worker computer_1\n",
      "computer_1 worker finished in 3 seconds\n",
      "Started worker computer_2\n",
      "computer_2 worker finished in 1 seconds\n",
      "Started worker computer_3\n",
      "computer_3 worker finished in 2 seconds\n",
      "Started worker computer_4\n",
      "computer_4 worker finished in 4 seconds\n"
     ]
    }
   ],
   "source": [
    "#6. Use multiprocessing to create three separate processes. Make each one wait a random number of seconds between one and five, print the current time, and then exit.\n",
    "\n",
    "import multiprocessing\n",
    "import random\n",
    "import time\n",
    "def worker(name: str) -> None:\n",
    "    print(f'Started worker {name}')\n",
    "    worker_time = random.choice(range(1, 5))\n",
    "    time.sleep(worker_time)\n",
    "    print(f'{name} worker finished in {worker_time} seconds')\n",
    "if __name__ == '__main__':\n",
    "    processes = []\n",
    "    for i in range(5):\n",
    "        process = multiprocessing.Process(target=worker,args=(f'computer_{i}',))\n",
    "        processes.append(process)\n",
    "        process.start()\n",
    "        for proc in processes:\n",
    "            proc.join()"
   ]
  },
  {
   "cell_type": "code",
   "execution_count": 22,
   "metadata": {},
   "outputs": [
    {
     "name": "stdout",
     "output_type": "stream",
     "text": [
      "2002-01-15 00:00:00\n",
      "<class 'NoneType'>\n"
     ]
    }
   ],
   "source": [
    "#7. Create a date object of your day of birth.\n",
    "import datetime \n",
    "def dateobj(a):\n",
    "    b=datetime.datetime.strptime(a,'%d %m %Y')\n",
    "    print(b)\n",
    "dateobj('15 01 2002')\n",
    "\n",
    "print(type(date))"
   ]
  },
  {
   "cell_type": "code",
   "execution_count": 24,
   "metadata": {},
   "outputs": [
    {
     "name": "stdout",
     "output_type": "stream",
     "text": [
      "Tuesday\n"
     ]
    }
   ],
   "source": [
    "#8. What day of the week was your day of birth?\n",
    "import datetime\n",
    "import calendar\n",
    " \n",
    "def findDay(date):\n",
    "    born = datetime.datetime.strptime(date, '%d %m %Y').weekday()\n",
    "    return (calendar.day_name[born])\n",
    " \n",
    "\n",
    "date = '15 01 2002'\n",
    "print(findDay(date))"
   ]
  },
  {
   "cell_type": "code",
   "execution_count": null,
   "metadata": {},
   "outputs": [],
   "source": []
  }
 ],
 "metadata": {
  "kernelspec": {
   "display_name": "Python 3",
   "language": "python",
   "name": "python3"
  },
  "language_info": {
   "codemirror_mode": {
    "name": "ipython",
    "version": 3
   },
   "file_extension": ".py",
   "mimetype": "text/x-python",
   "name": "python",
   "nbconvert_exporter": "python",
   "pygments_lexer": "ipython3",
   "version": "3.7.6"
  }
 },
 "nbformat": 4,
 "nbformat_minor": 4
}
