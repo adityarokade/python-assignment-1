{
 "cells": [
  {
   "cell_type": "code",
   "execution_count": 1,
   "metadata": {},
   "outputs": [
    {
     "name": "stdout",
     "output_type": "stream",
     "text": [
      "To insert characters that are illegal in a string, use an escape character. An escape character is a backslash \\ followed by the character you want to insert.\n"
     ]
    }
   ],
   "source": [
    "#1. What are escape characters, and how do you use them?\n",
    "print(\"To insert characters that are illegal in a string, use an escape character. An escape character is a backslash \\ followed by the character you want to insert.\")\n",
    "print(\"ex-\\t=tab,\\n =newline\")"
   ]
  },
  {
   "cell_type": "code",
   "execution_count": 8,
   "metadata": {},
   "outputs": [
    {
     "name": "stdout",
     "output_type": "stream",
     "text": [
      "t \t is use for tab and \n",
      " n is used for newline\n",
      "\t=tab,\n",
      "=newline\n"
     ]
    }
   ],
   "source": [
    "#2. What do the escape characters n and t stand for?\n",
    "print(\"t \\t is use for tab and \\n n is used for newline\")\n",
    "print(\"\\t=tab,\\n=newline\")"
   ]
  },
  {
   "cell_type": "code",
   "execution_count": 11,
   "metadata": {},
   "outputs": [
    {
     "name": "stdout",
     "output_type": "stream",
     "text": [
      "An escape character is a backslash \\ followed by the character you want to insert.\n"
     ]
    }
   ],
   "source": [
    "#3. What is the way to include backslash characters in a string?\n",
    "print(\"An escape character is a backslash \\ followed by the character you want to insert.\")"
   ]
  },
  {
   "cell_type": "code",
   "execution_count": 13,
   "metadata": {},
   "outputs": [
    {
     "name": "stdout",
     "output_type": "stream",
     "text": [
      "because the main string having a double quote and in the main string single quote is not generate the error\n",
      "Howl's Moving Castle\n"
     ]
    }
   ],
   "source": [
    "#4. The string &quot;Howl&#39;s Moving Castle&quot; is a correct value. Why isn&#39;t the single quote character in the word Howl&#39;s not escaped a problem?\n",
    "\n",
    "print(\"because the main string having a double quote and in the main string single quote is not generate the error\")\n",
    "print(\"Howl's Moving Castle\")"
   ]
  },
  {
   "cell_type": "code",
   "execution_count": 14,
   "metadata": {},
   "outputs": [
    {
     "name": "stdout",
     "output_type": "stream",
     "text": [
      "The new line character in Python is \n",
      " . It is used to indicate the end of a line of text. You can print strings without adding a new line with end = <character> , which <character> is the character that will be used to separate the lines.\n"
     ]
    }
   ],
   "source": [
    "#5. How do you write a string of newlines if you don&#39;t want to use the n character?\n",
    "print(\"The new line character in Python is \\n . It is used to indicate the end of a line of text. You can print strings without adding a new line with end = <character> , which <character> is the character that will be used to separate the lines.\")"
   ]
  },
  {
   "cell_type": "code",
   "execution_count": 18,
   "metadata": {},
   "outputs": [
    {
     "name": "stdout",
     "output_type": "stream",
     "text": [
      "The value of this expression is: e\n",
      "the value of this expression is: Hello\n",
      "the value of this expression is: Hello\n",
      "the value of this expression is: lo, world!\n"
     ]
    }
   ],
   "source": [
    "#6. What are the values of the given expressions?\n",
    "print(\"The value of this expression is:\",'Hello, world!'[1])\n",
    "print('the value of this expression is:','Hello, world!'[0:5])\n",
    "print('the value of this expression is:','Hello, world!'[:5])\n",
    "print('the value of this expression is:','Hello, world!'[3:])\n"
   ]
  },
  {
   "cell_type": "code",
   "execution_count": 19,
   "metadata": {},
   "outputs": [
    {
     "name": "stdout",
     "output_type": "stream",
     "text": [
      "HELLO\n",
      "True\n",
      "hello\n"
     ]
    }
   ],
   "source": [
    "#7. What are the values of the following expressions?\n",
    "print('Hello'.upper())\n",
    "print('Hello'.upper().isupper())\n",
    "print('Hello'.upper().lower())"
   ]
  },
  {
   "cell_type": "code",
   "execution_count": 23,
   "metadata": {},
   "outputs": [
    {
     "name": "stdout",
     "output_type": "stream",
     "text": [
      "['Remember,', 'remember,', 'the', 'fifth', 'of', 'July.']\n",
      "There-can-only-one.\n"
     ]
    }
   ],
   "source": [
    "#8. What are the values of the following expressions?\n",
    "print('Remember, remember, the fifth of July.'.split())\n",
    "print('-'.join('There can only one.'.split()))"
   ]
  },
  {
   "cell_type": "code",
   "execution_count": 26,
   "metadata": {},
   "outputs": [
    {
     "name": "stdout",
     "output_type": "stream",
     "text": [
      "we can justifying the string by using this method 'rjust()','ljust()',center()\n"
     ]
    }
   ],
   "source": [
    "#9. What are the methods for right-justifying, left-justifying, and centering a string?\n",
    "\n",
    "\n",
    "print(\"we can justifying the string by using this method 'rjust()','ljust()',center()\")"
   ]
  },
  {
   "cell_type": "code",
   "execution_count": 1,
   "metadata": {},
   "outputs": [
    {
     "name": "stdout",
     "output_type": "stream",
     "text": [
      "  adi dattatray rokade    \n"
     ]
    }
   ],
   "source": [
    "#10. What is the best way to remove whitespace characters from the start or end?\n",
    "str=\"  adi dattatray rokade    \"\n",
    "str.strip()\n",
    "print(str)"
   ]
  },
  {
   "cell_type": "code",
   "execution_count": null,
   "metadata": {},
   "outputs": [],
   "source": []
  }
 ],
 "metadata": {
  "kernelspec": {
   "display_name": "Python 3",
   "language": "python",
   "name": "python3"
  },
  "language_info": {
   "codemirror_mode": {
    "name": "ipython",
    "version": 3
   },
   "file_extension": ".py",
   "mimetype": "text/x-python",
   "name": "python",
   "nbconvert_exporter": "python",
   "pygments_lexer": "ipython3",
   "version": "3.7.4"
  }
 },
 "nbformat": 4,
 "nbformat_minor": 4
}
