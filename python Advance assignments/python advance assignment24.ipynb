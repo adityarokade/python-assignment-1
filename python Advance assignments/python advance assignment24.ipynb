{
 "cells": [
  {
   "cell_type": "code",
   "execution_count": 1,
   "id": "c49ed36b",
   "metadata": {},
   "outputs": [
    {
     "name": "stdout",
     "output_type": "stream",
     "text": [
      "Nothing, if a module has already been imported, it's not loaded again. You will simply get a reference to the module that has already been imported (it will come from sys. modules ).\n"
     ]
    }
   ],
   "source": [
    "#Q1. Is it permissible to use several import statements to import the same module? What would the goal be? Can you think of a situation where it would be beneficial?\n",
    "\n",
    "\n",
    "print(\"Nothing, if a module has already been imported, it's not loaded again. You will simply get a reference to the module that has already been imported (it will come from sys. modules ).\")"
   ]
  },
  {
   "cell_type": "code",
   "execution_count": 2,
   "id": "112fed83",
   "metadata": {},
   "outputs": [
    {
     "name": "stdout",
     "output_type": "stream",
     "text": [
      "Characteristics of Modules\n",
      "Modules contain instructions, processing logic, and data.\n",
      "Modules can be separately compiled and stored in a library.\n",
      "Modules can be included in a program.\n",
      "Module segments can be used by invoking a name and some parameters.\n",
      "Module segments can be used by other modules.\n"
     ]
    }
   ],
   "source": [
    "#Q2. What are some of a module's characteristics? (Name at least one.)\n",
    "\n",
    "print(\"\"\"Characteristics of Modules\n",
    "Modules contain instructions, processing logic, and data.\n",
    "Modules can be separately compiled and stored in a library.\n",
    "Modules can be included in a program.\n",
    "Module segments can be used by invoking a name and some parameters.\n",
    "Module segments can be used by other modules.\"\"\")"
   ]
  },
  {
   "cell_type": "code",
   "execution_count": 3,
   "id": "d4b19556",
   "metadata": {},
   "outputs": [
    {
     "name": "stdout",
     "output_type": "stream",
     "text": [
      "When two or more modules rely on each other, this is referred to as a circular dependency. This is due to the fact that each module is defined in terms of the others. Python cyclic imports. Let's take these two python files as an example. # file1\n"
     ]
    }
   ],
   "source": [
    "#Q3. Circular importing, such as when two modules import each other, can lead to dependencies and bugs that aren't visible. How can you go about creating a program that avoids mutual importing?\n",
    "\n",
    "\n",
    "print(\"When two or more modules rely on each other, this is referred to as a circular dependency. This is due to the fact that each module is defined in terms of the others. Python cyclic imports. Let's take these two python files as an example. # file1\")"
   ]
  },
  {
   "cell_type": "code",
   "execution_count": 4,
   "id": "91e7f5b2",
   "metadata": {},
   "outputs": [
    {
     "name": "stdout",
     "output_type": "stream",
     "text": [
      "What is Python __all__ Python __all__ is a list of public objects of that module, as interpreted by import *. The __all__ overrides the default of hiding everything that begins with an underscore. ... It is only in the case of an “import *“, which is not recommended anyway, that the contrast carries any weight\n"
     ]
    }
   ],
   "source": [
    "#Q4. Why is  _ _all_ _ in Python?\n",
    "\n",
    "\n",
    "print(\"What is Python __all__ Python __all__ is a list of public objects of that module, as interpreted by import *. The __all__ overrides the default of hiding everything that begins with an underscore. ... It is only in the case of an “import *“, which is not recommended anyway, that the contrast carries any weight\")"
   ]
  },
  {
   "cell_type": "code",
   "execution_count": 5,
   "id": "fe9fa676",
   "metadata": {},
   "outputs": [
    {
     "name": "stdout",
     "output_type": "stream",
     "text": [
      "In Python, the special name __main__ is used for two important constructs: the name of the top-level environment of the program, which can be checked using the __name__ == '__main__' expression; and. the __main__.py file in Python packages.\n"
     ]
    }
   ],
   "source": [
    "#Q5. In what situation is it useful to refer to the _ _name_ _ attribute or the string '_ _main_ _'?\n",
    "\n",
    "print(\"In Python, the special name __main__ is used for two important constructs: the name of the top-level environment of the program, which can be checked using the __name__ == '__main__' expression; and. the __main__.py file in Python packages.\")"
   ]
  }
 ],
 "metadata": {
  "kernelspec": {
   "display_name": "Python 3 (ipykernel)",
   "language": "python",
   "name": "python3"
  },
  "language_info": {
   "codemirror_mode": {
    "name": "ipython",
    "version": 3
   },
   "file_extension": ".py",
   "mimetype": "text/x-python",
   "name": "python",
   "nbconvert_exporter": "python",
   "pygments_lexer": "ipython3",
   "version": "3.9.7"
  }
 },
 "nbformat": 4,
 "nbformat_minor": 5
}
