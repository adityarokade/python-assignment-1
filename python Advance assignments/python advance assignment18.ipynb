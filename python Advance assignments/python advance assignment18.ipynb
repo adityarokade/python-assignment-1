{
 "cells": [
  {
   "cell_type": "code",
   "execution_count": 1,
   "id": "00f724c2",
   "metadata": {},
   "outputs": [
    {
     "name": "stdout",
     "output_type": "stream",
     "text": [
      "A text file stores data in the form of alphabets, digits and other special symbols by storing their ASCII values and are in a human readable format. ... Whereas, a binary file contains a sequence or a collection of bytes which are not in a human readable format. For example, files with .exe, . mp3, etc extension\n"
     ]
    }
   ],
   "source": [
    "#Q1. Describe the differences between text and binary files in a single paragraph.\n",
    "\n",
    "print(\"A text file stores data in the form of alphabets, digits and other special symbols by storing their ASCII values and are in a human readable format. ... Whereas, a binary file contains a sequence or a collection of bytes which are not in a human readable format. For example, files with .exe, . mp3, etc extension\")"
   ]
  },
  {
   "cell_type": "code",
   "execution_count": 2,
   "id": "0f9cd8f0",
   "metadata": {},
   "outputs": [
    {
     "name": "stdout",
     "output_type": "stream",
     "text": [
      "One of the advantages of binary files is that they are more efficient. In terms of memory, storing values using numeric formats such as IEEE 754, rather than as text characters, tends to use less memory. In addition, binary formats also offer advantages in terms of speed of access.\n"
     ]
    }
   ],
   "source": [
    "#Q2. What are some scenarios where using text files will be the better option? When would you like to use binary files instead of text files?\n",
    "\n",
    "\n",
    "print(\"One of the advantages of binary files is that they are more efficient. In terms of memory, storing values using numeric formats such as IEEE 754, rather than as text characters, tends to use less memory. In addition, binary formats also offer advantages in terms of speed of access.\")"
   ]
  },
  {
   "cell_type": "code",
   "execution_count": 3,
   "id": "edfcae96",
   "metadata": {},
   "outputs": [
    {
     "name": "stdout",
     "output_type": "stream",
     "text": [
      "How Does Binary Work? How Computers Use Binary. Bitwise Logical Operators. Bitwise AND; Bitwise OR; Bitwise XOR; Bitwise NOT. Bitwise Shift Operators.\n"
     ]
    }
   ],
   "source": [
    "#Q3. What are some of the issues with using binary operations to read and write a Python integer directly to disc?\n",
    "\n",
    "print(\"How Does Binary Work? How Computers Use Binary. Bitwise Logical Operators. Bitwise AND; Bitwise OR; Bitwise XOR; Bitwise NOT. Bitwise Shift Operators.\")"
   ]
  },
  {
   "cell_type": "code",
   "execution_count": 4,
   "id": "00ef3028",
   "metadata": {},
   "outputs": [
    {
     "name": "stdout",
     "output_type": "stream",
     "text": [
      ". Using with means that the file will be closed as soon as you leave the block. This is beneficial because closing a file is something that can easily be forgotten and ties up resources that you no longer need\n"
     ]
    }
   ],
   "source": [
    "#Q4. Describe a benefit of using the with keyword instead of explicitly opening a file.\n",
    "\n",
    "print(\". Using with means that the file will be closed as soon as you leave the block. This is beneficial because closing a file is something that can easily be forgotten and ties up resources that you no longer need\")"
   ]
  },
  {
   "cell_type": "code",
   "execution_count": 5,
   "id": "83bdd274",
   "metadata": {},
   "outputs": [
    {
     "name": "stdout",
     "output_type": "stream",
     "text": [
      "Python readline() is a file method that helps to read one complete line from the given file. It has a trailing newline (“\n",
      "”) at the end of the string returned.\n"
     ]
    }
   ],
   "source": [
    "#Q5. Does Python have the trailing newline while reading a line of text? Does Python append a newline when you write a line of text?\n",
    "\n",
    "print(\"Python readline() is a file method that helps to read one complete line from the given file. It has a trailing newline (“\\n”) at the end of the string returned.\")"
   ]
  },
  {
   "cell_type": "code",
   "execution_count": 6,
   "id": "15aee011",
   "metadata": {},
   "outputs": [
    {
     "name": "stdout",
     "output_type": "stream",
     "text": [
      "To access a file randomly, you open the file, seek a particular location, and read from or write to that file. This functionality is possible with the SeekableByteChannel interface. The SeekableByteChannel interface extends channel I/O with the notion of a current position.\n"
     ]
    }
   ],
   "source": [
    "#Q6. What file operations enable for random-access operation?\n",
    "\n",
    "print(\"To access a file randomly, you open the file, seek a particular location, and read from or write to that file. This functionality is possible with the SeekableByteChannel interface. The SeekableByteChannel interface extends channel I/O with the notion of a current position.\")"
   ]
  },
  {
   "cell_type": "code",
   "execution_count": 7,
   "id": "52d74903",
   "metadata": {},
   "outputs": [
    {
     "name": "stdout",
     "output_type": "stream",
     "text": [
      "Structs are best suited for small data structures that contain primarily data that is not intended to be modified after the struct is created. 5) A struct is a value type. If you assign a struct to a new variable, the new variable will contain a copy of the original.\n"
     ]
    }
   ],
   "source": [
    "#Q7. When do you think you'll use the struct package the most?\n",
    "\n",
    "print(\"Structs are best suited for small data structures that contain primarily data that is not intended to be modified after the struct is created. 5) A struct is a value type. If you assign a struct to a new variable, the new variable will contain a copy of the original.\")"
   ]
  },
  {
   "cell_type": "code",
   "execution_count": 8,
   "id": "54344512",
   "metadata": {},
   "outputs": [
    {
     "name": "stdout",
     "output_type": "stream",
     "text": [
      "Pickling is best done with super-fresh vegetables. Save the slightly bruised specimens for soups or other forms of preservation. Almost any vegetable can be pickled, and the shape you choose to pickle in is entirely up to you. For example, carrots can be peeled and sliced into matchsticks or coins\n"
     ]
    }
   ],
   "source": [
    "#Q8. When is pickling the best option?\n",
    "\n",
    "print(\"Pickling is best done with super-fresh vegetables. Save the slightly bruised specimens for soups or other forms of preservation. Almost any vegetable can be pickled, and the shape you choose to pickle in is entirely up to you. For example, carrots can be peeled and sliced into matchsticks or coins\")"
   ]
  },
  {
   "cell_type": "code",
   "execution_count": 9,
   "id": "bc3a5010",
   "metadata": {},
   "outputs": [
    {
     "name": "stdout",
     "output_type": "stream",
     "text": [
      "Purpose: The shelve module implements persistent storage for arbitrary Python objects which can be pickled, using a dictionary-like API. The shelve module can be used as a simple persistent storage option for Python objects when a relational database is overkill.\n"
     ]
    }
   ],
   "source": [
    "#Q9. When will it be best to use the shelve package?\n",
    "\n",
    "print(\"Purpose: The shelve module implements persistent storage for arbitrary Python objects which can be pickled, using a dictionary-like API. The shelve module can be used as a simple persistent storage option for Python objects when a relational database is overkill.\")"
   ]
  },
  {
   "cell_type": "code",
   "execution_count": 10,
   "id": "0a6baa07",
   "metadata": {},
   "outputs": [
    {
     "name": "stdout",
     "output_type": "stream",
     "text": [
      "The shelf dictionary has certain restrictions. Only string data type can be used as key in this special dictionary object, whereas any picklable Python object can be used as value.\n"
     ]
    }
   ],
   "source": [
    "#Q10. What is a special restriction when using the shelve package, as opposed to using other data dictionaries?\n",
    "\n",
    "print(\"The shelf dictionary has certain restrictions. Only string data type can be used as key in this special dictionary object, whereas any picklable Python object can be used as value.\")"
   ]
  },
  {
   "cell_type": "code",
   "execution_count": null,
   "id": "61d526ed",
   "metadata": {},
   "outputs": [],
   "source": []
  }
 ],
 "metadata": {
  "kernelspec": {
   "display_name": "Python 3 (ipykernel)",
   "language": "python",
   "name": "python3"
  },
  "language_info": {
   "codemirror_mode": {
    "name": "ipython",
    "version": 3
   },
   "file_extension": ".py",
   "mimetype": "text/x-python",
   "name": "python",
   "nbconvert_exporter": "python",
   "pygments_lexer": "ipython3",
   "version": "3.9.7"
  }
 },
 "nbformat": 4,
 "nbformat_minor": 5
}
