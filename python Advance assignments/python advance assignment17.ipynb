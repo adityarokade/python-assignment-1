{
 "cells": [
  {
   "cell_type": "code",
   "execution_count": 2,
   "id": "d63e20dc",
   "metadata": {},
   "outputs": [
    {
     "name": "stdout",
     "output_type": "stream",
     "text": [
      "So the difference between the greedy and the non-greedy match is the following: The greedy match will try to match as many repetitions of the quantified pattern as possible. The non-greedy match will try to match as few repetitions of the quantified pattern as possible.\n"
     ]
    }
   ],
   "source": [
    "#Q1. Explain the difference between greedy and non-greedy syntax with visual terms in as few words as possible. What is the bare minimum effort required to transform a greedy pattern into a non-greedy one? What characters or characters can you introduce or change?\n",
    "\n",
    "print(\"So the difference between the greedy and the non-greedy match is the following: The greedy match will try to match as many repetitions of the quantified pattern as possible. The non-greedy match will try to match as few repetitions of the quantified pattern as possible.\")\n",
    "\n",
    "\n"
   ]
  },
  {
   "cell_type": "code",
   "execution_count": 3,
   "id": "d31eb038",
   "metadata": {},
   "outputs": [
    {
     "name": "stdout",
     "output_type": "stream",
     "text": [
      "The search() method returns Match objects. How do you get the actual strings that match the pattern from a Match object? The group() method returns strings of the matched text.\n"
     ]
    }
   ],
   "source": [
    "#Q2. When exactly does greedy versus non-greedy make a difference?  What if you're looking for a non-greedy match but the only one available is greedy?\n",
    "\n",
    "print(\"The search() method returns Match objects. How do you get the actual strings that match the pattern from a Match object? The group() method returns strings of the matched text.\")"
   ]
  },
  {
   "cell_type": "code",
   "execution_count": 4,
   "id": "c81532e6",
   "metadata": {},
   "outputs": [
    {
     "name": "stdout",
     "output_type": "stream",
     "text": [
      "We can solve this problem with the help of Backtracking. For each character in the pattern, if the character is not seen before, we consider all possible sub-strings and recurse to see if it leads to the solution or not. We maintain a map that stores sub-string mapped to a pattern character. If pattern character is seen before, we use the same sub-string present in the map. If we found a solution, for each distinct character in the pattern, we print string mapped to it using our map\n"
     ]
    }
   ],
   "source": [
    "#Q3. In a simple match of a string, which looks only for one match and does not do any replacement, is the use of a nontagged group likely to make any practical difference?\n",
    "\n",
    "print(\"We can solve this problem with the help of Backtracking. For each character in the pattern, if the character is not seen before, we consider all possible sub-strings and recurse to see if it leads to the solution or not. We maintain a map that stores sub-string mapped to a pattern character. If pattern character is seen before, we use the same sub-string present in the map. If we found a solution, for each distinct character in the pattern, we print string mapped to it using our map\")"
   ]
  },
  {
   "cell_type": "code",
   "execution_count": 5,
   "id": "c6323686",
   "metadata": {},
   "outputs": [
    {
     "name": "stdout",
     "output_type": "stream",
     "text": [
      "SLOs reinforce best teaching practices. ... SLOs can formalize good teaching by requiring each of these steps. They promote conversations between educators and their evaluators around student results, which can ultimately foster improved teaching practice and student learning. SLOs are uniquely adaptable.\n"
     ]
    }
   ],
   "source": [
    "#Q4. Describe a scenario in which using a nontagged category would have a significant impact on the program's outcomes.\n",
    "\n",
    "print(\"SLOs reinforce best teaching practices. ... SLOs can formalize good teaching by requiring each of these steps. They promote conversations between educators and their evaluators around student results, which can ultimately foster improved teaching practice and student learning. SLOs are uniquely adaptable.\")\n"
   ]
  },
  {
   "cell_type": "code",
   "execution_count": 6,
   "id": "d10a49f7",
   "metadata": {},
   "outputs": [
    {
     "name": "stdout",
     "output_type": "stream",
     "text": [
      "Positive lookbehind: (? <=Y)X , matches X , but only if there's Y before it. Negative lookbehind\n"
     ]
    }
   ],
   "source": [
    "#Q6. In standard expressions, what is the difference between positive look-ahead and negative look-ahead?\n",
    "\n",
    "print(\"Positive lookbehind: (? <=Y)X , matches X , but only if there's Y before it. Negative lookbehind\")"
   ]
  },
  {
   "cell_type": "code",
   "execution_count": 7,
   "id": "33eb4bf5",
   "metadata": {},
   "outputs": [
    {
     "name": "stdout",
     "output_type": "stream",
     "text": [
      "This is followed by an optional character and a space. The third named group is year. This consists of 1 or more digits. The advantage to named groups is that it adds readability and understandability to the code, so that you can easily see what part of a regular expression match is being referenced.\n"
     ]
    }
   ],
   "source": [
    "#Q7. What is the benefit of referring to groups by name rather than by number in a standard expression?\n",
    "\n",
    "\n",
    "print(\"This is followed by an optional character and a space. The third named group is year. This consists of 1 or more digits. The advantage to named groups is that it adds readability and understandability to the code, so that you can easily see what part of a regular expression match is being referenced.\")"
   ]
  },
  {
   "cell_type": "code",
   "execution_count": 8,
   "id": "899f9c21",
   "metadata": {},
   "outputs": [
    {
     "name": "stdout",
     "output_type": "stream",
     "text": [
      "You can replace data at multiple places in the document if required. ... Extract date from a text string using Snowflake REGEXP_REPLACE FunctionAll the elements of a Linux system form a hierarchy called the “file system”. ... Users can be lumped together into groups and on PWF Linux we place each ...\n"
     ]
    }
   ],
   "source": [
    "#Q8. Can you identify repeated items within a target string using named groups, as in \"The cow jumped over the moon\"?\n",
    "\n",
    "print(\"You can replace data at multiple places in the document if required. ... Extract date from a text string using Snowflake REGEXP_REPLACE Function\"\n",
    "     \"All the elements of a Linux system form a hierarchy called the “file system”. ... Users can be lumped together into groups and on PWF Linux we place each ...\")"
   ]
  },
  {
   "cell_type": "code",
   "execution_count": 9,
   "id": "38f964ff",
   "metadata": {},
   "outputs": [
    {
     "name": "stdout",
     "output_type": "stream",
     "text": [
      "Here you can see that, search() method is able to find a pattern from any position of the string. The re. findall() helps to get a list of all matching patterns. It searches from start or end of the given string\n"
     ]
    }
   ],
   "source": [
    "#Q9. When parsing a string, what is at least one thing that the Scanner interface does for you that the re.findall feature does not?\n",
    "\n",
    "print(\"Here you can see that, search() method is able to find a pattern from any position of the string. The re. findall() helps to get a list of all matching patterns. It searches from start or end of the given string\")"
   ]
  },
  {
   "cell_type": "code",
   "execution_count": 10,
   "id": "551693c3",
   "metadata": {},
   "outputs": [
    {
     "name": "stdout",
     "output_type": "stream",
     "text": [
      "Scanner is a class in java. util package used for obtaining the input of the primitive types like int, double, etc. and strings. ... To create an object of Scanner class, we usually pass the predefined object System.in, which represents the standard input stream\n"
     ]
    }
   ],
   "source": [
    "#Q10. Does a scanner object have to be named scanner?\n",
    "\n",
    "\n",
    "print(\"Scanner is a class in java. util package used for obtaining the input of the primitive types like int, double, etc. and strings. ... To create an object of Scanner class, we usually pass the predefined object System.in, which represents the standard input stream\")"
   ]
  },
  {
   "cell_type": "code",
   "execution_count": null,
   "id": "1b201f39",
   "metadata": {},
   "outputs": [],
   "source": []
  }
 ],
 "metadata": {
  "kernelspec": {
   "display_name": "Python 3 (ipykernel)",
   "language": "python",
   "name": "python3"
  },
  "language_info": {
   "codemirror_mode": {
    "name": "ipython",
    "version": 3
   },
   "file_extension": ".py",
   "mimetype": "text/x-python",
   "name": "python",
   "nbconvert_exporter": "python",
   "pygments_lexer": "ipython3",
   "version": "3.9.7"
  }
 },
 "nbformat": 4,
 "nbformat_minor": 5
}
