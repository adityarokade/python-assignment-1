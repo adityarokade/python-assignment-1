{
 "cells": [
  {
   "cell_type": "code",
   "execution_count": 1,
   "id": "dd3cfafb",
   "metadata": {},
   "outputs": [
    {
     "name": "stdout",
     "output_type": "stream",
     "text": [
      "A regular expression is a specific pattern that provides concise and flexible means to match (specify and recognize) strings of text, such as particular characters, words, or patterns of characters. It can also be used to search for hex strings that represent non-ASCII characters.\n"
     ]
    }
   ],
   "source": [
    "#Q1. What is the benefit of regular expressions?\n",
    "\n",
    "print(\"A regular expression is a specific pattern that provides concise and flexible means to match (specify and recognize) strings of text, such as particular characters, words, or patterns of characters. It can also be used to search for hex strings that represent non-ASCII characters.\")"
   ]
  },
  {
   "cell_type": "code",
   "execution_count": 2,
   "id": "a4bb2798",
   "metadata": {},
   "outputs": [
    {
     "name": "stdout",
     "output_type": "stream",
     "text": [
      "\n"
     ]
    }
   ],
   "source": [
    "#Q2. Describe the difference between the effects of \"(ab)c+\" and \"a(bc)+.\" Which of these, if any, is the unqualified pattern \"abc+\"?\n",
    "\n",
    "\n",
    "print(\"\")"
   ]
  },
  {
   "cell_type": "code",
   "execution_count": 3,
   "id": "0b288028",
   "metadata": {},
   "outputs": [
    {
     "name": "stdout",
     "output_type": "stream",
     "text": [
      "To use of regular expession in python first we need to import the regex by re module-'import re'by using re module we can import the regex and use it.\n"
     ]
    }
   ],
   "source": [
    "#Q3. How much do you need to use the following sentence while using regular expressions?\n",
    "\n",
    "print(\"To use of regular expession in python first we need to import the regex by re module-'import re'\"\n",
    "     \"by using re module we can import the regex and use it.\")"
   ]
  },
  {
   "cell_type": "code",
   "execution_count": 4,
   "id": "b1e5509f",
   "metadata": {},
   "outputs": [
    {
     "name": "stdout",
     "output_type": "stream",
     "text": [
      "Inside a character class, only the character class metacharacters (backslash, circumflex anchor and hyphen) have special meaning.\n"
     ]
    }
   ],
   "source": [
    "#Q4. Which characters have special significance in square brackets when expressing a range, and under what circumstances?\n",
    "\n",
    "print(\"Inside a character class, only the character class metacharacters (backslash, circumflex anchor and hyphen) have special meaning.\")"
   ]
  },
  {
   "cell_type": "code",
   "execution_count": 5,
   "id": "cca6375d",
   "metadata": {},
   "outputs": [
    {
     "name": "stdout",
     "output_type": "stream",
     "text": [
      "We can combine a regular expression pattern into pattern objects, which can be used for pattern matching. It also helps to search a pattern again without rewriting it.\n"
     ]
    }
   ],
   "source": [
    "#Q5. How does compiling a regular-expression object benefit you?\n",
    "\n",
    "\n",
    "print(\"We can combine a regular expression pattern into pattern objects, which can be used for pattern matching. It also helps to search a pattern again without rewriting it.\")"
   ]
  },
  {
   "cell_type": "code",
   "execution_count": 6,
   "id": "c452d24d",
   "metadata": {},
   "outputs": [
    {
     "name": "stdout",
     "output_type": "stream",
     "text": [
      "What is difference in match and search function explain with suitable example? match() searches only from the beginning of the string and return match object if found. ... While re.search() searches for the whole string even if the string contains multi-lines and tries to find a match of the substring in all the lines of string\n"
     ]
    }
   ],
   "source": [
    "#Q6. What are some examples of how to use the match object returned by re.match and re.search?\n",
    "\n",
    "print(\"What is difference in match and search function explain with suitable example? match() searches only from the beginning of the string and return match object if found. ... While re.search() searches for the whole string even if the string contains multi-lines and tries to find a match of the substring in all the lines of string\")"
   ]
  },
  {
   "cell_type": "code",
   "execution_count": 7,
   "id": "ef5721fc",
   "metadata": {},
   "outputs": [
    {
     "name": "stdout",
     "output_type": "stream",
     "text": [
      "In a regular expression it is denoted with a vertical line character | . ... Square brackets allow only characters or character classes. Alternation allows any expressions.\n"
     ]
    }
   ],
   "source": [
    "#Q7. What is the difference between using a vertical bar (|) as an alteration and using square brackets as a character set?\n",
    "\n",
    "print(\"In a regular expression it is denoted with a vertical line character | . ... Square brackets allow only characters or character classes. Alternation allows any expressions.\")"
   ]
  },
  {
   "cell_type": "code",
   "execution_count": 10,
   "id": "e5e1c41a",
   "metadata": {},
   "outputs": [
    {
     "name": "stdout",
     "output_type": "stream",
     "text": [
      "What is the purpose of a raw string in Python? In Python, strings prefixed with r or R , such as r'...' and r\"...\" , are called raw strings and treat backslashes \\ as literal characters. Raw strings are useful when handling strings that use a lot of backslashes, such as Windows paths and regular expression patterns.\n"
     ]
    }
   ],
   "source": [
    "\n",
    "#Q8. In regular-expression search patterns, why is it necessary to use the raw-string indicator (r)? In   replacement strings?\n",
    "\n",
    "print(\"\"\"What is the purpose of a raw string in Python? In Python, strings prefixed with r or R , such as r'...' and r\"...\" , are called raw strings and treat backslashes \\ as literal characters. Raw strings are useful when handling strings that use a lot of backslashes, such as Windows paths and regular expression patterns.\"\"\")"
   ]
  },
  {
   "cell_type": "code",
   "execution_count": null,
   "id": "d85686f3",
   "metadata": {},
   "outputs": [],
   "source": []
  }
 ],
 "metadata": {
  "kernelspec": {
   "display_name": "Python 3 (ipykernel)",
   "language": "python",
   "name": "python3"
  },
  "language_info": {
   "codemirror_mode": {
    "name": "ipython",
    "version": 3
   },
   "file_extension": ".py",
   "mimetype": "text/x-python",
   "name": "python",
   "nbconvert_exporter": "python",
   "pygments_lexer": "ipython3",
   "version": "3.9.7"
  }
 },
 "nbformat": 4,
 "nbformat_minor": 5
}
