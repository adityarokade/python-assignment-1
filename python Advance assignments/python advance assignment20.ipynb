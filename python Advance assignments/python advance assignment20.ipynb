{
 "cells": [
  {
   "cell_type": "code",
   "execution_count": 1,
   "id": "2fb47abd",
   "metadata": {},
   "outputs": [
    {
     "name": "stdout",
     "output_type": "stream",
     "text": [
      "Decimal used within financial applications that require a high degree of accuracy and easy to avoid rounding errors whereas Float used when you stores scientific numbers and for better performance. Performance of Decimals is slower than and float data types\n"
     ]
    }
   ],
   "source": [
    "#1. Compare and contrast the float and Decimal classes' benefits and drawbacks.\n",
    "\n",
    "print(\"Decimal used within financial applications that require a high degree of accuracy and easy to avoid rounding errors whereas Float used when you stores scientific numbers and for better performance. Performance of Decimals is slower than and float data types\")"
   ]
  },
  {
   "cell_type": "code",
   "execution_count": 3,
   "id": "9fd2b07c",
   "metadata": {},
   "outputs": [
    {
     "name": "stdout",
     "output_type": "stream",
     "text": [
      "Use str. format() to print a float with two decimal places Call str. format(number) with \"{:. 2f}\" as str and a float as number to return a string representation of the number with two decimal places. Call print(string) with the formatted float-string as string to print the float.\n"
     ]
    }
   ],
   "source": [
    "#2. Decimal('1.200') and Decimal('1.2') are two objects to consider. In what sense are these the same object? Are these just two ways of representing the exact same value, or do they correspond to different internal states?\n",
    "\n",
    "print('Use str. format() to print a float with two decimal places Call str. format(number) with \"{:. 2f}\" as str and a float as number to return a string representation of the number with two decimal places. Call print(string) with the formatted float-string as string to print the float.')"
   ]
  },
  {
   "cell_type": "code",
   "execution_count": 4,
   "id": "2e072301",
   "metadata": {},
   "outputs": [
    {
     "name": "stdout",
     "output_type": "stream",
     "text": [
      "To find the decimal equivalent of a fraction, divide the numerator by the denominator. Because the number in the numerator is smaller than the number in the denominator, you have to place the decimal point after it and add zeros\n"
     ]
    }
   ],
   "source": [
    "#3. What happens if the equality of Decimal('1.200') and Decimal('1.2') is checked?\n",
    "\n",
    "print(\"To find the decimal equivalent of a fraction, divide the numerator by the denominator. Because the number in the numerator is smaller than the number in the denominator, you have to place the decimal point after it and add zeros\")"
   ]
  },
  {
   "cell_type": "code",
   "execution_count": 5,
   "id": "58ebf7ac",
   "metadata": {},
   "outputs": [
    {
     "name": "stdout",
     "output_type": "stream",
     "text": [
      "The main reason to transfer numeric values in JSON as strings is to eliminate any loss of precision or ambiguity in transfer. It's true that the JSON spec does not specify a precision for numeric values. This does not mean that JSON numbers have infinite precision\n"
     ]
    }
   ],
   "source": [
    "#4. Why is it preferable to start a Decimal object with a string rather than a floating-point value?\n",
    "\n",
    "\n",
    "print(\"The main reason to transfer numeric values in JSON as strings is to eliminate any loss of precision or ambiguity in transfer. It's true that the JSON spec does not specify a precision for numeric values. This does not mean that JSON numbers have infinite precision\")"
   ]
  },
  {
   "cell_type": "code",
   "execution_count": 7,
   "id": "920e7a93",
   "metadata": {},
   "outputs": [
    {
     "name": "stdout",
     "output_type": "stream",
     "text": [
      "Arithmetic with decimalsWe can add, subtract, multiply, and divide decimal numbers. Addition and subtraction of decimal numbers works the same way as whole number addition and subtraction; we just need to make sure that we line up the decimal points.\n"
     ]
    }
   ],
   "source": [
    "#5. In an arithmetic phrase, how simple is it to combine Decimal objects with integers?\n",
    "\n",
    "print(\"Arithmetic with decimals\"\n",
    "      \"We can add, subtract, multiply, and divide decimal numbers. Addition and subtraction of decimal numbers works the same way as whole number addition and subtraction; we just need to make sure that we line up the decimal points.\")"
   ]
  },
  {
   "cell_type": "code",
   "execution_count": 8,
   "id": "86bbcd0c",
   "metadata": {},
   "outputs": [
    {
     "name": "stdout",
     "output_type": "stream",
     "text": [
      "Decimal objects cannot generally be combined with floats or instances of fractions.\n"
     ]
    }
   ],
   "source": [
    "#6. Can Decimal objects and floating-point values be combined easily?\n",
    "\n",
    "\n",
    "print(\"Decimal objects cannot generally be combined with floats or instances of fractions.\")"
   ]
  },
  {
   "cell_type": "code",
   "execution_count": 9,
   "id": "8118a489",
   "metadata": {},
   "outputs": [
    {
     "name": "stdout",
     "output_type": "stream",
     "text": [
      "Overflow. ...\n",
      "Underflow. ...\n",
      "Loss Of Precision In Converting Into Floating Point. ...\n",
      "Adding Numbers Of Very Different Magnitudes. ...\n",
      "Tip 1: Whenever possible, add numbers of similar small magnitude together before trying to add to larger magnitude numbers.\n",
      "Subtracting Numbers Of Similar Magnitudes.\n"
     ]
    }
   ],
   "source": [
    "#7. Using the Fraction class but not the Decimal class, give an example of a quantity that can be expressed with absolute precision.\n",
    "\n",
    "print(\"\"\"Overflow. ...\n",
    "Underflow. ...\n",
    "Loss Of Precision In Converting Into Floating Point. ...\n",
    "Adding Numbers Of Very Different Magnitudes. ...\n",
    "Tip 1: Whenever possible, add numbers of similar small magnitude together before trying to add to larger magnitude numbers.\n",
    "Subtracting Numbers Of Similar Magnitudes.\"\"\")"
   ]
  },
  {
   "cell_type": "code",
   "execution_count": 10,
   "id": "cc33e6ed",
   "metadata": {},
   "outputs": [
    {
     "name": "stdout",
     "output_type": "stream",
     "text": [
      "A float is represented using 32 bits, and each possible combination of bits represents one real number. This means that at most 232 possible real numbers can be exactly represented, even though there are infinitely many real numbers (even between 0 and 1).\n"
     ]
    }
   ],
   "source": [
    "#8. Describe a quantity that can be accurately expressed by the Decimal or Fraction classes but not by a floating-point value.\n",
    "\n",
    "print(\"A float is represented using 32 bits, and each possible combination of bits represents one real number. This means that at most 232 possible real numbers can be exactly represented, even though there are infinitely many real numbers (even between 0 and 1).\")"
   ]
  },
  {
   "cell_type": "code",
   "execution_count": 12,
   "id": "541924f8",
   "metadata": {},
   "outputs": [
    {
     "name": "stdout",
     "output_type": "stream",
     "text": [
      "What is another fraction that names the same amount as 1 2 and 2 4?Let's have a look at examples of some equivalent fractions. Fractions equivalent to 1/2: 2/4, 3/6, 4/8, 5/10 and so on … Fractions equivalent to 1/3: 2/6, 3/9, 4/12, 5/15 and so on ... Fractions equivalent to 2/3: 4/6, 6/9, 8/12, 10/15 and so on …\n"
     ]
    }
   ],
   "source": [
    "#Q9.Consider the following two fraction objects: Fraction(1, 2) and Fraction(1, 2). (5, 10). Is the internal state of these two objects the same? Why do you think that is?\n",
    "\n",
    "print(\"What is another fraction that names the same amount as 1 2 and 2 4?\"\n",
    "      \"Let's have a look at examples of some equivalent fractions. Fractions equivalent to 1/2: 2/4, 3/6, 4/8, 5/10 and so on … Fractions equivalent to 1/3: 2/6, 3/9, 4/12, 5/15 and so on ... Fractions equivalent to 2/3: 4/6, 6/9, 8/12, 10/15 and so on …\")"
   ]
  },
  {
   "cell_type": "code",
   "execution_count": 13,
   "id": "947719ad",
   "metadata": {},
   "outputs": [
    {
     "name": "stdout",
     "output_type": "stream",
     "text": [
      "It would probably be easy to confuse these variables with each other, ... are two main types of relationships between classes: composition and inheritance.\n"
     ]
    }
   ],
   "source": [
    "#Q10. How do the Fraction class and the integer type (int) relate to each other? Containment or inheritance?\n",
    "\n",
    "print(\"It would probably be easy to confuse these variables with each other, ... are two main types of relationships between classes: composition and inheritance.\")"
   ]
  },
  {
   "cell_type": "code",
   "execution_count": null,
   "id": "6736a6b1",
   "metadata": {},
   "outputs": [],
   "source": []
  }
 ],
 "metadata": {
  "kernelspec": {
   "display_name": "Python 3 (ipykernel)",
   "language": "python",
   "name": "python3"
  },
  "language_info": {
   "codemirror_mode": {
    "name": "ipython",
    "version": 3
   },
   "file_extension": ".py",
   "mimetype": "text/x-python",
   "name": "python",
   "nbconvert_exporter": "python",
   "pygments_lexer": "ipython3",
   "version": "3.9.7"
  }
 },
 "nbformat": 4,
 "nbformat_minor": 5
}
