{
 "cells": [
  {
   "cell_type": "code",
   "execution_count": 1,
   "metadata": {},
   "outputs": [
    {
     "name": "stdout",
     "output_type": "stream",
     "text": [
      "As can be seen in the above example, when a string reference is reinitialized with a new value, it is creating a new object rather than overwriting the previous value. In Python, strings are made immutable so that programmers cannot alter the contents of the object (even by mistake). This avoids unnecessary bugs.\n"
     ]
    }
   ],
   "source": [
    "#Q1. Does assigning a value to a string's indexed character violate Python's string immutability?\n",
    "\n",
    "print(\"As can be seen in the above example, when a string reference is reinitialized with a new value, it is creating a new object rather than overwriting the previous value. In Python, strings are made immutable so that programmers cannot alter the contents of the object (even by mistake). This avoids unnecessary bugs.\")"
   ]
  },
  {
   "cell_type": "code",
   "execution_count": 2,
   "metadata": {},
   "outputs": [
    {
     "name": "stdout",
     "output_type": "stream",
     "text": [
      "If you want to concatenate a number, such as an integer int or a floating point float , with a string, convert the number to a string with str() and then use the + operator or += operator.\n"
     ]
    }
   ],
   "source": [
    "#Q2. Does using the += operator to concatenate strings violate Python's string immutability? Why or why not?\n",
    "\n",
    "\n",
    "print(\"If you want to concatenate a number, such as an integer int or a floating point float , with a string, convert the number to a string with str() and then use the + operator or += operator.\")"
   ]
  },
  {
   "cell_type": "code",
   "execution_count": 3,
   "metadata": {},
   "outputs": [
    {
     "name": "stdout",
     "output_type": "stream",
     "text": [
      "Each of a string's characters corresponds to an index number and each character can be accessed using their index number. We can access characters in a String in Two ways : Accessing Characters by Positive Index Number. Accessing Characters by Negative Index Number.\n"
     ]
    }
   ],
   "source": [
    "#Q3. In Python, how many different ways are there to index a character?\n",
    "\n",
    "print(\"Each of a string's characters corresponds to an index number and each character can be accessed using their index number. We can access characters in a String in Two ways : Accessing Characters by Positive Index Number. Accessing Characters by Negative Index Number.\")"
   ]
  },
  {
   "cell_type": "code",
   "execution_count": 4,
   "metadata": {},
   "outputs": [
    {
     "name": "stdout",
     "output_type": "stream",
     "text": [
      "“Indexing” means referring to an element of an iterable by its position within the iterable. “Slicing” means getting a subset of elements from an iterable based on their indices.\n"
     ]
    }
   ],
   "source": [
    "#4. What is the relationship between indexing and slicing?\n",
    "\n",
    "print(\"“Indexing” means referring to an element of an iterable by its position within the iterable. “Slicing” means getting a subset of elements from an iterable based on their indices.\")"
   ]
  },
  {
   "cell_type": "code",
   "execution_count": 5,
   "metadata": {},
   "outputs": [
    {
     "name": "stdout",
     "output_type": "stream",
     "text": [
      "index character data type is string and  sliced object containing elements in the given range only. Index tracker for positive and negative index: Negative comes into considers when tracking the string in reverse\n"
     ]
    }
   ],
   "source": [
    "#Q5. What is an indexed character's exact data type? What is the data form of a slicing-generated substring?\n",
    "\n",
    "\n",
    "print(\"index character data type is string and  sliced object containing elements in the given range only. Index tracker for positive and negative index: Negative comes into considers when tracking the string in reverse\")"
   ]
  },
  {
   "cell_type": "code",
   "execution_count": 6,
   "metadata": {},
   "outputs": [
    {
     "name": "stdout",
     "output_type": "stream",
     "text": [
      "In Python, Strings are arrays of bytes representing Unicode characters. However, Python does not have a character data type, a single character is simply a string with a length of 1. Square brackets can be used to access elements of the string.\n"
     ]
    }
   ],
   "source": [
    "#Q6. What is the relationship between string and character \"types\" in Python?\n",
    "\n",
    "print(\"In Python, Strings are arrays of bytes representing Unicode characters. However, Python does not have a character data type, a single character is simply a string with a length of 1. Square brackets can be used to access elements of the string.\")"
   ]
  },
  {
   "cell_type": "code",
   "execution_count": 7,
   "metadata": {},
   "outputs": [
    {
     "name": "stdout",
     "output_type": "stream",
     "text": [
      "The most common among them is using the plus (“+”) operator. You can combine both string variables and string literals using the “+” operator. However, there's another method that allows an easy way of concatenating multiple strings. It is using the in-place (+=) operator.\n"
     ]
    }
   ],
   "source": [
    "#Q7. Identify at least two operators and one method that allow you to combine one or more smaller strings to create a larger string.\n",
    "\n",
    "\n",
    "print(\"The most common among them is using the plus (“+”) operator. You can combine both string variables and string literals using the “+” operator. However, there's another method that allows an easy way of concatenating multiple strings. It is using the in-place (+=) operator.\")"
   ]
  },
  {
   "cell_type": "code",
   "execution_count": 8,
   "metadata": {},
   "outputs": [
    {
     "name": "stdout",
     "output_type": "stream",
     "text": [
      "the main benefit of ckecking a string is in or not is that if is not in that we will get error because of thet our code become fail \n"
     ]
    }
   ],
   "source": [
    "#Q8. What is the benefit of first checking the target string with in or not in before using the index method to find a substring?\n",
    "\n",
    "\n",
    "print(\"the main benefit of ckecking a string is in or not is that if is not in that we will get error because of thet our code become fail \")"
   ]
  },
  {
   "cell_type": "code",
   "execution_count": 9,
   "metadata": {},
   "outputs": [
    {
     "name": "stdout",
     "output_type": "stream",
     "text": [
      "Except for and and or , they are rarely needed in practice. Because of this, True , False , not , and , and or are the only built-in Python Boolean operators.\n"
     ]
    }
   ],
   "source": [
    "#Q9. Which operators and built-in string methods produce simple Boolean (true/false) results?\n",
    "\n",
    "print(\"Except for and and or , they are rarely needed in practice. Because of this, True , False , not , and , and or are the only built-in Python Boolean operators.\")"
   ]
  },
  {
   "cell_type": "code",
   "execution_count": null,
   "metadata": {},
   "outputs": [],
   "source": []
  }
 ],
 "metadata": {
  "kernelspec": {
   "display_name": "Python 3",
   "language": "python",
   "name": "python3"
  },
  "language_info": {
   "codemirror_mode": {
    "name": "ipython",
    "version": 3
   },
   "file_extension": ".py",
   "mimetype": "text/x-python",
   "name": "python",
   "nbconvert_exporter": "python",
   "pygments_lexer": "ipython3",
   "version": "3.7.6"
  }
 },
 "nbformat": 4,
 "nbformat_minor": 4
}
