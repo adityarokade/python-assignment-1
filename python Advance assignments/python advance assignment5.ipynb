{
 "cells": [
  {
   "cell_type": "code",
   "execution_count": 1,
   "metadata": {},
   "outputs": [
    {
     "name": "stdout",
     "output_type": "stream",
     "text": [
      "Multiple inheritance is a feature of some object-oriented computer programming languages in which an object or class can inherit features from more than one parent object or parent class. ... This can be addressed in various ways, including using virtual inheritance.\n"
     ]
    }
   ],
   "source": [
    "#Q1. What is the meaning of multiple inheritance?\n",
    "\n",
    "print(\"Multiple inheritance is a feature of some object-oriented computer programming languages in which an object or class can inherit features from more than one parent object or parent class. ... This can be addressed in various ways, including using virtual inheritance.\")"
   ]
  },
  {
   "cell_type": "code",
   "execution_count": 2,
   "metadata": {},
   "outputs": [
    {
     "name": "stdout",
     "output_type": "stream",
     "text": [
      "Delegation is commonly defined as the shifting of authority and responsibility for particular functions, tasks or decisions from one person (usually a leader or manager) to another. ... Most delegated tasks take some time, planning and effort to complete properly.\n"
     ]
    }
   ],
   "source": [
    "#Q2. What is the concept of delegation?\n",
    "\n",
    "print(\"Delegation is commonly defined as the shifting of authority and responsibility for particular functions, tasks or decisions from one person (usually a leader or manager) to another. ... Most delegated tasks take some time, planning and effort to complete properly.\")"
   ]
  },
  {
   "cell_type": "code",
   "execution_count": 3,
   "metadata": {},
   "outputs": [
    {
     "name": "stdout",
     "output_type": "stream",
     "text": [
      ": the way in which something is put together or arranged : the combination of parts or elements that make up something. : a piece of writing especially : a brief essay written as a school assignment. : a written piece of music and especially one that is very long or complex.\n"
     ]
    }
   ],
   "source": [
    "#Q3. What is the concept of composition?\n",
    "\n",
    "\n",
    "print(\": the way in which something is put together or arranged : the combination of parts or elements that make up something. : a piece of writing especially : a brief essay written as a school assignment. : a written piece of music and especially one that is very long or complex.\")"
   ]
  },
  {
   "cell_type": "code",
   "execution_count": 4,
   "metadata": {},
   "outputs": [
    {
     "name": "stdout",
     "output_type": "stream",
     "text": [
      "A bound method is the one which is dependent on the instance of the class as the first argument. It passes the instance as the first argument which is used to access the variables and functions. In Python 3 and newer versions of python, all functions in the class are by default bound methods\n"
     ]
    }
   ],
   "source": [
    "#Q4. What are bound methods and how do we use them?\n",
    "\n",
    "\n",
    "print(\"A bound method is the one which is dependent on the instance of the class as the first argument. It passes the instance as the first argument which is used to access the variables and functions. In Python 3 and newer versions of python, all functions in the class are by default bound methods\")"
   ]
  },
  {
   "cell_type": "code",
   "execution_count": 5,
   "metadata": {},
   "outputs": [
    {
     "name": "stdout",
     "output_type": "stream",
     "text": [
      "Pseudoprivate attributes are also useful in larger frameworks or tools, both to avoid introducing new method names that might accidentally hide definitions elsewhere in the class tree and to reduce the chance of internal methods being replaced by names defined lower in the tree.\n"
     ]
    }
   ],
   "source": [
    "#Q5. What is the purpose of pseudoprivate attributes?\n",
    "print(\"Pseudoprivate attributes are also useful in larger frameworks or tools, both to avoid introducing new method names that might accidentally hide definitions elsewhere in the class tree and to reduce the chance of internal methods being replaced by names defined lower in the tree.\")"
   ]
  },
  {
   "cell_type": "code",
   "execution_count": null,
   "metadata": {},
   "outputs": [],
   "source": []
  }
 ],
 "metadata": {
  "kernelspec": {
   "display_name": "Python 3",
   "language": "python",
   "name": "python3"
  },
  "language_info": {
   "codemirror_mode": {
    "name": "ipython",
    "version": 3
   },
   "file_extension": ".py",
   "mimetype": "text/x-python",
   "name": "python",
   "nbconvert_exporter": "python",
   "pygments_lexer": "ipython3",
   "version": "3.7.6"
  }
 },
 "nbformat": 4,
 "nbformat_minor": 4
}
