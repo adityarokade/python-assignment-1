{
 "cells": [
  {
   "cell_type": "code",
   "execution_count": 1,
   "id": "784fede2",
   "metadata": {},
   "outputs": [
    {
     "name": "stdout",
     "output_type": "stream",
     "text": [
      "The Pandas module mainly works with the tabular data, whereas the NumPy module works with the numerical data. ... NumPy library provides objects for multi-dimensional arrays, whereas Pandas is capable of offering an in-memory 2d table object called DataFrame\n"
     ]
    }
   ],
   "source": [
    "#Q1. What is the distinction between a numpy array and a pandas data frame? Is there a way to convert between the two if there is?\n",
    "\n",
    "print(\"The Pandas module mainly works with the tabular data, whereas the NumPy module works with the numerical data. ... NumPy library provides objects for multi-dimensional arrays, whereas Pandas is capable of offering an in-memory 2d table object called DataFrame\")"
   ]
  },
  {
   "cell_type": "code",
   "execution_count": 2,
   "id": "7011c34f",
   "metadata": {},
   "outputs": [
    {
     "name": "stdout",
     "output_type": "stream",
     "text": [
      "A ticker symbol change really means nothing to you, the investor, in the grand scheme of things. The change doesn't do anything to markets or to the way you execute trades. Since everything is electronic, your trading platform or broker will already update your portfolio to include the new ticker symbol.\n"
     ]
    }
   ],
   "source": [
    "#Q2. What can go wrong when an user enters in a stock-ticker symbol, and how do you handle it?\n",
    "\n",
    "print(\"A ticker symbol change really means nothing to you, the investor, in the grand scheme of things. The change doesn't do anything to markets or to the way you execute trades. Since everything is electronic, your trading platform or broker will already update your portfolio to include the new ticker symbol.\")"
   ]
  },
  {
   "cell_type": "code",
   "execution_count": 3,
   "id": "345df5ed",
   "metadata": {},
   "outputs": [
    {
     "name": "stdout",
     "output_type": "stream",
     "text": [
      "However, the four types that are most common are—line chart, bar chart, point and figure chart and candlestick chart.\n"
     ]
    }
   ],
   "source": [
    "#Q3. Identify some of the plotting techniques that are used to produce a stock-market chart.\n",
    "\n",
    "\n",
    "print(\"However, the four types that are most common are—line chart, bar chart, point and figure chart and candlestick chart.\")"
   ]
  },
  {
   "cell_type": "code",
   "execution_count": 4,
   "id": "1b85b311",
   "metadata": {},
   "outputs": [
    {
     "name": "stdout",
     "output_type": "stream",
     "text": [
      "For investors, the stock chart is the tool that separates the novice from the MarketSmith. Stock charts record price and volume history to help you determine whether the stock is appreciating or depreciating in value. But skilled chart readers can determine much more by learning how to read stock charts.\n"
     ]
    }
   ],
   "source": [
    "#Q4. Why is it essential to print a legend on a stock market chart?\n",
    "\n",
    "print(\"For investors, the stock chart is the tool that separates the novice from the MarketSmith. Stock charts record price and volume history to help you determine whether the stock is appreciating or depreciating in value. But skilled chart readers can determine much more by learning how to read stock charts.\")"
   ]
  },
  {
   "cell_type": "code",
   "execution_count": 5,
   "id": "5978d317",
   "metadata": {},
   "outputs": [
    {
     "name": "stdout",
     "output_type": "stream",
     "text": [
      "How to reduce the size of a DataFrame in pandas\n",
      "import pandas as pd. ​ drinks = pd. read_csv('http://bit.ly/drinksbycountry') print(drinks. ...\n",
      "import pandas as pd. ​ cols = ['beer_servings', 'continent'] small_drinks = pd. ...\n",
      "import pandas as pd. ​ dtypes = {'continent':'category'} cols = ['beer_servings', 'continent']\n"
     ]
    }
   ],
   "source": [
    "#Q5. What is the best way to limit the length of a pandas data frame to less than a year?\n",
    "\n",
    "print(\"\"\"How to reduce the size of a DataFrame in pandas\n",
    "import pandas as pd. ​ drinks = pd. read_csv('http://bit.ly/drinksbycountry') print(drinks. ...\n",
    "import pandas as pd. ​ cols = ['beer_servings', 'continent'] small_drinks = pd. ...\n",
    "import pandas as pd. ​ dtypes = {'continent':'category'} cols = ['beer_servings', 'continent']\"\"\")"
   ]
  },
  {
   "cell_type": "code",
   "execution_count": 6,
   "id": "50c67304",
   "metadata": {},
   "outputs": [
    {
     "name": "stdout",
     "output_type": "stream",
     "text": [
      "A stock that is trading below its 200 Day Moving Average is considered to be in a long term downtrend, whereas a stock that is trading above its 200 Day Moving Average is in a long term uptrend.\n"
     ]
    }
   ],
   "source": [
    "#Q6. What is the definition of a 180-day moving average?\n",
    "\n",
    "\n",
    "print(\"A stock that is trading below its 200 Day Moving Average is considered to be in a long term downtrend, whereas a stock that is trading above its 200 Day Moving Average is in a long term uptrend.\")"
   ]
  },
  {
   "cell_type": "code",
   "execution_count": null,
   "id": "d6fcb5c6",
   "metadata": {},
   "outputs": [],
   "source": []
  }
 ],
 "metadata": {
  "kernelspec": {
   "display_name": "Python 3 (ipykernel)",
   "language": "python",
   "name": "python3"
  },
  "language_info": {
   "codemirror_mode": {
    "name": "ipython",
    "version": 3
   },
   "file_extension": ".py",
   "mimetype": "text/x-python",
   "name": "python",
   "nbconvert_exporter": "python",
   "pygments_lexer": "ipython3",
   "version": "3.9.7"
  }
 },
 "nbformat": 4,
 "nbformat_minor": 5
}
