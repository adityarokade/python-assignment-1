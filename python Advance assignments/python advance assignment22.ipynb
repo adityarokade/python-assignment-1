{
 "cells": [
  {
   "cell_type": "code",
   "execution_count": 1,
   "id": "e63664e8",
   "metadata": {},
   "outputs": [
    {
     "name": "stdout",
     "output_type": "stream",
     "text": [
      "So, it also has some quite unique features as follows.Get the Type Code. Since the type code is very important to an array, which determined what kind of elements that the array can have. ...Get Size of Array Item. ...Count the Number of Occurrences. ...Append and Extend. ...Manipulating the Index. ...Array to List.\n"
     ]
    }
   ],
   "source": [
    "#Q1. What are the benefits of the built-in array package, if any?\n",
    "\n",
    "\n",
    "print(\"So, it also has some quite unique features as follows.\"\n",
    "\"Get the Type Code. Since the type code is very important to an array, which determined what kind of elements that the array can have. ...\"\n",
    "\"Get Size of Array Item. ...\"\n",
    "\"Count the Number of Occurrences. ...\"\n",
    "\"Append and Extend. ...\"\n",
    "\"Manipulating the Index. ...\"\n",
    "\"Array to List.\")"
   ]
  },
  {
   "cell_type": "code",
   "execution_count": 3,
   "id": "1fa96e13",
   "metadata": {},
   "outputs": [
    {
     "name": "stdout",
     "output_type": "stream",
     "text": [
      "LimitationsAn array which is formed will be homogeneous. ...While declaring an array, passing size of an array is compulsory, and the size must be a constant. ...Shifting is required for insertion or deletion of elements in an array.\n"
     ]
    }
   ],
   "source": [
    "#Q2. What are some of the array package's limitations?\n",
    "\n",
    "print(\"Limitations\"\n",
    "\"An array which is formed will be homogeneous. ...\"\n",
    "\"While declaring an array, passing size of an array is compulsory, and the size must be a constant. ...\"\n",
    "\"Shifting is required for insertion or deletion of elements in an array.\")"
   ]
  },
  {
   "cell_type": "code",
   "execution_count": 4,
   "id": "bfcd2f7c",
   "metadata": {},
   "outputs": [
    {
     "name": "stdout",
     "output_type": "stream",
     "text": [
      "Numpy is the core library for scientific computing in Python. ... A numpy array is a grid of values, all of the same type, and is indexed by a tuple of nonnegative integers. The number of dimensions is the rank of the array; the shape of an array is a tuple of integers giving the size of the array along each dimension.\n"
     ]
    }
   ],
   "source": [
    "#Q3. Describe the main differences between the array and numpy packages.\n",
    "\n",
    "print(\"Numpy is the core library for scientific computing in Python. ... A numpy array is a grid of values, all of the same type, and is indexed by a tuple of nonnegative integers. The number of dimensions is the rank of the array; the shape of an array is a tuple of integers giving the size of the array along each dimension.\")"
   ]
  },
  {
   "cell_type": "code",
   "execution_count": 5,
   "id": "51b685c9",
   "metadata": {},
   "outputs": [
    {
     "name": "stdout",
     "output_type": "stream",
     "text": [
      "At such sizes, basically the only difference between numpy. empty and numpy. zeros is that empty uses malloc and zeros uses calloc . If you want to check this yourself, you can look at the code for empty and zeros in the NumPy source repository and follow the code paths down to the malloc and calloc calls.\n"
     ]
    }
   ],
   "source": [
    "#Q4. Explain the distinctions between the empty, ones, and zeros functions.\n",
    "\n",
    "print(\"At such sizes, basically the only difference between numpy. empty and numpy. zeros is that empty uses malloc and zeros uses calloc . If you want to check this yourself, you can look at the code for empty and zeros in the NumPy source repository and follow the code paths down to the malloc and calloc calls.\")"
   ]
  },
  {
   "cell_type": "code",
   "execution_count": 6,
   "id": "a8b4e874",
   "metadata": {},
   "outputs": [
    {
     "name": "stdout",
     "output_type": "stream",
     "text": [
      "fromfunction() function construct an array by executing a function over each coordinate and the resulting array, therefore, has a value fn(x, y, z) at coordinate (x, y, z). function : [callable] The function is called with N parameters, where N is the rank of shape. ...\n"
     ]
    }
   ],
   "source": [
    "#Q5. In the fromfunction function, which is used to construct new arrays, what is the role of the callable argument?\n",
    "\n",
    "\n",
    "\n",
    "print(\"fromfunction() function construct an array by executing a function over each coordinate and the resulting array, therefore, has a value fn(x, y, z) at coordinate (x, y, z). function : [callable] The function is called with N parameters, where N is the rank of shape. ...\")"
   ]
  },
  {
   "cell_type": "code",
   "execution_count": null,
   "id": "788ce40f",
   "metadata": {},
   "outputs": [],
   "source": [
    "#Q6. What happens when a numpy array is combined with a single-value operand (a scalar, such as an int or a floating-point value) through addition, as in the expression A + n?\n",
    "\n",
    "\n"
   ]
  },
  {
   "cell_type": "code",
   "execution_count": 7,
   "id": "22a21472",
   "metadata": {},
   "outputs": [
    {
     "name": "stdout",
     "output_type": "stream",
     "text": [
      "We are given desired array target[] containing n elements. Compute and return the smallest possible number of the operations needed to change the array from all zeros to desired array.\n"
     ]
    }
   ],
   "source": [
    "#Q7. Can array-to-scalar operations use combined operation-assign operators (such as += or *=)? What is the outcome?\n",
    "\n",
    "print(\"We are given desired array target[] containing n elements. Compute and return the smallest possible number of the operations needed to change the array from all zeros to desired array.\")"
   ]
  },
  {
   "cell_type": "code",
   "execution_count": 8,
   "id": "00f7f67e",
   "metadata": {},
   "outputs": [
    {
     "name": "stdout",
     "output_type": "stream",
     "text": [
      "NumPy arrays have a fixed size at creation, unlike Python lists (which can grow dynamically). Changing the size of an ndarray will create a new array and delete the original. The elements in a NumPy array are all required to be of the same data type, and thus will be the same size in memory.\n"
     ]
    }
   ],
   "source": [
    "#Q8. Does a numpy array contain fixed-length strings? What happens if you allocate a longer string to one of these arrays.?\n",
    "\n",
    "print(\"NumPy arrays have a fixed size at creation, unlike Python lists (which can grow dynamically). Changing the size of an ndarray will create a new array and delete the original. The elements in a NumPy array are all required to be of the same data type, and thus will be the same size in memory.\")"
   ]
  },
  {
   "cell_type": "code",
   "execution_count": 9,
   "id": "3090b43b",
   "metadata": {},
   "outputs": [
    {
     "name": "stdout",
     "output_type": "stream",
     "text": [
      "add() function is used when we want to compute the addition of two array. It add arguments element-wise. If shape of two arrays are not same, that is arr1\n"
     ]
    }
   ],
   "source": [
    "#Q9. What happens when you combine two numpy arrays using an operation like addition (+) or multiplication (*)? What are the conditions for combining two numpy arrays?\n",
    "\n",
    "\n",
    "print(\"add() function is used when we want to compute the addition of two array. It add arguments element-wise. If shape of two arrays are not same, that is arr1\")"
   ]
  },
  {
   "cell_type": "code",
   "execution_count": 10,
   "id": "3ab35da8",
   "metadata": {},
   "outputs": [
    {
     "name": "stdout",
     "output_type": "stream",
     "text": [
      "Using masked_where() function: Pass the two array in the function as a parameter then use numpy. ma. masked_where() function in which pass the condition for masking and array to be masked. ...Using masked_where(), getmask() and masked_array() function: Pass the two array in the function as a parameter then use numpy. ma.\n"
     ]
    }
   ],
   "source": [
    "#Q10. What is the best way to use a Boolean array to mask another array?\n",
    "\n",
    "\n",
    "print(\"Using masked_where() function: Pass the two array in the function as a parameter then use numpy. ma. masked_where() function in which pass the condition for masking and array to be masked. ...\"\n",
    "\"Using masked_where(), getmask() and masked_array() function: Pass the two array in the function as a parameter then use numpy. ma.\")"
   ]
  },
  {
   "cell_type": "code",
   "execution_count": 11,
   "id": "f0626f60",
   "metadata": {},
   "outputs": [
    {
     "name": "stdout",
     "output_type": "stream",
     "text": [
      "Coding a stdev() Function in Pythonsqrt() to take the square root of the variance. With this new implementation, we can use ddof=0 to calculate the standard deviation of a population, or we can use ddof=1 to estimate the standard deviation of a population using a sample of data.\n"
     ]
    }
   ],
   "source": [
    "#Q11. What are three different ways to get the standard deviation of a wide collection of data using both standard Python and its packages? Sort the three of them by how quickly they execute.\n",
    "\n",
    "print(\"Coding a stdev() Function in Python\"\n",
    "\n",
    "\"sqrt() to take the square root of the variance. With this new implementation, we can use ddof=0 to calculate the standard deviation of a population, or we can use ddof=1 to estimate the standard deviation of a population using a sample of data.\")"
   ]
  }
 ],
 "metadata": {
  "kernelspec": {
   "display_name": "Python 3 (ipykernel)",
   "language": "python",
   "name": "python3"
  },
  "language_info": {
   "codemirror_mode": {
    "name": "ipython",
    "version": 3
   },
   "file_extension": ".py",
   "mimetype": "text/x-python",
   "name": "python",
   "nbconvert_exporter": "python",
   "pygments_lexer": "ipython3",
   "version": "3.9.7"
  }
 },
 "nbformat": 4,
 "nbformat_minor": 5
}
