{
 "cells": [
  {
   "cell_type": "code",
   "execution_count": 1,
   "id": "c243acd1",
   "metadata": {},
   "outputs": [
    {
     "name": "stdout",
     "output_type": "stream",
     "text": [
      "Bar graphs are used to compare things between different groups or to track changes over time. However, when trying to measure change over time, bar graphs are best when the changes are larger.\n"
     ]
    }
   ],
   "source": [
    "#Q1. If you have any, what are your choices for increasing the comparison between different figures on the same graph?\n",
    "\n",
    "print(\"Bar graphs are used to compare things between different groups or to track changes over time. However, when trying to measure change over time, bar graphs are best when the changes are larger.\")"
   ]
  },
  {
   "cell_type": "code",
   "execution_count": 2,
   "id": "23143cad",
   "metadata": {},
   "outputs": [
    {
     "name": "stdout",
     "output_type": "stream",
     "text": [
      "Compound interest causes your wealth to grow faster. It makes a sum of money grow at a faster rate than simple interest because you will earn returns on the money you invest, as well as on returns at the end of every compounding period. This means that you don't have to put away as much money to reach your goals!\n"
     ]
    }
   ],
   "source": [
    "#Q2. Can you explain the benefit of compound interest over a higher rate of interest that does not compound after reading this chapter?\n",
    "\n",
    "\n",
    "print(\"Compound interest causes your wealth to grow faster. It makes a sum of money grow at a faster rate than simple interest because you will earn returns on the money you invest, as well as on returns at the end of every compounding period. This means that you don't have to put away as much money to reach your goals!\")"
   ]
  },
  {
   "cell_type": "code",
   "execution_count": 3,
   "id": "c48acb78",
   "metadata": {},
   "outputs": [
    {
     "name": "stdout",
     "output_type": "stream",
     "text": [
      "NumPy has a numpy. histogram() function that is a graphical representation of the frequency distribution of data. Rectangles of equal horizontal size corresponding to class interval called bin and variable height corresponding to frequency.\n"
     ]
    }
   ],
   "source": [
    "#Q3. What is a histogram, exactly? Name a numpy method for creating such a graph.\n",
    "\n",
    "print(\"NumPy has a numpy. histogram() function that is a graphical representation of the frequency distribution of data. Rectangles of equal horizontal size corresponding to class interval called bin and variable height corresponding to frequency.\")"
   ]
  },
  {
   "cell_type": "code",
   "execution_count": 4,
   "id": "6e4d3c92",
   "metadata": {},
   "outputs": [
    {
     "name": "stdout",
     "output_type": "stream",
     "text": [
      "axis manipulates commonly used axes properties. (See Algorithm section.) axis([xmin xmax ymin ymax]) sets the limits for the x- and y-axis of the current axes. axis([xmin xmax ymin ymax zmin zmax cmin cmax]) sets the x-, y-, and z-axis limits and the color scaling limits (see caxis ) of the current axes.\n"
     ]
    }
   ],
   "source": [
    "#Q4. If necessary, how do you change the aspect ratios between the X and Y axes?\n",
    "\n",
    "print(\"axis manipulates commonly used axes properties. (See Algorithm section.) axis([xmin xmax ymin ymax]) sets the limits for the x- and y-axis of the current axes. axis([xmin xmax ymin ymax zmin zmax cmin cmax]) sets the x-, y-, and z-axis limits and the color scaling limits (see caxis ) of the current axes.\")"
   ]
  },
  {
   "cell_type": "code",
   "execution_count": 5,
   "id": "f6a2944d",
   "metadata": {},
   "outputs": [
    {
     "name": "stdout",
     "output_type": "stream",
     "text": [
      "dot() function, on the other hand, performs multiplication as the sum of products over the last axis of the first array and the second-to-last of the second. Another difference between the matmul() and the numpy. dot function is that the matmul() function cannot perform multiplication of array with scalar values\n"
     ]
    }
   ],
   "source": [
    "#Q5. Compare and contrast the three types of array multiplication between two numpy arrays: dot product, outer product, and regular multiplication of two numpy arrays.\n",
    "\n",
    "print(\"dot() function, on the other hand, performs multiplication as the sum of products over the last axis of the first array and the second-to-last of the second. Another difference between the matmul() and the numpy. dot function is that the matmul() function cannot perform multiplication of array with scalar values\")"
   ]
  },
  {
   "cell_type": "code",
   "execution_count": 6,
   "id": "57489ef8",
   "metadata": {},
   "outputs": [
    {
     "name": "stdout",
     "output_type": "stream",
     "text": [
      "In order to calculate the monthly mortgage payment, you will use the numpy function . pmt(rate, nper, pv) where: rate = The periodic (monthly) interest rate\n"
     ]
    }
   ],
   "source": [
    "#Q6. Before you buy a home, which numpy function will you use to measure your monthly mortgage payment?\n",
    "\n",
    "print(\"In order to calculate the monthly mortgage payment, you will use the numpy function . pmt(rate, nper, pv) where: rate = The periodic (monthly) interest rate\")"
   ]
  },
  {
   "cell_type": "code",
   "execution_count": 7,
   "id": "1f0b32c8",
   "metadata": {},
   "outputs": [
    {
     "name": "stdout",
     "output_type": "stream",
     "text": [
      "The elements of a NumPy array, or simply an array, are usually numbers, but can also be boolians, strings, or other objects.\n"
     ]
    }
   ],
   "source": [
    "#Q7. Can string data be stored in numpy arrays? If so, list at least one restriction that applies to this data.\n",
    "\n",
    "\n",
    "print(\"The elements of a NumPy array, or simply an array, are usually numbers, but can also be boolians, strings, or other objects.\")"
   ]
  },
  {
   "cell_type": "code",
   "execution_count": null,
   "id": "3aae1c4e",
   "metadata": {},
   "outputs": [],
   "source": []
  }
 ],
 "metadata": {
  "kernelspec": {
   "display_name": "Python 3 (ipykernel)",
   "language": "python",
   "name": "python3"
  },
  "language_info": {
   "codemirror_mode": {
    "name": "ipython",
    "version": 3
   },
   "file_extension": ".py",
   "mimetype": "text/x-python",
   "name": "python",
   "nbconvert_exporter": "python",
   "pygments_lexer": "ipython3",
   "version": "3.9.7"
  }
 },
 "nbformat": 4,
 "nbformat_minor": 5
}
