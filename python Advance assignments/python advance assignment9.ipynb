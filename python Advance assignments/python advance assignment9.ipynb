{
 "cells": [
  {
   "cell_type": "code",
   "execution_count": 1,
   "metadata": {},
   "outputs": [
    {
     "name": "stdout",
     "output_type": "stream",
     "text": [
      "1)join() ,2) lstrip() , 3)lower() ,4)upper(),5)ljust(),etc\n"
     ]
    }
   ],
   "source": [
    "#Q1. In Python 3.X, what are the names and functions of string object types?\n",
    "\n",
    "print(\"1)join() ,2) lstrip() , 3)lower() ,4)upper(),5)ljust(),etc\")"
   ]
  },
  {
   "cell_type": "code",
   "execution_count": 2,
   "metadata": {},
   "outputs": [
    {
     "name": "stdout",
     "output_type": "stream",
     "text": [
      "on string we can do following operationsconcatnations,alising,lowwer/upper,strip,len,etc\n"
     ]
    }
   ],
   "source": [
    "#Q2. How do the string forms in Python 3.X vary in terms of operations?\n",
    "\n",
    "print(\"on string we can do following operations\"\n",
    "     \"concatnations,alising,lowwer/upper,strip,len,etc\")"
   ]
  },
  {
   "cell_type": "code",
   "execution_count": 3,
   "metadata": {},
   "outputs": [
    {
     "name": "stdout",
     "output_type": "stream",
     "text": [
      "Python requires explicit encoding and decoding of strings into Unicode\n"
     ]
    }
   ],
   "source": [
    "#Q3. In 3.X, how do you put non-ASCII Unicode characters in a string?\n",
    "\n",
    "\n",
    "print(\"Python requires explicit encoding and decoding of strings into Unicode\")"
   ]
  },
  {
   "cell_type": "code",
   "execution_count": 4,
   "metadata": {},
   "outputs": [
    {
     "name": "stdout",
     "output_type": "stream",
     "text": [
      "the text files we human rediable and binary file are not human rediablethe data is stored in text format in text file and in binary file data is stored in bits-1/0\n"
     ]
    }
   ],
   "source": [
    "#Q4. In Python 3.X, what are the key differences between text-mode and binary-mode files?\n",
    "\n",
    "\n",
    "print(\"the text files we human rediable and binary file are not human rediable\"\n",
    "     \"the data is stored in text format in text file and in binary file data is stored in bits-1/0\")"
   ]
  },
  {
   "cell_type": "code",
   "execution_count": null,
   "metadata": {},
   "outputs": [],
   "source": []
  }
 ],
 "metadata": {
  "kernelspec": {
   "display_name": "Python 3",
   "language": "python",
   "name": "python3"
  },
  "language_info": {
   "codemirror_mode": {
    "name": "ipython",
    "version": 3
   },
   "file_extension": ".py",
   "mimetype": "text/x-python",
   "name": "python",
   "nbconvert_exporter": "python",
   "pygments_lexer": "ipython3",
   "version": "3.7.6"
  }
 },
 "nbformat": 4,
 "nbformat_minor": 4
}
