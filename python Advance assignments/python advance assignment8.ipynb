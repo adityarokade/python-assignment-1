{
 "cells": [
  {
   "cell_type": "code",
   "execution_count": 1,
   "metadata": {},
   "outputs": [
    {
     "name": "stdout",
     "output_type": "stream",
     "text": [
      "user define constraints means the constraints which is created by programmer/user to handled the error/exception.\n"
     ]
    }
   ],
   "source": [
    "#Q1. What are the two latest user-defined exception constraints in Python 3.X?\n",
    "\n",
    "print(\"user define constraints means the constraints which is created by programmer/user to handled the error/exception.\")"
   ]
  },
  {
   "cell_type": "code",
   "execution_count": 3,
   "metadata": {},
   "outputs": [
    {
     "name": "stdout",
     "output_type": "stream",
     "text": [
      "The raise statement has been extended to allow raising a class exception without explicit instantiation. The following forms, called the \"compatibility forms\" of the raise statement, are allowed: ... raise exception, argument. \n"
     ]
    }
   ],
   "source": [
    "#Q2. How are class-based exceptions that have been raised matched to handlers?\n",
    "\n",
    "\n",
    "print('The raise statement has been extended to allow raising a class exception without explicit instantiation. The following forms, called the \"compatibility forms\" of the raise statement, are allowed: ... raise exception, argument. ')"
   ]
  },
  {
   "cell_type": "code",
   "execution_count": 4,
   "metadata": {},
   "outputs": [],
   "source": [
    "#Q3. Describe two methods for attaching context information to exception artefacts.\n",
    "\n",
    "\n",
    "\n",
    "    \n",
    "def foo():\n",
    "    try:\n",
    "        raise IOError('Stuff')\n",
    "    except:\n",
    "        raise\n",
    "\n",
    "def bar(arg1):\n",
    "    try:\n",
    "        foo()\n",
    "    except Exception as e:\n",
    "        raise type(e)(e.message + ' happens at %s' % arg1)"
   ]
  },
  {
   "cell_type": "code",
   "execution_count": 5,
   "metadata": {},
   "outputs": [
    {
     "name": "stdout",
     "output_type": "stream",
     "text": [
      "public String getMessage()Returns a detailed message about the exception that has occurred. This message is initialized in the Throwable constructor.\n"
     ]
    }
   ],
   "source": [
    "#Q4. Describe two methods for specifying the text of an exception object's error message.\n",
    "\n",
    "print(\"public String getMessage()Returns a detailed message about the exception that has occurred. This message is initialized in the Throwable constructor.\")"
   ]
  },
  {
   "cell_type": "code",
   "execution_count": 6,
   "metadata": {},
   "outputs": [
    {
     "name": "stdout",
     "output_type": "stream",
     "text": [
      "Exceptions are invisible. When looking at some code it isn't obvious which things can throw exceptions and which can't. ... If you throw a lot of (different) exceptions, the caller must handle all of them. That may lead them to catch the generic Exception , which is not a good practice\n"
     ]
    }
   ],
   "source": [
    "#Q5. Why do you no longer use string-based exceptions?\n",
    "\n",
    "\n",
    "print(\"Exceptions are invisible. When looking at some code it isn't obvious which things can throw exceptions and which can't. ... If you throw a lot of (different) exceptions, the caller must handle all of them. That may lead them to catch the generic Exception , which is not a good practice\")"
   ]
  },
  {
   "cell_type": "code",
   "execution_count": null,
   "metadata": {},
   "outputs": [],
   "source": []
  }
 ],
 "metadata": {
  "kernelspec": {
   "display_name": "Python 3",
   "language": "python",
   "name": "python3"
  },
  "language_info": {
   "codemirror_mode": {
    "name": "ipython",
    "version": 3
   },
   "file_extension": ".py",
   "mimetype": "text/x-python",
   "name": "python",
   "nbconvert_exporter": "python",
   "pygments_lexer": "ipython3",
   "version": "3.7.6"
  }
 },
 "nbformat": 4,
 "nbformat_minor": 4
}
