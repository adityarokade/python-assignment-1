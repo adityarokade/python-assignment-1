{
 "cells": [
  {
   "cell_type": "code",
   "execution_count": 1,
   "metadata": {},
   "outputs": [
    {
     "name": "stdout",
     "output_type": "stream",
     "text": [
      "OOP-object oriented programming,it is a programming paradigm which uses a classes and objects.it aims to implement a real time entity like inheritance polymorphisms, encapsulation, etc.\n"
     ]
    }
   ],
   "source": [
    "#Q1. What is the purpose of Python's OOP?\n",
    "\n",
    "print(\"OOP-object oriented programming,it is a programming paradigm which uses a classes and objects.it aims to implement a real time entity like inheritance polymorphisms, encapsulation, etc.\")"
   ]
  },
  {
   "cell_type": "code",
   "execution_count": 2,
   "metadata": {},
   "outputs": [
    {
     "name": "stdout",
     "output_type": "stream",
     "text": [
      "In Python, inheritance happens when an object is qualified, and involves searching an attribute definition tree (one or more namespaces). ... attr where object is an instance or class object, Python searches the namespace tree at and above object , for the first attr it can find.\n"
     ]
    }
   ],
   "source": [
    "#Q2. Where does an inheritance search look for an attribute?\n",
    "\n",
    "print(\"In Python, inheritance happens when an object is qualified, and involves searching an attribute definition tree (one or more namespaces). ... attr where object is an instance or class object, Python searches the namespace tree at and above object , for the first attr it can find.\")"
   ]
  },
  {
   "cell_type": "code",
   "execution_count": 3,
   "metadata": {},
   "outputs": [
    {
     "name": "stdout",
     "output_type": "stream",
     "text": [
      "nstance refers to the copy of the object at a particular time whereas object refers to the memory address of the class\n"
     ]
    }
   ],
   "source": [
    "#Q3. How do you distinguish between a class object and an instance object?\n",
    "\n",
    "print(\"nstance refers to the copy of the object at a particular time whereas object refers to the memory address of the class\")"
   ]
  },
  {
   "cell_type": "code",
   "execution_count": 1,
   "metadata": {},
   "outputs": [
    {
     "name": "stdout",
     "output_type": "stream",
     "text": [
      "The first argument of every class method, including init, is always a reference to the current instance of the class. By convention, this argument is always named self. In the init method, self refers to the newly created object; in other class methods, it refers to the instance whose method was called\n"
     ]
    }
   ],
   "source": [
    "#Q4. What makes the first argument in a class’s method function special?\n",
    "\n",
    "print(\"The first argument of every class method, including init, is always a reference to the current instance of the class. By convention, this argument is always named self. In the init method, self refers to the newly created object; in other class methods, it refers to the instance whose method was called\")"
   ]
  },
  {
   "cell_type": "code",
   "execution_count": 2,
   "metadata": {},
   "outputs": [
    {
     "name": "stdout",
     "output_type": "stream",
     "text": [
      "The __init__ method is works as a constructor in python,and the this method is called at a time of calling a class \n"
     ]
    }
   ],
   "source": [
    "#Q5. What is the purpose of the __init__ method?\n",
    "\n",
    "print(\"The __init__ method is works as a constructor in python,and the this method is called at a time of calling a class \")"
   ]
  },
  {
   "cell_type": "code",
   "execution_count": 5,
   "metadata": {},
   "outputs": [
    {
     "name": "stdout",
     "output_type": "stream",
     "text": [
      "welcome\n",
      "In this 'a ' is instance of class\n"
     ]
    }
   ],
   "source": [
    "#Q6. What is the process for creating a class instance?\n",
    "\n",
    "\n",
    "class abc:\n",
    "    def __init__(self):\n",
    "        pass\n",
    "    def show(self):\n",
    "        print(\"welcome\")\n",
    "        \n",
    "        \n",
    "a=abc()\n",
    "a.show()\n",
    "\n",
    "print(\"In this 'a ' is instance of class\")"
   ]
  },
  {
   "cell_type": "code",
   "execution_count": 6,
   "metadata": {},
   "outputs": [
    {
     "name": "stdout",
     "output_type": "stream",
     "text": [
      "the process of creating class is-by writting is:\n",
      "syntax:-\n",
      "class name_of_class:\n",
      "    body of class\n"
     ]
    }
   ],
   "source": [
    "#Q7. What is the process for creating a class?\n",
    "\n",
    "print(\"the process of creating class is-by writting is:\")\n",
    "print(\"syntax:-\")\n",
    "print(\"class name_of_class:\")\n",
    "print(\"    body of class\")"
   ]
  },
  {
   "cell_type": "code",
   "execution_count": 7,
   "metadata": {},
   "outputs": [
    {
     "name": "stdout",
     "output_type": "stream",
     "text": [
      "The class from which a class inherits is called the parent or superclass. A class which inherits from a superclass is called a subclass, also called heir class or child class. Superclasses are sometimes called ancestors as well\n"
     ]
    }
   ],
   "source": [
    "#Q8. How would you define the superclasses of a class?\n",
    "\n",
    "print(\"The class from which a class inherits is called the parent or superclass. A class which inherits from a superclass is called a subclass, also called heir class or child class. Superclasses are sometimes called ancestors as well\")"
   ]
  },
  {
   "cell_type": "code",
   "execution_count": null,
   "metadata": {},
   "outputs": [],
   "source": []
  }
 ],
 "metadata": {
  "kernelspec": {
   "display_name": "Python 3",
   "language": "python",
   "name": "python3"
  },
  "language_info": {
   "codemirror_mode": {
    "name": "ipython",
    "version": 3
   },
   "file_extension": ".py",
   "mimetype": "text/x-python",
   "name": "python",
   "nbconvert_exporter": "python",
   "pygments_lexer": "ipython3",
   "version": "3.7.6"
  }
 },
 "nbformat": 4,
 "nbformat_minor": 4
}
