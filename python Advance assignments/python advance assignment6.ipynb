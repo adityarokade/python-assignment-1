{
 "cells": [
  {
   "cell_type": "code",
   "execution_count": 1,
   "metadata": {},
   "outputs": [
    {
     "name": "stdout",
     "output_type": "stream",
     "text": [
      "\n",
      "IndexError. The IndexError is thrown when trying to access an item at an invalid index. ...\n",
      "ModuleNotFoundError. The ModuleNotFoundError is thrown when a module could not be found. ...\n",
      "KeyError. The KeyError is thrown when a key is not found. ...\n",
      "ImportError. ...\n",
      "StopIteration. ...\n",
      "TypeError. ...\n",
      "ValueError. ...\n",
      "NameError.\n"
     ]
    }
   ],
   "source": [
    "#Q1. Describe three applications for exception processing.\n",
    "\n",
    "\n",
    "print(\"\"\"\n",
    "IndexError. The IndexError is thrown when trying to access an item at an invalid index. ...\n",
    "ModuleNotFoundError. The ModuleNotFoundError is thrown when a module could not be found. ...\n",
    "KeyError. The KeyError is thrown when a key is not found. ...\n",
    "ImportError. ...\n",
    "StopIteration. ...\n",
    "TypeError. ...\n",
    "ValueError. ...\n",
    "NameError.\"\"\")"
   ]
  },
  {
   "cell_type": "code",
   "execution_count": 2,
   "metadata": {},
   "outputs": [
    {
     "name": "stdout",
     "output_type": "stream",
     "text": [
      "If we don't do anythong to handle a exception then,our application is not working properly.means if any error is occured in onr field and we don't handle the error then ful application crashed\n"
     ]
    }
   ],
   "source": [
    "#Q2. What happens if you don't do something extra to treat an exception?\n",
    "\n",
    "print(\"If we don't do anythong to handle a exception then,our application is not working properly.means if any error is occured in onr field and we don't handle the error then ful application crashed\")"
   ]
  },
  {
   "cell_type": "code",
   "execution_count": 3,
   "metadata": {},
   "outputs": [
    {
     "name": "stdout",
     "output_type": "stream",
     "text": [
      "to recovering an exception we can use 'try and except statements,if any error is occured in try block then except block is run'\n"
     ]
    }
   ],
   "source": [
    "#Q3. What are your options for recovering from an exception in your script?\n",
    "\n",
    "print(\"to recovering an exception we can use 'try and except statements,if any error is occured in try block then except block is run'\")"
   ]
  },
  {
   "cell_type": "code",
   "execution_count": 4,
   "metadata": {},
   "outputs": [
    {
     "name": "stdout",
     "output_type": "stream",
     "text": [
      "As a Python developer we can choose to throw an exception if a condition occurs. To throw (or raise) an exception, use the raise keyword.\n"
     ]
    }
   ],
   "source": [
    "#Q4. Describe two methods for triggering exceptions in your script.\n",
    "\n",
    "\n",
    "print(\"As a Python developer we can choose to throw an exception if a condition occurs. To throw (or raise) an exception, use the raise keyword.\")"
   ]
  },
  {
   "cell_type": "code",
   "execution_count": 6,
   "metadata": {},
   "outputs": [
    {
     "name": "stdout",
     "output_type": "stream",
     "text": [
      "You can use the Try and Catch actions multiple times in a bot to handle various exceptions. This enables you to run a different set of actions based on the exception encountered. The Finally action enables you to execute actions after Try and Catch, regardless of whether an exception occurs or not\n"
     ]
    }
   ],
   "source": [
    "#Q5. Identify two methods for specifying actions to be executed at termination time, regardless of whether or not an exception exists.\n",
    "\n",
    "\n",
    "print(\"You can use the Try and Catch actions multiple times in a bot to handle various exceptions. This enables you to run a different set of actions based on the exception encountered. The Finally action enables you to execute actions after Try and Catch, regardless of whether an exception occurs or not\")"
   ]
  },
  {
   "cell_type": "code",
   "execution_count": null,
   "metadata": {},
   "outputs": [],
   "source": []
  }
 ],
 "metadata": {
  "kernelspec": {
   "display_name": "Python 3",
   "language": "python",
   "name": "python3"
  },
  "language_info": {
   "codemirror_mode": {
    "name": "ipython",
    "version": 3
   },
   "file_extension": ".py",
   "mimetype": "text/x-python",
   "name": "python",
   "nbconvert_exporter": "python",
   "pygments_lexer": "ipython3",
   "version": "3.7.6"
  }
 },
 "nbformat": 4,
 "nbformat_minor": 4
}
