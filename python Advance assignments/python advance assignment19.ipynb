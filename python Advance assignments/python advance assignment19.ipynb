{
 "cells": [
  {
   "cell_type": "code",
   "execution_count": 1,
   "id": "0e1e595f",
   "metadata": {},
   "outputs": [
    {
     "name": "stdout",
     "output_type": "stream",
     "text": [
      "Association is a relationship between two objects. In other words, association defines the multiplicity between objects. You may be aware of one-to-one, one-to-many, many-to-one, many-to-many all these words define an association between objects. Aggregation is a special form of association.\n"
     ]
    }
   ],
   "source": [
    "#Q1. Define the relationship between a class and its instances. Is it a one-to-one or a one-to-many partnership, for example?\n",
    "\n",
    "\n",
    "print(\"Association is a relationship between two objects. In other words, association defines the multiplicity between objects. You may be aware of one-to-one, one-to-many, many-to-one, many-to-many all these words define an association between objects. Aggregation is a special form of association.\")"
   ]
  },
  {
   "cell_type": "code",
   "execution_count": 2,
   "id": "46735dc3",
   "metadata": {},
   "outputs": [
    {
     "name": "stdout",
     "output_type": "stream",
     "text": [
      "An instance variable has similarities with a class variable, but is non-static. An instance variable is a variable which is declared in a class but outside of constructors, methods, or blocks. ... It is a type of class attribute (or class property, field, or data member).\n"
     ]
    }
   ],
   "source": [
    "#Q2. What kind of data is held only in an instance?\n",
    "\n",
    "print(\"An instance variable has similarities with a class variable, but is non-static. An instance variable is a variable which is declared in a class but outside of constructors, methods, or blocks. ... It is a type of class attribute (or class property, field, or data member).\")"
   ]
  },
  {
   "cell_type": "code",
   "execution_count": 3,
   "id": "00f0cc95",
   "metadata": {},
   "outputs": [
    {
     "name": "stdout",
     "output_type": "stream",
     "text": [
      "Knowledge Class is a customized web organizer and retriever tailored to individual users' interest and use. It is a conceptual building block for knowledge organizing on the web. Similar to a classified mini thesaurus, It consists of a hierarchically structured collection of controlled or natural language terms on a particular discipline such as information retrieval, or a specific topic such as financial investment.\n"
     ]
    }
   ],
   "source": [
    "#Q3. What kind of knowledge is stored in a class?\n",
    "\n",
    "\n",
    "print(\"Knowledge Class is a customized web organizer and retriever tailored to individual users' interest and use. It is a conceptual building block for knowledge organizing on the web. Similar to a classified mini thesaurus, It consists of a hierarchically structured collection of controlled or natural language terms on a particular discipline such as information retrieval, or a specific topic such as financial investment.\")"
   ]
  },
  {
   "cell_type": "code",
   "execution_count": 4,
   "id": "0f7e40ec",
   "metadata": {},
   "outputs": [
    {
     "name": "stdout",
     "output_type": "stream",
     "text": [
      "Function — a set of instructions that perform a task. Method — a set of instructions that are associated with an object\n"
     ]
    }
   ],
   "source": [
    "#Q4. What exactly is a method, and how is it different from a regular function?\n",
    "\n",
    "print(\"Function — a set of instructions that perform a task. Method — a set of instructions that are associated with an object\")"
   ]
  },
  {
   "cell_type": "code",
   "execution_count": 6,
   "id": "a25be6de",
   "metadata": {},
   "outputs": [
    {
     "name": "stdout",
     "output_type": "stream",
     "text": [
      "yes,python support inheritance.\n",
      "syntax:-\n",
      "    \n",
      "class B1(object):\n",
      "    def __init__(self):\n",
      "        self. str1 = \"Python1\" \n",
      "        print(\"B1\") \n",
      "class B2(object): \n",
      "    def __init__(self):\n",
      "        self. str2 = \"Python2\"\n",
      "        print(\"B2\") \n",
      "class derived(B1, B2): \n",
      "    def __init__(self): \n",
      "        print(\"Class “derived” inherits attributes from both class B1 and B2.\")\n"
     ]
    }
   ],
   "source": [
    "#Q5. Is inheritance supported in Python, and if so, what is the syntax?\n",
    "\n",
    "print(\"yes,python support inheritance.\")\n",
    "print(\"syntax:-\")\n",
    "print(\"\"\"    \n",
    "class B1(object):\n",
    "    def __init__(self):\n",
    "        self. str1 = \"Python1\" \n",
    "        print(\"B1\") \n",
    "class B2(object): \n",
    "    def __init__(self):\n",
    "        self. str2 = \"Python2\"\n",
    "        print(\"B2\") \n",
    "class derived(B1, B2): \n",
    "    def __init__(self): \n",
    "        print(\"Class “derived” inherits attributes from both class B1 and B2.\")\"\"\") "
   ]
  },
  {
   "cell_type": "code",
   "execution_count": 7,
   "id": "45026ff6",
   "metadata": {},
   "outputs": [
    {
     "name": "stdout",
     "output_type": "stream",
     "text": [
      "In Python, Encapsulation can be achieved by declaring the data members of a class either as private or protected. In Python, 'Private' and 'Protected' are called Access Modifiers, as they modify the access of variables or methods defined in a class.\n"
     ]
    }
   ],
   "source": [
    "#Q6. How much encapsulation (making instance or class variables private) does Python support?\n",
    "\n",
    "print(\"In Python, Encapsulation can be achieved by declaring the data members of a class either as private or protected. In Python, 'Private' and 'Protected' are called Access Modifiers, as they modify the access of variables or methods defined in a class.\")"
   ]
  },
  {
   "cell_type": "code",
   "execution_count": 8,
   "id": "19a2027e",
   "metadata": {},
   "outputs": [
    {
     "name": "stdout",
     "output_type": "stream",
     "text": [
      "Class variables also known as static variables are declared with the static keyword in a class, but outside a method, constructor or a block. Instance variables are created when an object is created with the use of the keyword 'new' and destroyed when the object is destroyed.\n"
     ]
    }
   ],
   "source": [
    "#Q7. How do you distinguish between a class variable and an instance variable?\n",
    "\n",
    "print(\"Class variables also known as static variables are declared with the static keyword in a class, but outside a method, constructor or a block. Instance variables are created when an object is created with the use of the keyword 'new' and destroyed when the object is destroyed.\")"
   ]
  },
  {
   "cell_type": "code",
   "execution_count": 10,
   "id": "7b802c48",
   "metadata": {},
   "outputs": [
    {
     "name": "stdout",
     "output_type": "stream",
     "text": [
      "The self is used to represent the instance of the class. With this keyword, you can access the attributes and methods of the class in python. It binds the attributes with the given arguments. ... In Python, we have methods that make the instance to be passed automatically, but not received automatically.\n"
     ]
    }
   ],
   "source": [
    "#Q8. When, if ever, can self be included in a class's method definitions?\n",
    "\n",
    "print(\"The self is used to represent the instance of the class. With this keyword, you can access the attributes and methods of the class in python. It binds the attributes with the given arguments. ... In Python, we have methods that make the instance to be passed automatically, but not received automatically.\")"
   ]
  },
  {
   "cell_type": "code",
   "execution_count": 11,
   "id": "03b5ebec",
   "metadata": {},
   "outputs": [
    {
     "name": "stdout",
     "output_type": "stream",
     "text": [
      "There is no difference. One performs a+b , the other b+a . Likewise rmul and mul produce the same result, but rsub and sub & rdiv and div do not.\n"
     ]
    }
   ],
   "source": [
    "#Q9. What is the difference between the _ _add_ _ and the _ _radd_ _ methods?\n",
    "\n",
    "print(\"There is no difference. One performs a+b , the other b+a . Likewise rmul and mul produce the same result, but rsub and sub & rdiv and div do not.\")"
   ]
  },
  {
   "cell_type": "code",
   "execution_count": 12,
   "id": "9eb62039",
   "metadata": {},
   "outputs": [
    {
     "name": "stdout",
     "output_type": "stream",
     "text": [
      "Since reflection allows code to perform operations that would be illegal in non-reflective code, such as accessing private fields and methods, the use of reflection can result in unexpected side-effects, which may render code dysfunctional and may destroy portability.\n"
     ]
    }
   ],
   "source": [
    "#Q10. When is it necessary to use a reflection method? When do you not need it, even though you support the operation in question?\n",
    "\n",
    "print(\"Since reflection allows code to perform operations that would be illegal in non-reflective code, such as accessing private fields and methods, the use of reflection can result in unexpected side-effects, which may render code dysfunctional and may destroy portability.\")"
   ]
  },
  {
   "cell_type": "code",
   "execution_count": 13,
   "id": "3bd05a17",
   "metadata": {},
   "outputs": [
    {
     "name": "stdout",
     "output_type": "stream",
     "text": [
      "Python's object. __add__(self, other) method returns a new object that represents the sum of two objects. It implements the addition operator + in Python. We call this a “Dunder Method” for “Double Underscore Method” (also called “magic method”).\n"
     ]
    }
   ],
   "source": [
    "#Q11. What is the _ _iadd_ _ method called?\n",
    "\n",
    "print(\"Python's object. __add__(self, other) method returns a new object that represents the sum of two objects. It implements the addition operator + in Python. We call this a “Dunder Method” for “Double Underscore Method” (also called “magic method”).\")"
   ]
  },
  {
   "cell_type": "code",
   "execution_count": 15,
   "id": "2cbbb119",
   "metadata": {},
   "outputs": [
    {
     "name": "stdout",
     "output_type": "stream",
     "text": [
      "The ability of a subclass to override a method allows a class to inherit from a superclass whose behavior is \"close enough\" and then to modify behavior as needed. The overriding method has the same name, number and type of parameters, and return type as the method that it overrides.\n"
     ]
    }
   ],
   "source": [
    "#Q12. Is the _ _init_ _ method inherited by subclasses? What do you do if you need to customize its behavior within a subclass?\n",
    "\n",
    "print('The ability of a subclass to override a method allows a class to inherit from a superclass whose behavior is \"close enough\" and then to modify behavior as needed. The overriding method has the same name, number and type of parameters, and return type as the method that it overrides.')"
   ]
  },
  {
   "cell_type": "code",
   "execution_count": null,
   "id": "3cbbb467",
   "metadata": {},
   "outputs": [],
   "source": []
  }
 ],
 "metadata": {
  "kernelspec": {
   "display_name": "Python 3 (ipykernel)",
   "language": "python",
   "name": "python3"
  },
  "language_info": {
   "codemirror_mode": {
    "name": "ipython",
    "version": 3
   },
   "file_extension": ".py",
   "mimetype": "text/x-python",
   "name": "python",
   "nbconvert_exporter": "python",
   "pygments_lexer": "ipython3",
   "version": "3.9.7"
  }
 },
 "nbformat": 4,
 "nbformat_minor": 5
}
