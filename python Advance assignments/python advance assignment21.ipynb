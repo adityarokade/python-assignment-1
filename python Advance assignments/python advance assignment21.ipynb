{
 "cells": [
  {
   "cell_type": "code",
   "execution_count": 1,
   "id": "165fe417",
   "metadata": {},
   "outputs": [
    {
     "name": "stdout",
     "output_type": "stream",
     "text": [
      "A probability distribution is a list of all of the possible outcomes of a random variable, along with its corresponding probability values. A probability distribution links each outcome of a random variable or process with its probability of occurrence.\n"
     ]
    }
   ],
   "source": [
    "#Q1. What is a probability distribution, exactly? If the values are meant to be random, how can you predict them at all?\n",
    "\n",
    "print(\"A probability distribution is a list of all of the possible outcomes of a random variable, along with its corresponding probability values. A probability distribution links each outcome of a random variable or process with its probability of occurrence.\")"
   ]
  },
  {
   "cell_type": "code",
   "execution_count": 2,
   "id": "fb5e4a88",
   "metadata": {},
   "outputs": [
    {
     "name": "stdout",
     "output_type": "stream",
     "text": [
      "The difference between true random number generators(TRNGs) and pseudo-random number generators(PRNGs) is that TRNGs use an unpredictable physical means to generate numbers (like atmospheric noise), and PRNGs use mathematical algorithms (completely computer-generated).\n"
     ]
    }
   ],
   "source": [
    "#Q2. Is there a distinction between true random numbers and pseudo-random numbers, if there is one? Why are the latter considered “good enough”?\n",
    "\n",
    "print(\"The difference between true random number generators(TRNGs) and pseudo-random number generators(PRNGs) is that TRNGs use an unpredictable physical means to generate numbers (like atmospheric noise), and PRNGs use mathematical algorithms (completely computer-generated).\")"
   ]
  },
  {
   "cell_type": "code",
   "execution_count": 3,
   "id": "d199b2a1",
   "metadata": {},
   "outputs": [
    {
     "name": "stdout",
     "output_type": "stream",
     "text": [
      "The graph of the normal distribution is characterized by two parameters: the mean, or average, which is the maximum of the graph and about which the graph is always symmetric; and the standard deviation, which determines the amount of dispersion away from the mean\n"
     ]
    }
   ],
   "source": [
    "#Q3. What are the two main factors that influence the behaviour of a \"normal\" probability distribution?\n",
    "\n",
    "print(\"The graph of the normal distribution is characterized by two parameters: the mean, or average, which is the maximum of the graph and about which the graph is always symmetric; and the standard deviation, which determines the amount of dispersion away from the mean\")"
   ]
  },
  {
   "cell_type": "code",
   "execution_count": 4,
   "id": "f2161b1c",
   "metadata": {},
   "outputs": [
    {
     "name": "stdout",
     "output_type": "stream",
     "text": [
      "Rolling A DiceA fair rolling of dice is also a good example of normal distribution. In an experiment, it has been found that when a dice is rolled 100 times, chances to get '1' are 15-18% and if we roll the dice 1000 times, the chances to get '1' is, again, the same, which averages to 16.7% (1/6).\n"
     ]
    }
   ],
   "source": [
    "#Q4. Provide a real-life example of a normal distribution.\n",
    "\n",
    "print(\"Rolling A Dice\"\n",
    "\"A fair rolling of dice is also a good example of normal distribution. In an experiment, it has been found that when a dice is rolled 100 times, chances to get '1' are 15-18% and if we roll the dice 1000 times, the chances to get '1' is, again, the same, which averages to 16.7% (1/6).\")"
   ]
  },
  {
   "cell_type": "code",
   "execution_count": 5,
   "id": "6195844a",
   "metadata": {},
   "outputs": [
    {
     "name": "stdout",
     "output_type": "stream",
     "text": [
      "The law of large numbers, in probability and statistics, states that as a sample size grows, its mean gets closer to the average of the whole population.\n"
     ]
    }
   ],
   "source": [
    "#Q5. In the short term, how can you expect a probability distribution to behave? What do you think will happen as the number of trials grows?\n",
    "\n",
    "print(\"The law of large numbers, in probability and statistics, states that as a sample size grows, its mean gets closer to the average of the whole population.\")"
   ]
  },
  {
   "cell_type": "code",
   "execution_count": 6,
   "id": "ae6e909a",
   "metadata": {},
   "outputs": [
    {
     "name": "stdout",
     "output_type": "stream",
     "text": [
      "Strings and tuples are immutable, so using random. shuffle() to modify the original object will raise an error TypeError . To shuffle strings or tuples, use random.\n"
     ]
    }
   ],
   "source": [
    "#Q6. What kind of object can be shuffled by using random.shuffle?\n",
    "\n",
    "print(\"Strings and tuples are immutable, so using random. shuffle() to modify the original object will raise an error TypeError . To shuffle strings or tuples, use random.\")"
   ]
  },
  {
   "cell_type": "code",
   "execution_count": 8,
   "id": "4f9eb894",
   "metadata": {},
   "outputs": [
    {
     "name": "stdout",
     "output_type": "stream",
     "text": [
      "Numbers and Numeric RepresentationSr.No.\tFunction & Description2\tcopysign(x, y) It returns the number x and copy the sign of y to x.3\tfabs(x) Returns the absolute value of x.4\tfactorial(x) Returns factorial of x. where x ≥ 05\tfloor(x) Return the Floor value. It is the largest integer, less or equal to the number x.7 more rows•31-Oct-2018\n"
     ]
    }
   ],
   "source": [
    "#Q7. Describe the math package's general categories of functions.\n",
    "\n",
    "print(\"Numbers and Numeric Representation\"\n",
    "\"Sr.No.\tFunction & Description\"\n",
    "\"2\tcopysign(x, y) It returns the number x and copy the sign of y to x.\"\n",
    "\"3\tfabs(x) Returns the absolute value of x.\"\n",
    "\"4\tfactorial(x) Returns factorial of x. where x ≥ 0\"\n",
    "\"5\tfloor(x) Return the Floor value. It is the largest integer, less or equal to the number x.\"\n",
    "\"7 more rows•31-Oct-2018\")"
   ]
  },
  {
   "cell_type": "code",
   "execution_count": 9,
   "id": "66134d6d",
   "metadata": {},
   "outputs": [
    {
     "name": "stdout",
     "output_type": "stream",
     "text": [
      "Logarithmic functions are the inverses of exponential functions. The inverse of the exponential function y = ax is x = ay. The logarithmic function y = logax is defined to be equivalent to the exponential equation x = ay.\n"
     ]
    }
   ],
   "source": [
    "#Q8. What is the relationship between exponentiation and logarithms?\n",
    "\n",
    "print(\"Logarithmic functions are the inverses of exponential functions. The inverse of the exponential function y = ax is x = ay. The logarithmic function y = logax is defined to be equivalent to the exponential equation x = ay.\")"
   ]
  },
  {
   "cell_type": "code",
   "execution_count": 10,
   "id": "18958963",
   "metadata": {},
   "outputs": [
    {
     "name": "stdout",
     "output_type": "stream",
     "text": [
      "log2(x) log(x, Base) log10(x)\n"
     ]
    }
   ],
   "source": [
    "#Q9. What are the three logarithmic functions that Python supports?\n",
    "\n",
    "print(\"log2(x) log(x, Base) log10(x)\")"
   ]
  },
  {
   "cell_type": "code",
   "execution_count": null,
   "id": "634f6e16",
   "metadata": {},
   "outputs": [],
   "source": []
  }
 ],
 "metadata": {
  "kernelspec": {
   "display_name": "Python 3 (ipykernel)",
   "language": "python",
   "name": "python3"
  },
  "language_info": {
   "codemirror_mode": {
    "name": "ipython",
    "version": 3
   },
   "file_extension": ".py",
   "mimetype": "text/x-python",
   "name": "python",
   "nbconvert_exporter": "python",
   "pygments_lexer": "ipython3",
   "version": "3.9.7"
  }
 },
 "nbformat": 4,
 "nbformat_minor": 5
}
