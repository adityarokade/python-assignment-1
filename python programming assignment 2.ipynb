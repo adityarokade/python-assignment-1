{
 "cells": [
  {
   "cell_type": "code",
   "execution_count": 5,
   "metadata": {},
   "outputs": [
    {
     "name": "stdout",
     "output_type": "stream",
     "text": [
      "Enter  the length kilometer:10\n",
      "6.21371\n"
     ]
    }
   ],
   "source": [
    "#1. Write a Python program to convert kilometers to miles?\n",
    "\n",
    "a=int(input(\"Enter  the length kilometer:\"))\n",
    "\n",
    "def converter(a):\n",
    "    m=a*0.621371\n",
    "    return m\n",
    "\n",
    "\n",
    "\n",
    "\n",
    "c=converter(a)\n",
    "print(c)\n",
    "    \n",
    "    "
   ]
  },
  {
   "cell_type": "code",
   "execution_count": 9,
   "metadata": {},
   "outputs": [
    {
     "name": "stdout",
     "output_type": "stream",
     "text": [
      "Enter the temperature in celsius:10\n",
      "50 f\n"
     ]
    }
   ],
   "source": [
    "#2. Write a Python program to convert Celsius to Fahrenheit?\n",
    "\n",
    "a=int(input(\"Enter the temperature in celsius:\"))\n",
    "def converter(a):\n",
    "    f=int((a* 9/5) + 32 )\n",
    "    return f\n",
    "\n",
    "c=converter(a)\n",
    "print(c,\"f\")"
   ]
  },
  {
   "cell_type": "code",
   "execution_count": 2,
   "metadata": {},
   "outputs": [
    {
     "name": "stdout",
     "output_type": "stream",
     "text": [
      "Enter the year2021\n",
      "Enter the month3\n",
      "     March 2021\n",
      "Mo Tu We Th Fr Sa Su\n",
      " 1  2  3  4  5  6  7\n",
      " 8  9 10 11 12 13 14\n",
      "15 16 17 18 19 20 21\n",
      "22 23 24 25 26 27 28\n",
      "29 30 31\n",
      "\n"
     ]
    }
   ],
   "source": [
    "#3. Write a Python program to display calendar?\n",
    "  \n",
    "    \n",
    "\n",
    "    \n",
    "import calendar\n",
    "y=int(input(\"Enter the year\"))\n",
    "m=int(input(\"Enter the month\"))\n",
    "\n",
    "print(calendar.month(y,m))\n",
    "\n"
   ]
  },
  {
   "cell_type": "code",
   "execution_count": 12,
   "metadata": {},
   "outputs": [
    {
     "name": "stdout",
     "output_type": "stream",
     "text": [
      "Enter the a: 1\n",
      "Enter the b : 8\n",
      "Enter the c: 4\n",
      "The solution are -0.5358983848622456 and -7.464101615137754\n"
     ]
    }
   ],
   "source": [
    "#4. Write a Python program to solve quadratic equation?\n",
    "\n",
    "\n",
    "\n",
    "import cmath\n",
    "a=float(input(\"Enter the a: \"))\n",
    "b=float(input(\"Enter the b : \"))\n",
    "c=float(input(\"Enter the c: \"))\n",
    "\n",
    "dd=(b**2)-(4*a*c)\n",
    "\n",
    "\n",
    "\n",
    "an1=(-b+(dd)**(1/2))/(2*a)\n",
    "an2=(-b-(dd)**(1/2))/(2*a)\n",
    "\n",
    "\n",
    "\n",
    "print('The solution are {0} and {1}'.format(an1,an2))   \n"
   ]
  },
  {
   "cell_type": "code",
   "execution_count": 24,
   "metadata": {},
   "outputs": [
    {
     "name": "stdout",
     "output_type": "stream",
     "text": [
      "Enter value of a : 5\n",
      "Enter value of b: 8\n",
      "a is: 8  b is: 5\n"
     ]
    }
   ],
   "source": [
    "#5. Write a Python program to swap two variables without temp variable?\n",
    "a=int(input(\"Enter value of a : \"))\n",
    "b=int(input(\"Enter value of b: \"))\n",
    "a=a+b\n",
    "b=a-b\n",
    "a=a-b\n",
    "print(\"The value \")"
   ]
  },
  {
   "cell_type": "code",
   "execution_count": 21,
   "metadata": {},
   "outputs": [
    {
     "name": "stdout",
     "output_type": "stream",
     "text": [
      "Enter value of first variable: 5\n",
      "Enter value of second variable: 8\n",
      "a is: 8  b is: 5\n"
     ]
    }
   ],
   "source": [
    "a=int(input(\"Enter value of first variable: \"))\n",
    "b=int(input(\"Enter value of second variable: \"))\n",
    "a=a+b\n",
    "b=a-b\n",
    "a=a-b\n",
    "print(\"a is:\",a,\" b is:\",b)"
   ]
  },
  {
   "cell_type": "code",
   "execution_count": null,
   "metadata": {},
   "outputs": [],
   "source": []
  }
 ],
 "metadata": {
  "kernelspec": {
   "display_name": "Python 3",
   "language": "python",
   "name": "python3"
  },
  "language_info": {
   "codemirror_mode": {
    "name": "ipython",
    "version": 3
   },
   "file_extension": ".py",
   "mimetype": "text/x-python",
   "name": "python",
   "nbconvert_exporter": "python",
   "pygments_lexer": "ipython3",
   "version": "3.7.4"
  }
 },
 "nbformat": 4,
 "nbformat_minor": 4
}
