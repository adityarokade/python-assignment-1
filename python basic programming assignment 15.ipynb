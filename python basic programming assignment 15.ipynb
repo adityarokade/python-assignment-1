{
 "cells": [
  {
   "cell_type": "code",
   "execution_count": 4,
   "metadata": {},
   "outputs": [
    {
     "name": "stdout",
     "output_type": "stream",
     "text": [
      "Enter:100\n",
      "0 35 70 "
     ]
    }
   ],
   "source": [
    "#Please write a program using generator to print the numbers which can be divisible by 5 and 7 between 0 and n in comma separated form while n is input by console.\n",
    "#Example:\n",
    "#If the following n is given as input to the program:\n",
    "#100\n",
    "#Then, the output of the program should be:\n",
    "#0,35,70\n",
    "\n",
    "def NumGen(n):\n",
    "     \n",
    "  \n",
    "    for j in range(0, n+1):\n",
    " \n",
    "        \n",
    "        if j % 5 == 0 and j % 7 == 0:\n",
    "            yield j\n",
    " \n",
    "\n",
    "if __name__ == \"__main__\":\n",
    "       \n",
    "    \n",
    "    N=int(input(\"Enter:\"))\n",
    " \n",
    "   \n",
    "    for j in NumGen(N):\n",
    "        print(j, end = \" \")"
   ]
  },
  {
   "cell_type": "code",
   "execution_count": 5,
   "metadata": {},
   "outputs": [
    {
     "name": "stdout",
     "output_type": "stream",
     "text": [
      "Enter:10\n",
      "0 2 4 6 8 10 "
     ]
    }
   ],
   "source": [
    "#Please write a program using generator to print the even numbers between 0 and n in comma separated form while n is input by console.\n",
    "#Example:\n",
    "#If the following n is given as input to the program:\n",
    "#10\n",
    "#Then, the output of the program should be:\n",
    "#0,2,4,6,8,10\n",
    "\n",
    "def NumGen(n):\n",
    "     \n",
    "  \n",
    "    for j in range(0, n+1):\n",
    " \n",
    "        \n",
    "        if j%2 == 0 :\n",
    "            \n",
    "            yield j\n",
    "        else:\n",
    "            pass\n",
    " \n",
    "\n",
    "if __name__ == \"__main__\":\n",
    "       \n",
    "    \n",
    "    N=int(input(\"Enter:\"))\n",
    " \n",
    "   \n",
    "    for j in NumGen(N):\n",
    "        print(j, end = \" \")"
   ]
  },
  {
   "cell_type": "code",
   "execution_count": 6,
   "metadata": {},
   "outputs": [
    {
     "name": "stdout",
     "output_type": "stream",
     "text": [
      "34\n"
     ]
    }
   ],
   "source": [
    "#The Fibonacci Sequence is computed based on the following formula:\n",
    "#f(n)=0 if n=0\n",
    "#f(n)=1 if n=1\n",
    "#f(n)=f(n-1)+f(n-2) if n>1\n",
    "#Please write a program using list comprehension to print the Fibonacci Sequence in comma separated form with a given n input by console.\n",
    "#Example:\n",
    "#If the following n is given as input to the program:\n",
    "#7\n",
    "\n",
    "#Then, the output of the program should be:\n",
    "#0,1,1,2,3,5,8,13\n",
    "\n",
    "def Fibonacci(n):\n",
    "    if n<0:\n",
    "        print(\"Incorrect input\")\n",
    "    \n",
    "    elif n==0:\n",
    "        return 0\n",
    "    \n",
    "    elif n==1:\n",
    "        return 1\n",
    "    else:\n",
    "        return Fibonacci(n-1)+Fibonacci(n-2)\n",
    " \n",
    "\n",
    " \n",
    "print(Fibonacci(9))\n",
    " "
   ]
  },
  {
   "cell_type": "code",
   "execution_count": 8,
   "metadata": {},
   "outputs": [
    {
     "name": "stdout",
     "output_type": "stream",
     "text": [
      "['google']\n"
     ]
    }
   ],
   "source": [
    "#Assuming that we have some email addresses in the \"username@companyname.com\" format, please write program to print the user name of a given email address. Both user names and company names are composed of letters only.\n",
    "#Example:\n",
    "#If the following email address is given as input to the program:\n",
    "#john@google.com\n",
    "#Then, the output of the program should be:\n",
    "#google\n",
    "\n",
    "import re\n",
    "\n",
    "email = \"john@google.com\"\n",
    "pattern = \"\\w+@(\\w+).com\"\n",
    "ans = re.findall(pattern,email)\n",
    "print(ans)"
   ]
  },
  {
   "cell_type": "code",
   "execution_count": 9,
   "metadata": {},
   "outputs": [
    {
     "name": "stdout",
     "output_type": "stream",
     "text": [
      "25\n",
      "0\n"
     ]
    }
   ],
   "source": [
    "#Define a class named Shape and its subclass Square. The Square class has an init function which takes a length as argument. Both classes have a area function which can print the area of the shape where Shape's area is 0 by default.\n",
    "\n",
    "\n",
    "\n",
    "class Shape():\n",
    "    def __init__(self):\n",
    "        pass\n",
    "\n",
    "    def area(self):\n",
    "        return 0\n",
    "\n",
    "class Square(Shape):\n",
    "    def __init__(self,length = 0):\n",
    "        Shape.__init__(self)\n",
    "        self.length = length\n",
    "\n",
    "    def area(self):\n",
    "        return self.length*self.length\n",
    "\n",
    "Asqr = Square(5)\n",
    "print(Asqr.area())      \n",
    "\n",
    "print(Square().area())"
   ]
  },
  {
   "cell_type": "code",
   "execution_count": null,
   "metadata": {},
   "outputs": [],
   "source": []
  }
 ],
 "metadata": {
  "kernelspec": {
   "display_name": "Python 3",
   "language": "python",
   "name": "python3"
  },
  "language_info": {
   "codemirror_mode": {
    "name": "ipython",
    "version": 3
   },
   "file_extension": ".py",
   "mimetype": "text/x-python",
   "name": "python",
   "nbconvert_exporter": "python",
   "pygments_lexer": "ipython3",
   "version": "3.7.6"
  }
 },
 "nbformat": 4,
 "nbformat_minor": 4
}
