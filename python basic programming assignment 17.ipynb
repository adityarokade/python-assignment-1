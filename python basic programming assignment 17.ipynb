{
 "cells": [
  {
   "cell_type": "code",
   "execution_count": 5,
   "metadata": {},
   "outputs": [
    {
     "name": "stdout",
     "output_type": "stream",
     "text": [
      "18\n"
     ]
    }
   ],
   "source": [
    "#Question1. Create a function that takes three arguments a, b, c and returns the sum of the numbers that are evenly divided by c from the range a, b inclusive.\n",
    "\n",
    "\n",
    "def sum(a,b,c):\n",
    "    \n",
    "    n=0\n",
    "    for i in range(a,b):\n",
    "        if(i%c==0):\n",
    "            n=i\n",
    "            n+=i\n",
    "        \n",
    "            \n",
    "    print(n)\n",
    "    \n",
    "sum(1,10,3)\n",
    "            "
   ]
  },
  {
   "cell_type": "code",
   "execution_count": 3,
   "metadata": {},
   "outputs": [
    {
     "name": "stdout",
     "output_type": "stream",
     "text": [
      "[17, 55, 32, 43]\n",
      "['<', '>', '<']\n",
      "True\n",
      "[22, 12, 4836, 654]\n",
      "['<', '>', '>']\n",
      "False\n",
      "[1281546, 1663, 1616, 1566713]\n",
      "['>', '>', '<']\n",
      "True\n"
     ]
    }
   ],
   "source": [
    "#Question2. Create a function that returns True if a given inequality expression is correct and False otherwise.\n",
    "\n",
    "def correct_signs(deg):\n",
    "    giris=0\n",
    "    beg=0\n",
    "    volumes=[]\n",
    "    signs=[]\n",
    "    try:\n",
    "        while True:\n",
    "\n",
    "            mi=deg.find(\"<\",beg)\n",
    "            bi=deg.find(\">\",beg)\n",
    "            #print(mi,bi,beg)\n",
    "            if bi==-1 and mi==-1 and giris==0:\n",
    "                print(\"You should enter siign\")\n",
    "                #print(\"0\")\n",
    "                break\n",
    "\n",
    "            elif mi<=bi and mi!=-1 and bi!=-1 :\n",
    "\n",
    "                volumes.append(int(deg[:deg.find(\"<\",beg)]))\n",
    "                signs.append(\"<\")\n",
    "                beg=deg.find(\"<\",beg)+1\n",
    "                deg=deg[beg:]\n",
    "                beg=0\n",
    "                #print(\"1\")\n",
    "            elif bi<=mi and bi!=-1 and mi!=-1:\n",
    "                volumes.append(int(deg[:deg.find(\">\",beg)]))\n",
    "                signs.append(\">\")\n",
    "                beg=deg.find(\">\",beg)+1\n",
    "                deg=deg[beg:]\n",
    "                beg=0\n",
    "                #print(\"5\")\n",
    "            elif bi!=-1 and mi==-1:\n",
    "                volumes.append(int(deg[:deg.find(\">\",beg)]))\n",
    "                signs.append(\">\")\n",
    "                beg=deg.find(\">\",beg)+1\n",
    "                deg=deg[beg:]\n",
    "                beg=0\n",
    "                #print(\"3\")\n",
    "            elif mi!=-1 and bi==-1:\n",
    "                volumes.append(int(deg[:deg.find(\"<\",beg)]))\n",
    "                signs.append(\"<\")\n",
    "                beg=deg.find(\"<\",beg)+1\n",
    "                deg=deg[beg:]\n",
    "                beg=0\n",
    "                #print(\"4\")\n",
    "            elif bi==-1 and mi==-1:\n",
    "                volumes.append(int(deg))\n",
    "                deg=\"\"\n",
    "                break\n",
    "            giris+=1\n",
    "        a=0\n",
    "        b=1\n",
    "        bol=True\n",
    "        print(volumes)\n",
    "        print(signs)\n",
    "        while a<len(volumes)-1:\n",
    "            #print(a,b)\n",
    "            if signs[a]==\"<\":\n",
    "                if volumes[a]<volumes[b]:\n",
    "                    pass\n",
    "                else:\n",
    "                    bol=False\n",
    "            elif signs[a]==\">\":\n",
    "                if volumes[a]>volumes[b]:\n",
    "                    pass\n",
    "                else:\n",
    "                    bol=False\n",
    "            else:\n",
    "                print(\"Wow\")\n",
    "            a+=1\n",
    "            b+=1\n",
    "        print(bol)\n",
    "    except ValueError:\n",
    "        print(\"There is some problem with your number\")\n",
    "\n",
    "\n",
    "correct_signs(\"17 < 55 > 32 < 43\")\n",
    "correct_signs(\"22<12>4836>654\")\n",
    "correct_signs(\"1281546>1663>1616<1566713\")\n",
    "    \n",
    "    \n",
    "    "
   ]
  },
  {
   "cell_type": "code",
   "execution_count": 12,
   "metadata": {},
   "outputs": [
    {
     "name": "stdout",
     "output_type": "stream",
     "text": [
      "@d@ty@\n"
     ]
    }
   ],
   "source": [
    "#Question3. Create a function that replaces all the vowels in a string with a specified character.\n",
    "\n",
    "def replace_vowels(s,k):\n",
    "    \n",
    "    vowels=\"AEIOUaeiou\"\n",
    "    \n",
    "    for i in vowels:\n",
    "        s=s.replace(i,k)\n",
    "    print(s)\n",
    "replace_vowels(\"aditya\",\"@\")"
   ]
  },
  {
   "cell_type": "code",
   "execution_count": 15,
   "metadata": {},
   "outputs": [
    {
     "name": "stdout",
     "output_type": "stream",
     "text": [
      "Factorial of 5 is: 120\n"
     ]
    }
   ],
   "source": [
    "#Write a function that calculates the factorial of a number recursively.\n",
    "\n",
    "def factorial(n):\n",
    "    if n==0:\n",
    "        return 1\n",
    "    else:\n",
    "        return n*factorial(n-1)\n",
    "n=5   \n",
    "a=factorial(n)\n",
    "print(\"Factorial of\",n,\"is:\",a)"
   ]
  },
  {
   "cell_type": "code",
   "execution_count": 18,
   "metadata": {},
   "outputs": [
    {
     "name": "stdout",
     "output_type": "stream",
     "text": [
      "t\n",
      "Result is: 1\n"
     ]
    }
   ],
   "source": [
    "#Create a function that computes the hamming distance between two strings.\n",
    "\n",
    "def distance(a,b):\n",
    "    \n",
    "    i=0\n",
    "    count=0\n",
    "    \n",
    "    while(i<len(a)):\n",
    "        \n",
    "        if(a[i]!=b[i]):\n",
    "            print(a[i])\n",
    "            count+=1\n",
    "        i+=1\n",
    "    return count  \n",
    "a=\"aditya\"\n",
    "b=\"adicya\"\n",
    "re=distance(a,b)\n",
    "print(\"Result is:\",re)"
   ]
  },
  {
   "cell_type": "code",
   "execution_count": null,
   "metadata": {},
   "outputs": [],
   "source": []
  }
 ],
 "metadata": {
  "kernelspec": {
   "display_name": "Python 3",
   "language": "python",
   "name": "python3"
  },
  "language_info": {
   "codemirror_mode": {
    "name": "ipython",
    "version": 3
   },
   "file_extension": ".py",
   "mimetype": "text/x-python",
   "name": "python",
   "nbconvert_exporter": "python",
   "pygments_lexer": "ipython3",
   "version": "3.7.6"
  }
 },
 "nbformat": 4,
 "nbformat_minor": 4
}
