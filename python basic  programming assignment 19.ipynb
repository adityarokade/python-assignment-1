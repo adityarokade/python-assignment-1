{
 "cells": [
  {
   "cell_type": "code",
   "execution_count": 12,
   "metadata": {},
   "outputs": [
    {
     "name": "stdout",
     "output_type": "stream",
     "text": [
      "SSttrriinngg\n",
      "11223344!!__  \n"
     ]
    }
   ],
   "source": [
    "#Create a function that takes a string and returns a string in which each character is repeated once.\n",
    "\n",
    "def string_repeter(s,n):\n",
    "    l=[]\n",
    "    for i in s:\n",
    "        l.append(i*n)\n",
    "    a=\"\".join(l)\n",
    "    print(a)\n",
    "string_repeter(\"String\",2)  #n=number of times repeated\n",
    "string_repeter(\"1234!_ \",2)"
   ]
  },
  {
   "cell_type": "code",
   "execution_count": 16,
   "metadata": {},
   "outputs": [
    {
     "name": "stdout",
     "output_type": "stream",
     "text": [
      "False\n",
      "Boolean expected\n"
     ]
    }
   ],
   "source": [
    "#Create a function that reverses a boolean value and returns the string \"boolean expected\" if another variable type is given.\n",
    "\n",
    "def reverser(b):\n",
    "    \n",
    "    if (type(b)==bool):\n",
    "        if b==True:\n",
    "            print(False)\n",
    "        else:\n",
    "            print(True)\n",
    "    else:\n",
    "        print(\"Boolean expected\")\n",
    "        \n",
    "reverser(True)\n",
    "reverser(None)"
   ]
  },
  {
   "cell_type": "code",
   "execution_count": 40,
   "metadata": {},
   "outputs": [
    {
     "data": {
      "text/plain": [
       "1048.576"
      ]
     },
     "execution_count": 40,
     "metadata": {},
     "output_type": "execute_result"
    }
   ],
   "source": [
    "#Create a function that returns the thickness (in meters) of a piece of paper after folding it n number of times. The paper starts off with a thickness of 0.5mm.\n",
    "\n",
    "def thickness(n):\n",
    "    res=0.5   #mm\n",
    "    for i in range(n):\n",
    "        res=res*2\n",
    "    return(res/1000)\n",
    "thickness(1)\n",
    "thickness(4)\n",
    "thickness(21)"
   ]
  },
  {
   "cell_type": "code",
   "execution_count": 45,
   "metadata": {},
   "outputs": [
    {
     "name": "stdout",
     "output_type": "stream",
     "text": [
      "[1, 3, 5]\n",
      "[1, 3, 4, 6]\n"
     ]
    }
   ],
   "source": [
    "#Create a function that takes a single string as argument and returns an ordered list containing the indices of all capital letters in the string.\n",
    "\n",
    "def indexofcaps(s):\n",
    "    l=[]\n",
    "    index=[]\n",
    "    for i in s:\n",
    "        l.append(i)\n",
    "    for j in range(len(l)):\n",
    "        if(l[j].isupper()):\n",
    "            index.append(j)\n",
    "    print(index)\n",
    "            \n",
    "indexofcaps(\"eDaBiT\")\n",
    "indexofcaps(\"eQuINoX\")"
   ]
  },
  {
   "cell_type": "code",
   "execution_count": 55,
   "metadata": {},
   "outputs": [
    {
     "name": "stdout",
     "output_type": "stream",
     "text": [
      "[2, 4, 6, 8]\n",
      "[2, 4]\n",
      "[2, 4, 6, 8, 10, 12, 14, 16, 18, 20, 22, 24, 26, 28, 30]\n"
     ]
    }
   ],
   "source": [
    "#Using list comprehensions, create a function that finds all even numbers from 1 to the given number.\n",
    "def even(n):\n",
    "    list=[i for i in range(1,n+1) if (i%2==0)]\n",
    "    \n",
    "    print(list)\n",
    "even(8)\n",
    "even(4)\n",
    "even(30)"
   ]
  },
  {
   "cell_type": "code",
   "execution_count": null,
   "metadata": {},
   "outputs": [],
   "source": []
  }
 ],
 "metadata": {
  "kernelspec": {
   "display_name": "Python 3",
   "language": "python",
   "name": "python3"
  },
  "language_info": {
   "codemirror_mode": {
    "name": "ipython",
    "version": 3
   },
   "file_extension": ".py",
   "mimetype": "text/x-python",
   "name": "python",
   "nbconvert_exporter": "python",
   "pygments_lexer": "ipython3",
   "version": "3.7.6"
  }
 },
 "nbformat": 4,
 "nbformat_minor": 4
}
