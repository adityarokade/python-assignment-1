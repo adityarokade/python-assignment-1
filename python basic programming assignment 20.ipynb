{
 "cells": [
  {
   "cell_type": "code",
   "execution_count": 1,
   "metadata": {},
   "outputs": [
    {
     "name": "stdout",
     "output_type": "stream",
     "text": [
      "[1, 2, 3, 4]\n"
     ]
    }
   ],
   "source": [
    "#Create a function that takes a list of strings and integers, and filters out the list so that it returns a list of integers only.\n",
    "\n",
    "def filterint(l):\n",
    "    li=[]\n",
    "    for i in range(len(l)):\n",
    "        if(type(l[i])==int):\n",
    "            li.append(l[i])\n",
    "    print(li)\n",
    "    \n",
    "filterint([1, 2, 3, \"a\", \"b\", 4])   "
   ]
  },
  {
   "cell_type": "code",
   "execution_count": 2,
   "metadata": {},
   "outputs": [
    {
     "name": "stdout",
     "output_type": "stream",
     "text": [
      "[1, 3, 5, 7, 9]\n"
     ]
    }
   ],
   "source": [
    "#Given a list of numbers, create a function which returns the list but with each element's index in the list added to itself. This means you add 0 to the number at index 0, add 1 to the number at index 1, etc...\n",
    "\n",
    "def indexadd(l):\n",
    "    li=[]\n",
    "    for i in range(len(l)):\n",
    "        li.append(l[i]+i)\n",
    "    print(li)\n",
    "\n",
    "    \n",
    "indexadd([1, 2, 3, 4, 5])    "
   ]
  },
  {
   "cell_type": "code",
   "execution_count": 4,
   "metadata": {},
   "outputs": [
    {
     "name": "stdout",
     "output_type": "stream",
     "text": [
      "Enter the radius of cone:2\n",
      "Enter the height of cone:3\n",
      "volume of cone is: 12.559999999999999\n"
     ]
    }
   ],
   "source": [
    "#Create a function that takes the height and radius of a cone as arguments and returns the volume of the cone rounded to the nearest hundredth. See the resources tab for the formula.\n",
    "\n",
    "def volume(r,h):\n",
    "    vol=((1/3)*(3.14)*(r*r)*(h))\n",
    "    print(\"volume of cone is:\",vol)\n",
    "   \n",
    "\n",
    "r=int(input(\"Enter the radius of cone:\"))\n",
    "h=int(input(\"Enter the height of cone:\"))\n",
    "volume(r,h)\n",
    "    "
   ]
  },
  {
   "cell_type": "code",
   "execution_count": 7,
   "metadata": {},
   "outputs": [
    {
     "name": "stdout",
     "output_type": "stream",
     "text": [
      "10\n",
      "21\n"
     ]
    }
   ],
   "source": [
    "#This Triangular Number Sequence is generated from a pattern of dots that form a triangle. The first 5 numbers of the sequence, or dots, are: \n",
    "#1, 3, 6, 10, 15\n",
    "#This means that the first triangle has just one dot, the second one has three dots, the third one has 6 dots and so on.\n",
    "#Write a function that gives the number of dots with its corresponding triangle number of the sequence.\n",
    "\n",
    "def triangledot(n):\n",
    "    res=0\n",
    "    for i in range(n+1):\n",
    "        res=res+i\n",
    "    \n",
    "    print(res)\n",
    "triangledot(4)\n",
    "triangledot(6)"
   ]
  },
  {
   "cell_type": "code",
   "execution_count": 12,
   "metadata": {},
   "outputs": [
    {
     "name": "stdout",
     "output_type": "stream",
     "text": [
      "5\n"
     ]
    }
   ],
   "source": [
    "#Create a function that takes a list of numbers between 1 and 10 (excluding one number) and returns the missing number.\n",
    "\n",
    "def finder(l):\n",
    "    res=0\n",
    "    li=[1,2,3,4,5,6,7,8,9,10]\n",
    "    for i in range(len(li)):\n",
    "        if(l.count(li[i])!=0):\n",
    "            pass\n",
    "        else:\n",
    "            res=li[i]\n",
    "    print(res)\n",
    "            \n",
    "\n",
    "            \n",
    "finder([1, 2, 3, 4, 6, 7, 8, 9, 10])\n",
    "    "
   ]
  },
  {
   "cell_type": "code",
   "execution_count": null,
   "metadata": {},
   "outputs": [],
   "source": []
  }
 ],
 "metadata": {
  "kernelspec": {
   "display_name": "Python 3",
   "language": "python",
   "name": "python3"
  },
  "language_info": {
   "codemirror_mode": {
    "name": "ipython",
    "version": 3
   },
   "file_extension": ".py",
   "mimetype": "text/x-python",
   "name": "python",
   "nbconvert_exporter": "python",
   "pygments_lexer": "ipython3",
   "version": "3.7.6"
  }
 },
 "nbformat": 4,
 "nbformat_minor": 4
}
