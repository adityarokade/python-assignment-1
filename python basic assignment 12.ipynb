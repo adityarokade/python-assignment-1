{
 "cells": [
  {
   "cell_type": "code",
   "execution_count": 1,
   "metadata": {},
   "outputs": [
    {
     "name": "stdout",
     "output_type": "stream",
     "text": [
      "PdfFileReader() needs to be opened in read-binary mode by passing 'rb' as the second argument to open(). PdfFileWriter() needs to be opened in write-binary mode with 'wb'.\n"
     ]
    }
   ],
   "source": [
    "#1. In what modes should the PdfFileReader() and PdfFileWriter() File objects will be opened?\n",
    "print(\"PdfFileReader() needs to be opened in read-binary mode by passing 'rb' as the second argument to open(). PdfFileWriter() needs to be opened in write-binary mode with 'wb'.\")"
   ]
  },
  {
   "cell_type": "code",
   "execution_count": 1,
   "metadata": {},
   "outputs": [
    {
     "name": "stdout",
     "output_type": "stream",
     "text": [
      "By using the 'getPage()' method we can get page object or by passing page number as a argument we can get this page \n"
     ]
    }
   ],
   "source": [
    "#2. From a PdfFileReader object, how do you get a Page object for page 5?\n",
    "print(\"By using the 'getPage()' method we can get page object or by passing page number as a argument we can get this page \")"
   ]
  },
  {
   "cell_type": "code",
   "execution_count": 2,
   "metadata": {},
   "outputs": [
    {
     "name": "stdout",
     "output_type": "stream",
     "text": [
      "by using the numPages attribute of a PdfFileReader object\n"
     ]
    }
   ],
   "source": [
    "#3. What PdfFileReader variable stores the number of pages in the PDF document?\n",
    "print(\"by using the numPages attribute of a PdfFileReader object\")"
   ]
  },
  {
   "cell_type": "code",
   "execution_count": 3,
   "metadata": {},
   "outputs": [
    {
     "name": "stdout",
     "output_type": "stream",
     "text": [
      "We will be using this module to decrypt PDF files. We can provide this password to a PDF file in Python by the decrypt() function, passing in the password as the parameter to this function. If you want to see if a PDF file is encrypted or not, you can use the isEncrypted attribute, which will return True or False.\n"
     ]
    }
   ],
   "source": [
    "#4. If a PdfFileReader object’s PDF is encrypted with the password swordfish, what must you do before you can obtain Page objects from it?\n",
    "print(\"We will be using this module to decrypt PDF files. We can provide this password to a PDF file in Python by the decrypt() function, passing in the password as the parameter to this function. If you want to see if a PDF file is encrypted or not, you can use the isEncrypted attribute, which will return True or False.\")"
   ]
  },
  {
   "cell_type": "code",
   "execution_count": 4,
   "metadata": {},
   "outputs": [
    {
     "name": "stdout",
     "output_type": "stream",
     "text": [
      "We can rotate a page clockwise or counter-clockwise by an angle. The PdfFileWriter is used to write the PDF file from the source PDF. We are using rotateClockwise(90) method to rotate the page clockwise by 90-degrees.\n"
     ]
    }
   ],
   "source": [
    "#5. What methods do you use to rotate a page?\n",
    "print(\"We can rotate a page clockwise or counter-clockwise by an angle. The PdfFileWriter is used to write the PDF file from the source PDF. We are using rotateClockwise(90) method to rotate the page clockwise by 90-degrees.\")"
   ]
  },
  {
   "cell_type": "code",
   "execution_count": 5,
   "metadata": {},
   "outputs": [
    {
     "name": "stdout",
     "output_type": "stream",
     "text": [
      "Each Paragraph object also has a runs attribute that is a list of Run objects. Run objects also have a text attribute, containing just the text in that particular run. Let's look at the text attributes in the second Paragraph object, 'A plain paragraph with some bold and some italic' .\n"
     ]
    }
   ],
   "source": [
    "#6. What is the difference between a Run object and a Paragraph object?\n",
    "print(\"Each Paragraph object also has a runs attribute that is a list of Run objects. Run objects also have a text attribute, containing just the text in that particular run. Let's look at the text attributes in the second Paragraph object, 'A plain paragraph with some bold and some italic' .\")"
   ]
  },
  {
   "cell_type": "code",
   "execution_count": 7,
   "metadata": {},
   "outputs": [
    {
     "name": "stdout",
     "output_type": "stream",
     "text": [
      "by using  'doc.paragraphs'\n"
     ]
    }
   ],
   "source": [
    "#7. How do you obtain a list of Paragraph objects for a Document object that’s stored in a variable named doc?\n",
    "print(\"by using  'doc.paragraphs'\")"
   ]
  },
  {
   "cell_type": "code",
   "execution_count": 8,
   "metadata": {},
   "outputs": [
    {
     "name": "stdout",
     "output_type": "stream",
     "text": [
      "A Run object has these variables\n"
     ]
    }
   ],
   "source": [
    "#8. What type of object has bold, underline, italic, strike, and outline variables?\n",
    "print(\"A Run object has these variables\")"
   ]
  },
  {
   "cell_type": "code",
   "execution_count": 10,
   "metadata": {},
   "outputs": [
    {
     "name": "stdout",
     "output_type": "stream",
     "text": [
      "True always makes the Run object bolded and False makes it always not bolded, no matter what the style's bold setting is. None will make the Run object just use the style's bold setting.\n"
     ]
    }
   ],
   "source": [
    "#9. What is the difference between False, True, and None for the bold variable?\n",
    "print(\"True always makes the Run object bolded and False makes it always not bolded, no matter what the style's bold setting is. None will make the Run object just use the style's bold setting.\")"
   ]
  },
  {
   "cell_type": "code",
   "execution_count": 11,
   "metadata": {},
   "outputs": [
    {
     "name": "stdout",
     "output_type": "stream",
     "text": [
      "Call the docx.Document() function.\n"
     ]
    }
   ],
   "source": [
    "#10. How do you create a Document object for a new Word document?\n",
    "print(\"Call the docx.Document() function.\")"
   ]
  },
  {
   "cell_type": "code",
   "execution_count": 12,
   "metadata": {},
   "outputs": [
    {
     "name": "stdout",
     "output_type": "stream",
     "text": [
      "doc.add_paragraph('Hello there!')\n"
     ]
    }
   ],
   "source": [
    "#11. How do you add a paragraph with the text 'Hello, there!' to a Document object stored in a variable named doc?\n",
    "print(\"doc.add_paragraph('Hello there!')\")"
   ]
  },
  {
   "cell_type": "code",
   "execution_count": 13,
   "metadata": {},
   "outputs": [
    {
     "name": "stdout",
     "output_type": "stream",
     "text": [
      "The integers 0,1,2,3, and 4\n"
     ]
    }
   ],
   "source": [
    "#12. What integers represent the levels of headings available in Word documents?\n",
    "print(\"The integers 0,1,2,3, and 4\")"
   ]
  },
  {
   "cell_type": "code",
   "execution_count": null,
   "metadata": {},
   "outputs": [],
   "source": []
  }
 ],
 "metadata": {
  "kernelspec": {
   "display_name": "Python 3",
   "language": "python",
   "name": "python3"
  },
  "language_info": {
   "codemirror_mode": {
    "name": "ipython",
    "version": 3
   },
   "file_extension": ".py",
   "mimetype": "text/x-python",
   "name": "python",
   "nbconvert_exporter": "python",
   "pygments_lexer": "ipython3",
   "version": "3.7.6"
  }
 },
 "nbformat": 4,
 "nbformat_minor": 4
}
