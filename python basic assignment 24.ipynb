{
 "cells": [
  {
   "cell_type": "code",
   "execution_count": 2,
   "metadata": {},
   "outputs": [
    {
     "name": "stdout",
     "output_type": "stream",
     "text": [
      "a lambda expression is an expression which evaluates to a function object, while a def statement has no value, and creates a function object and binds it\n"
     ]
    }
   ],
   "source": [
    "#1. What is the relationship between def statements and lambda expressions ?\n",
    "\n",
    "print(\"a lambda expression is an expression which evaluates to a function object, while a def statement has no value, and creates a function object and binds it\")"
   ]
  },
  {
   "cell_type": "code",
   "execution_count": 3,
   "metadata": {},
   "outputs": [
    {
     "name": "stdout",
     "output_type": "stream",
     "text": [
      "1)it reduces the length of code .2)lambda is use to create anonymous functions.\n"
     ]
    }
   ],
   "source": [
    "#2. What is the benefit of lambda?\n",
    "print(\"1)it reduces the length of code .2)lambda is use to create anonymous functions.\")"
   ]
  },
  {
   "cell_type": "code",
   "execution_count": 4,
   "metadata": {},
   "outputs": [
    {
     "name": "stdout",
     "output_type": "stream",
     "text": [
      " in Python 3 reduce() isn't a built-in function anymore, and it can be found in the functools module.reduce() works differently than map() and filter() . It does not return a new list based on the function and iterable we've passed. Instead, it returns a single value\n"
     ]
    }
   ],
   "source": [
    "#3. Compare and contrast map, filter, and reduce.\n",
    "print(\" in Python 3 reduce() isn't a built-in function anymore, and it can be found in the functools module.reduce() works differently than map() and filter() . It does not return a new list based on the function and iterable we've passed. Instead, it returns a single value\")"
   ]
  },
  {
   "cell_type": "code",
   "execution_count": 5,
   "metadata": {},
   "outputs": [
    {
     "name": "stdout",
     "output_type": "stream",
     "text": [
      "Function annotations, both for parameters and return values, are completely optional. Function annotations are nothing more than a way of associating arbitrary Python expressions with various parts of a function at compile-time. By itself, Python does not attach any particular meaning or significance to annotations\n"
     ]
    }
   ],
   "source": [
    "#4. What are function annotations, and how are they used?\n",
    "print(\"Function annotations, both for parameters and return values, are completely optional. Function annotations are nothing more than a way of associating arbitrary Python expressions with various parts of a function at compile-time. By itself, Python does not attach any particular meaning or significance to annotations\")"
   ]
  },
  {
   "cell_type": "code",
   "execution_count": 6,
   "metadata": {},
   "outputs": [
    {
     "name": "stdout",
     "output_type": "stream",
     "text": [
      "recursive function means call a function inside function to execute many times/to iteration\n",
      "call function inside the function\n"
     ]
    }
   ],
   "source": [
    "#5. What are recursive functions, and how are they used?\n",
    "print(\"recursive function means call a function inside function to execute many times/to iteration\")\n",
    "print(\"call function inside the function\")"
   ]
  },
  {
   "cell_type": "code",
   "execution_count": 7,
   "metadata": {},
   "outputs": [
    {
     "name": "stdout",
     "output_type": "stream",
     "text": [
      "Secure: It can't be hacked\n",
      "Reliable: It functions as it should, every time\n",
      "Maintainable: It can be maintained, even as your codebase grows\n",
      "Safe: It can be used without causing harm\n",
      "Testable: It can be tested at the code level\n"
     ]
    }
   ],
   "source": [
    "#6. What are some general design guidelines for coding functions?\n",
    "print(\"Secure: It can't be hacked\")\n",
    "print(\"Reliable: It functions as it should, every time\")\n",
    "print(\"Maintainable: It can be maintained, even as your codebase grows\")\n",
    "print(\"Safe: It can be used without causing harm\")\n",
    "print(\"Testable: It can be tested at the code level\")"
   ]
  },
  {
   "cell_type": "code",
   "execution_count": 8,
   "metadata": {},
   "outputs": [
    {
     "name": "stdout",
     "output_type": "stream",
     "text": [
      "two waye are to call function 'Call by Value. Call by Reference'\n"
     ]
    }
   ],
   "source": [
    "#7. Name three or more ways that functions can communicate results to a caller.\n",
    "print(\"two waye are to call function 'Call by Value. Call by Reference'\")"
   ]
  },
  {
   "cell_type": "code",
   "execution_count": null,
   "metadata": {},
   "outputs": [],
   "source": []
  }
 ],
 "metadata": {
  "kernelspec": {
   "display_name": "Python 3",
   "language": "python",
   "name": "python3"
  },
  "language_info": {
   "codemirror_mode": {
    "name": "ipython",
    "version": 3
   },
   "file_extension": ".py",
   "mimetype": "text/x-python",
   "name": "python",
   "nbconvert_exporter": "python",
   "pygments_lexer": "ipython3",
   "version": "3.7.6"
  }
 },
 "nbformat": 4,
 "nbformat_minor": 4
}
