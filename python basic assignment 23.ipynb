{
 "cells": [
  {
   "cell_type": "code",
   "execution_count": 1,
   "metadata": {},
   "outputs": [
    {
     "name": "stdout",
     "output_type": "stream",
     "text": [
      "1 2 8\n",
      "The output of the code is :-'1,2,8'-in function 'func' 3 arguments are passed (a,b,c ) but value of (b,c) is already passed and paramenter b is value is override\n"
     ]
    }
   ],
   "source": [
    "#1. What is the result of the code, and why?\n",
    "#code:\n",
    "def func(a, b=6, c=8):\n",
    "    print(a, b, c)\n",
    "func(1, 2)\n",
    "\n",
    "print(\"The output of the code is :-'1,2,8'-in function 'func' 3 arguments are passed (a,b,c ) but value of (b,c) is already passed and paramenter b is value is override\")"
   ]
  },
  {
   "cell_type": "code",
   "execution_count": 2,
   "metadata": {},
   "outputs": [
    {
     "name": "stdout",
     "output_type": "stream",
     "text": [
      "1 2 3\n",
      "output of the code:-'1,3,2',because argument c is override \n"
     ]
    }
   ],
   "source": [
    "#2. What is the result of this code, and why?\n",
    "#code:\n",
    "def func(a, b, c=5):\n",
    "    print(a, b, c)\n",
    "func(1, c=3, b=2)\n",
    "print(\"output of the code:-'1,3,2',because argument c is override \")"
   ]
  },
  {
   "cell_type": "code",
   "execution_count": 4,
   "metadata": {},
   "outputs": [
    {
     "name": "stdout",
     "output_type": "stream",
     "text": [
      "1 (2, 3)\n",
      "output of the code is:-'1 (2,3)',because in this function '*pargs ' argument is used,it is used to to take many parameners and convert it into tuple\n"
     ]
    }
   ],
   "source": [
    "#3. How about this code: what is its result, and why?\n",
    "#code:\n",
    "def func(a, *pargs):\n",
    "    print(a, pargs)\n",
    "func(1, 2, 3)\n",
    "\n",
    "print(\"output of the code is:-'1 (2,3)',because in this function '*pargs ' argument is used,it is used to to take many parameners and convert it into tuple\")"
   ]
  },
  {
   "cell_type": "code",
   "execution_count": 6,
   "metadata": {},
   "outputs": [
    {
     "name": "stdout",
     "output_type": "stream",
     "text": [
      "1 {'c': 3, 'b': 2}\n",
      "the output of the code is :-'1 {'c': 3, 'b': 2}',in this '**kargs ' is used,it is used to take many arguments at a time in key:value pair\n"
     ]
    }
   ],
   "source": [
    "#4. What does this code print, and why?\n",
    "#code:\n",
    "def func(a, **kargs):\n",
    "    print(a, kargs)\n",
    "func(a=1, c=3, b=2)\n",
    "print(\"the output of the code is :-'1 {'c': 3, 'b': 2}',in this '**kargs ' is used,it is used to take many arguments at a time in key:value pair\")"
   ]
  },
  {
   "cell_type": "code",
   "execution_count": 8,
   "metadata": {},
   "outputs": [
    {
     "name": "stdout",
     "output_type": "stream",
     "text": [
      "1 5 6 5\n",
      "the output of the code is '1 5 6 5',argument c is overide and parameter is passes in form of tuple\n"
     ]
    }
   ],
   "source": [
    "#5. What gets printed by this, and explain?\n",
    "#code:-\n",
    "def func(a, b, c=8, d=5):\n",
    "    print(a, b, c, d)\n",
    "func(1, *(5, 6))\n",
    "\n",
    "print(\"the output of the code is '1 5 6 5',argument c is overide and parameter is passes in form of tuple\")"
   ]
  },
  {
   "cell_type": "code",
   "execution_count": 11,
   "metadata": {},
   "outputs": [
    {
     "name": "stdout",
     "output_type": "stream",
     "text": [
      "output of the code is :-'(1, ['x'], {'a': 'y'})'\n"
     ]
    }
   ],
   "source": [
    "#6. what is the result of this, and explain?\n",
    "#code:\n",
    "\n",
    "def func(a, b, c):\n",
    "    a = 2; b[0] = 'x'; c['a'] = 'y'\n",
    "l=1; m=[1]; n={'a':0}\n",
    "func(l, m, n)\n",
    "l, m, n\n",
    "\n",
    "print(\"output of the code is :-'(1, ['x'], {'a': 'y'})'\")"
   ]
  },
  {
   "cell_type": "code",
   "execution_count": null,
   "metadata": {},
   "outputs": [],
   "source": []
  }
 ],
 "metadata": {
  "kernelspec": {
   "display_name": "Python 3",
   "language": "python",
   "name": "python3"
  },
  "language_info": {
   "codemirror_mode": {
    "name": "ipython",
    "version": 3
   },
   "file_extension": ".py",
   "mimetype": "text/x-python",
   "name": "python",
   "nbconvert_exporter": "python",
   "pygments_lexer": "ipython3",
   "version": "3.7.6"
  }
 },
 "nbformat": 4,
 "nbformat_minor": 4
}
