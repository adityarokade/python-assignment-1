{
 "cells": [
  {
   "cell_type": "code",
   "execution_count": 1,
   "metadata": {},
   "outputs": [
    {
     "name": "stdout",
     "output_type": "stream",
     "text": [
      " values are ['hello',-87.8,6] and expressions are [*,/,-,+]\n"
     ]
    }
   ],
   "source": [
    "#1. In the below elements which of them are values or an expression? eg:- values can be integer or string and expressions will be mathematical operators.\n",
    "\n",
    "\n",
    "print(\" values are ['hello',-87.8,6] and expressions are [*,/,-,+]\")\n",
    "\n"
   ]
  },
  {
   "cell_type": "code",
   "execution_count": 2,
   "metadata": {},
   "outputs": [
    {
     "name": "stdout",
     "output_type": "stream",
     "text": [
      "The difference between string and variable is :\n",
      " The variable is store of imformation and string is type of imformation which is store in variable \n",
      "\n",
      "ex: X= welcome to full stack data science. where 'x' is variable and 'welcome to full stack data science' is string\n"
     ]
    }
   ],
   "source": [
    "#2. What is the difference between string and variable?\n",
    "print(\"The difference between string and variable is :\")\n",
    "print(\" The variable is store of imformation and string is type of imformation which is store in variable \")\n",
    "print()\n",
    "print(\"ex: X= welcome to full stack data science. where 'x' is variable and 'welcome to full stack data science' is string\")"
   ]
  },
  {
   "cell_type": "code",
   "execution_count": 3,
   "metadata": {},
   "outputs": [
    {
     "name": "stdout",
     "output_type": "stream",
     "text": [
      " data types are:\n",
      "1)integer :all natural numbers are integers ,integers are whole numbers.  There is   nothing between 2 and 3. and nothing fractional part \n",
      "\n",
      " ex-1,2,3,4,5,6,67,,8,99,'etc'\n",
      "\n",
      "2)string: string  is the sequence of charecters.string is immutable in nature but by using python method we can modify the string. string is writting in single,double or triple quata \n",
      "\n",
      "ex- 'hello','a','b','etc'\n",
      "\n",
      "3) float: float represents real number and written with decimal point dividing the integer and fractional part. ex-56.4,34.9  \n"
     ]
    }
   ],
   "source": [
    "#3. Describe three different data types.\n",
    "\n",
    "print(\" data types are:\")\n",
    "print(\"1)integer :all natural numbers are integers ,integers are whole numbers.  There is   nothing between 2 and 3. and nothing fractional part \")\n",
    "print()\n",
    "print(\" ex-1,2,3,4,5,6,67,,8,99,'etc'\")\n",
    "\n",
    "print()\n",
    "print(\"2)string: string  is the sequence of charecters.string is immutable in nature but by using python method we can modify the string. string is writting in single,double or triple quata \")\n",
    "print()\n",
    "print(\"ex- 'hello','a','b','etc'\")\n",
    "print()\n",
    "print(\"3) float: float represents real number and written with decimal point dividing the integer and fractional part. ex-56.4,34.9  \")"
   ]
  },
  {
   "cell_type": "code",
   "execution_count": 4,
   "metadata": {},
   "outputs": [
    {
     "name": "stdout",
     "output_type": "stream",
     "text": [
      "Expression is a combination of  diffenent variables and  various operations and values that yields a result value. An expression is something that can be reduced to a value\n"
     ]
    }
   ],
   "source": [
    "#4. What is an expression made up of? What do all expressions do?\n",
    "print(\"Expression is a combination of  diffenent variables and  various operations and values that yields a result value. An expression is something that can be reduced to a value\")"
   ]
  },
  {
   "cell_type": "code",
   "execution_count": 5,
   "metadata": {},
   "outputs": [
    {
     "name": "stdout",
     "output_type": "stream",
     "text": [
      "The expression is evalutes the value ,reduce the value.And statement does not\n"
     ]
    }
   ],
   "source": [
    "#5. This assignment statements, like spam = 10. What is the difference between an expression and a statement?\n",
    "\n",
    "print(\"The expression is evalutes the value ,reduce the value.And statement does not\")"
   ]
  },
  {
   "cell_type": "code",
   "execution_count": 6,
   "metadata": {},
   "outputs": [
    {
     "ename": "NameError",
     "evalue": "name 'bacon' is not defined",
     "output_type": "error",
     "traceback": [
      "\u001b[0;31m---------------------------------------------------------------------------\u001b[0m",
      "\u001b[0;31mNameError\u001b[0m                                 Traceback (most recent call last)",
      "\u001b[0;32m<ipython-input-6-5562b1935775>\u001b[0m in \u001b[0;36m<module>\u001b[0;34m\u001b[0m\n\u001b[1;32m      1\u001b[0m \u001b[0;31m#6 After running the following code, what does the variable bacon contain?\u001b[0m\u001b[0;34m\u001b[0m\u001b[0;34m\u001b[0m\u001b[0;34m\u001b[0m\u001b[0m\n\u001b[1;32m      2\u001b[0m \u001b[0mtbacon\u001b[0m \u001b[0;34m=\u001b[0m \u001b[0;36m22\u001b[0m\u001b[0;34m\u001b[0m\u001b[0;34m\u001b[0m\u001b[0m\n\u001b[0;32m----> 3\u001b[0;31m \u001b[0mt1\u001b[0m\u001b[0;34m=\u001b[0m\u001b[0mbacon\u001b[0m \u001b[0;34m+\u001b[0m \u001b[0;36m1\u001b[0m\u001b[0;34m\u001b[0m\u001b[0;34m\u001b[0m\u001b[0m\n\u001b[0m\u001b[1;32m      4\u001b[0m \u001b[0;34m\u001b[0m\u001b[0m\n\u001b[1;32m      5\u001b[0m \u001b[0mprint\u001b[0m\u001b[0;34m(\u001b[0m\u001b[0;34m\"The variable bacon contain :\"\u001b[0m\u001b[0;34m,\u001b[0m\u001b[0mt1\u001b[0m\u001b[0;34m)\u001b[0m\u001b[0;34m\u001b[0m\u001b[0;34m\u001b[0m\u001b[0m\n",
      "\u001b[0;31mNameError\u001b[0m: name 'bacon' is not defined"
     ]
    }
   ],
   "source": [
    "#6 After running the following code, what does the variable bacon contain? \n",
    "tbacon = 22\n",
    "t1=bacon + 1\n",
    "\n",
    "print(\"The variable bacon contain :\",t1)"
   ]
  },
  {
   "cell_type": "code",
   "execution_count": 7,
   "metadata": {},
   "outputs": [
    {
     "name": "stdout",
     "output_type": "stream",
     "text": [
      "the values of 'spam'+'spamspam ' is:  spamspamspam\n",
      "the value of 'spam'*3 is: spamspamspam\n"
     ]
    }
   ],
   "source": [
    "#7. What should the values of the following two terms be?\n",
    "\n",
    "s='spam'+'spamspam'\n",
    "p='spam'*3\n",
    "\n",
    "print(\"the values of 'spam'+'spamspam ' is: \",s)\n",
    "print(\"the value of 'spam'*3 is:\",p)\n"
   ]
  },
  {
   "cell_type": "code",
   "execution_count": 8,
   "metadata": {},
   "outputs": [
    {
     "name": "stdout",
     "output_type": "stream",
     "text": [
      "because variable name is not start with numbers like- int,flout,complex ,etc \n"
     ]
    }
   ],
   "source": [
    "#8. Why is eggs a valid variable name while 100 is invalid?\n",
    "\n",
    "print(\"because variable name is not start with numbers like- int,flout,complex ,etc \")"
   ]
  },
  {
   "cell_type": "code",
   "execution_count": 11,
   "metadata": {},
   "outputs": [
    {
     "name": "stdout",
     "output_type": "stream",
     "text": [
      "we can use 1)int(),2)float(),3)str()\n",
      "\n",
      "Enter the  intger data:56\n",
      "56\n",
      "<class 'int'>\n",
      "Ennter the float data:67\n",
      "67.0\n",
      "<class 'float'>\n",
      "Enter the  string data:adi\n",
      "adi\n",
      "<class 'str'>\n"
     ]
    }
   ],
   "source": [
    "#9. What three functions can be used to get the integer, floating-point number, or string version of a value?\n",
    "\n",
    "\n",
    "\n",
    "\n",
    "print(\"we can use 1)int(),2)float(),3)str()\")\n",
    "print()\n",
    "a=int(input(\"Enter the  intger data:\"))\n",
    "print(a)\n",
    "print(type(a))\n",
    "b=float(input(\"Ennter the float data:\"))\n",
    "print(b)\n",
    "print(type(b))\n",
    "c=str(input(\"Enter the  string data:\"))#by default the input function takking the data in string format\n",
    "\n",
    "print(c)\n",
    "print(type(c))"
   ]
  },
  {
   "cell_type": "code",
   "execution_count": 10,
   "metadata": {},
   "outputs": [
    {
     "name": "stdout",
     "output_type": "stream",
     "text": [
      "because the exprassion having to types of data one is string ond other is integer.We conn't concatenate the to different type of data,only same type of data\n"
     ]
    }
   ],
   "source": [
    "#10. Why does this expression cause an error? How can you fix it?\n",
    "\n",
    "# 'i have eaten'+99+'burritos'\n",
    "\n",
    "\n",
    "\n",
    "print(\"because the exprassion having to types of data one is string ond other is integer.We conn't concatenate the to different type of data,only same type of data\")"
   ]
  },
  {
   "cell_type": "code",
   "execution_count": null,
   "metadata": {},
   "outputs": [],
   "source": []
  }
 ],
 "metadata": {
  "kernelspec": {
   "display_name": "Python 3",
   "language": "python",
   "name": "python3"
  },
  "language_info": {
   "codemirror_mode": {
    "name": "ipython",
    "version": 3
   },
   "file_extension": ".py",
   "mimetype": "text/x-python",
   "name": "python",
   "nbconvert_exporter": "python",
   "pygments_lexer": "ipython3",
   "version": "3.7.4"
  }
 },
 "nbformat": 4,
 "nbformat_minor": 4
}
