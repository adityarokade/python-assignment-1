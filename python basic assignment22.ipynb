{
 "cells": [
  {
   "cell_type": "code",
   "execution_count": 1,
   "metadata": {},
   "outputs": [
    {
     "name": "stdout",
     "output_type": "stream",
     "text": [
      "iNeuron\n",
      "The result of the code is 'iNeuron' ,In this code the one global variable is use and one 'func()' function is created and in this function the one print statement is to print the value of 'x'which is decleared outside the function  \n"
     ]
    }
   ],
   "source": [
    "#1. What is the result of the code, and explain?\n",
    "#code:\n",
    "X = 'iNeuron'\n",
    "def func():\n",
    "    print(X)\n",
    "\n",
    "\n",
    "func()\n",
    "\n",
    "print(\"The result of the code is 'iNeuron' ,In this code the one global variable is use and one 'func()' function is created and in this function the one print statement is to print the value of 'x'which is decleared outside the function  \")"
   ]
  },
  {
   "cell_type": "code",
   "execution_count": 2,
   "metadata": {},
   "outputs": [
    {
     "name": "stdout",
     "output_type": "stream",
     "text": [
      "iNeuron\n",
      "The result of the above code is 'iNeuron' .one variable 'X' is created and one 'func()' is created,x is global variable because it is created outside the function and in this overide the value of x and after that we call the function and print the value of x\n"
     ]
    }
   ],
   "source": [
    "#2. What is the result of the code, and explain?\n",
    "#code:\n",
    "X = 'iNeuron'\n",
    "def func():\n",
    "    X = 'NI!'\n",
    "\n",
    "\n",
    "func()\n",
    "print(X)\n",
    "\n",
    "print(\"The result of the above code is 'iNeuron' .one variable 'X' is created and one 'func()' is created,x is global variable because it is created outside the function and in this overide the value of x and after that we call the function and print the value of x\")"
   ]
  },
  {
   "cell_type": "code",
   "execution_count": 3,
   "metadata": {},
   "outputs": [
    {
     "name": "stdout",
     "output_type": "stream",
     "text": [
      "NI\n",
      "iNeuron\n",
      "The result of the above code is 'NI','iNeuron'.in this difference is we print the value of x inside the function and outside the function also,but we reasign the value of x in function \n"
     ]
    }
   ],
   "source": [
    "#what is the result of the code,and explain?\n",
    "#code:\n",
    "X = 'iNeuron'\n",
    "def func():\n",
    "    X = 'NI'\n",
    "    print(X)\n",
    "\n",
    "\n",
    "func()\n",
    "print(X)\n",
    "\n",
    "print(\"The result of the above code is 'NI','iNeuron'.in this difference is we print the value of x inside the function and outside the function also,but we reasign the value of x in function \")"
   ]
  },
  {
   "cell_type": "code",
   "execution_count": 4,
   "metadata": {},
   "outputs": [
    {
     "name": "stdout",
     "output_type": "stream",
     "text": [
      "NI\n",
      "the output of the code is 'NI',by using 'global' keyword we reasign the value of x\n"
     ]
    }
   ],
   "source": [
    "#4. What output does this code produce? Why?\n",
    "#code:\n",
    "X = 'iNeuron'\n",
    "def func():\n",
    "    global X\n",
    "    \n",
    "    X = 'NI'\n",
    "\n",
    "\n",
    "func()\n",
    "print(X)\n",
    "print(\"the output of the code is 'NI',by using 'global' keyword we reasign the value of x\")"
   ]
  },
  {
   "cell_type": "code",
   "execution_count": 5,
   "metadata": {},
   "outputs": [
    {
     "name": "stdout",
     "output_type": "stream",
     "text": [
      "iNeuron\n",
      "output of the code is 'iNeuron'because-we printed directed value of x and in nested fun value of x,but in 'func'we not printed the value of x\n"
     ]
    }
   ],
   "source": [
    "#5. What about this code—what’s the output, and why?\n",
    "#code :\n",
    "X = 'iNeuron'\n",
    "def func():\n",
    "    X = 'NI'\n",
    "def nested():\n",
    "    print(X)\n",
    "nested()\n",
    "\n",
    "\n",
    "func()\n",
    "X\n",
    "\n",
    "print(\"output of the code is 'iNeuron'because-we printed directed value of x and in nested fun value of x,but in 'func'we not printed the value of x\")"
   ]
  },
  {
   "cell_type": "code",
   "execution_count": 6,
   "metadata": {},
   "outputs": [
    {
     "name": "stdout",
     "output_type": "stream",
     "text": [
      "Spam\n",
      "output of the code is -'Spam' we use nested function(function inside function)\n"
     ]
    }
   ],
   "source": [
    "#How about this code: what is its output in Python 3, and explain?\n",
    "\n",
    "def func():\n",
    "    X = 'NI'\n",
    "    def nested():\n",
    "        nonlocal X\n",
    "        X = 'Spam'\n",
    "    nested()\n",
    "    print(X)\n",
    "\n",
    "\n",
    "func()\n",
    "print(\"output of the code is -'Spam' we use nested function(function inside function)\")"
   ]
  },
  {
   "cell_type": "code",
   "execution_count": null,
   "metadata": {},
   "outputs": [],
   "source": []
  }
 ],
 "metadata": {
  "kernelspec": {
   "display_name": "Python 3",
   "language": "python",
   "name": "python3"
  },
  "language_info": {
   "codemirror_mode": {
    "name": "ipython",
    "version": 3
   },
   "file_extension": ".py",
   "mimetype": "text/x-python",
   "name": "python",
   "nbconvert_exporter": "python",
   "pygments_lexer": "ipython3",
   "version": "3.7.6"
  }
 },
 "nbformat": 4,
 "nbformat_minor": 4
}
