{
 "cells": [
  {
   "cell_type": "code",
   "execution_count": 14,
   "metadata": {},
   "outputs": [
    {
     "data": {
      "text/plain": [
       "[1, 2, 3]"
      ]
     },
     "execution_count": 14,
     "metadata": {},
     "output_type": "execute_result"
    }
   ],
   "source": [
    "#Create a function that takes an integer and returns a list from 1 to the given number, where:\n",
    "#    1. If the number can be divided evenly by 4, amplify it by 10 (i.e. return 10 times the number).\n",
    "#    2. If the number cannot be divided evenly by 4, simply return the number.\n",
    "\n",
    "\n",
    "def amplify(n):\n",
    "    l=[]\n",
    "    for i in range(1,n+1):\n",
    "        \n",
    "        if i%4==0:\n",
    "            l.append(i*10)\n",
    "        else:\n",
    "            l.append(i)\n",
    "            \n",
    "    return l\n",
    "        \n",
    "amplify(4)\n",
    "amplify(25)\n",
    "amplify(3)\n",
    "\n",
    "\n"
   ]
  },
  {
   "cell_type": "code",
   "execution_count": 21,
   "metadata": {},
   "outputs": [
    {
     "data": {
      "text/plain": [
       "0.77"
      ]
     },
     "execution_count": 21,
     "metadata": {},
     "output_type": "execute_result"
    }
   ],
   "source": [
    "#Create a function that takes a list of numbers and return the number that's unique.\n",
    "\n",
    "\n",
    "def unique(l):\n",
    "    for i in l:\n",
    "        if l.count(i)>1:\n",
    "            pass\n",
    "        else:\n",
    "            return i\n",
    "        \n",
    "unique([3, 3, 3, 7, 3, 3])\n",
    "unique([0, 0, 0.77, 0, 0])"
   ]
  },
  {
   "cell_type": "code",
   "execution_count": 29,
   "metadata": {},
   "outputs": [
    {
     "name": "stdout",
     "output_type": "stream",
     "text": [
      "254\n",
      "56\n"
     ]
    }
   ],
   "source": [
    "#Your task is to create a Circle constructor that creates a circle with a radius provided by an argument. The circles constructed must have two getters getArea() (PIr^2) and getPerimeter() (2PI*r) which give both respective areas and perimeter (circumference).\n",
    "\n",
    "\n",
    "\n",
    "class Circle_constructor():\n",
    "    def __init__(self,r):\n",
    "        self.r=r\n",
    "    def get_area(self):\n",
    "        area=(3.14*self.r**2)\n",
    "        print(int(area))\n",
    "    def get_circumference(self):\n",
    "        circumference=(2*3.14*self.r)\n",
    "        print(int(circumference))\n",
    "\n",
    "    \n",
    "    \n",
    "constructor=Circle_constructor(9)\n",
    "constructor.get_area()\n",
    "constructor.get_circumference()"
   ]
  },
  {
   "cell_type": "code",
   "execution_count": 35,
   "metadata": {},
   "outputs": [
    {
     "data": {
      "text/plain": [
       "['Apple', 'Google', 'Microsoft']"
      ]
     },
     "execution_count": 35,
     "metadata": {},
     "output_type": "execute_result"
    }
   ],
   "source": [
    "#Create a function that takes a list of strings and return a list, sorted from shortest to longest.\n",
    "\n",
    "def sort_by_length(l):\n",
    "    l1=sorted(l,key=len)\n",
    "    return l1\n",
    "        \n",
    "sort_by_length([\"Google\", \"Apple\", \"Microsoft\"])"
   ]
  },
  {
   "cell_type": "code",
   "execution_count": 43,
   "metadata": {},
   "outputs": [
    {
     "data": {
      "text/plain": [
       "False"
      ]
     },
     "execution_count": 43,
     "metadata": {},
     "output_type": "execute_result"
    }
   ],
   "source": [
    "#Create a function that validates whether three given integers form a Pythagorean triplet. The sum of the squares of the two smallest integers must equal the square of the largest number to be validated.\n",
    "\n",
    "\n",
    "def is_triplet(x,y,z):\n",
    "    l=[]\n",
    "    l.append(x)\n",
    "    l.append(y)\n",
    "    l.append(z)\n",
    "    l1=sorted(l)\n",
    "    if ((l1[0]**2)+(l1[1]**2))==(l1[2]**2):\n",
    "        return True\n",
    "    else:\n",
    "        return False\n",
    "            \n",
    "    \n",
    "    \n",
    "    \n",
    "    \n",
    "is_triplet(13,5,12) \n",
    "is_triplet(1,2,3)"
   ]
  },
  {
   "cell_type": "code",
   "execution_count": null,
   "metadata": {},
   "outputs": [],
   "source": []
  }
 ],
 "metadata": {
  "kernelspec": {
   "display_name": "Python 3",
   "language": "python",
   "name": "python3"
  },
  "language_info": {
   "codemirror_mode": {
    "name": "ipython",
    "version": 3
   },
   "file_extension": ".py",
   "mimetype": "text/x-python",
   "name": "python",
   "nbconvert_exporter": "python",
   "pygments_lexer": "ipython3",
   "version": "3.7.6"
  }
 },
 "nbformat": 4,
 "nbformat_minor": 4
}
