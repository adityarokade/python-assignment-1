{
 "cells": [
  {
   "cell_type": "code",
   "execution_count": 1,
   "metadata": {},
   "outputs": [
    {
     "name": "stdout",
     "output_type": "stream",
     "text": [
      "PyInputPlus is a Python module used for taking inputs with additional validation features. PyInputPlus will keep asking the user for text until they enter valid input.\n"
     ]
    }
   ],
   "source": [
    "#1. Is the Python Standard Library included with PyInputPlus?\n",
    "print(\"PyInputPlus is a Python module used for taking inputs with additional validation features. PyInputPlus will keep asking the user for text until they enter valid input.\")"
   ]
  },
  {
   "cell_type": "code",
   "execution_count": 2,
   "metadata": {},
   "outputs": [
    {
     "name": "stdout",
     "output_type": "stream",
     "text": [
      "You can import the module with import pyinputplus as pyip so that you can enter a shorter name when calling the module's functions. PyInputPlus has functions for entering a variety of input, including strings, numbers, dates, yes/no, True/False, emails, and files\n"
     ]
    }
   ],
   "source": [
    "#2. Why is PyInputPlus commonly imported with import pyinputplus as pypi?\n",
    "print(\"You can import the module with import pyinputplus as pyip so that you can enter a shorter name when calling the module's functions. PyInputPlus has functions for entering a variety of input, including strings, numbers, dates, yes/no, True/False, emails, and files\")"
   ]
  },
  {
   "cell_type": "code",
   "execution_count": 3,
   "metadata": {},
   "outputs": [
    {
     "name": "stdout",
     "output_type": "stream",
     "text": [
      "The difference is in the data-type,  the first one is the  expects an integer value as input and  In the latter it expects a float value i.e number containing a decimal.\n"
     ]
    }
   ],
   "source": [
    "#3. How do you distinguish between inputInt() and inputFloat()?\n",
    "print(\"The difference is in the data-type,  the first one is the  expects an integer value as input and  In the latter it expects a float value i.e number containing a decimal.\")"
   ]
  },
  {
   "cell_type": "code",
   "execution_count": 4,
   "metadata": {},
   "outputs": [
    {
     "name": "stdout",
     "output_type": "stream",
     "text": [
      "By using pyip.inputint(min=0, max=99)\n"
     ]
    }
   ],
   "source": [
    "#4. Using PyInputPlus, how do you ensure that the user enters a whole number between 0 and 99?\n",
    "print(\"By using pyip.inputint(min=0, max=99)\")"
   ]
  },
  {
   "cell_type": "code",
   "execution_count": 5,
   "metadata": {},
   "outputs": [
    {
     "name": "stdout",
     "output_type": "stream",
     "text": [
      "The allowRegexes and blockRegexes Keyword Arguments We can set a list of regex strings to the allowRegexes parameter to the PyInputPlus functions. In the code above, we allow phone numbers to be entered as the input value by setting a list of regex with the phone number regex to it\n"
     ]
    }
   ],
   "source": [
    "#5. What is transferred to the keyword arguments allowRegexes and blockRegexes?\n",
    "print(\"The allowRegexes and blockRegexes Keyword Arguments We can set a list of regex strings to the allowRegexes parameter to the PyInputPlus functions. In the code above, we allow phone numbers to be entered as the input value by setting a list of regex with the phone number regex to it\")"
   ]
  },
  {
   "cell_type": "code",
   "execution_count": 6,
   "metadata": {},
   "outputs": [
    {
     "name": "stdout",
     "output_type": "stream",
     "text": [
      "It will raise an RetryLimitException exception\n"
     ]
    }
   ],
   "source": [
    "#6. If a blank input is entered three times, what does inputStr(limit=3) do?\n",
    "print(\"It will raise an RetryLimitException exception\")"
   ]
  },
  {
   "cell_type": "code",
   "execution_count": 8,
   "metadata": {},
   "outputs": [
    {
     "name": "stdout",
     "output_type": "stream",
     "text": [
      "it will also raise an error is RetryLimitException ,because default value is use when user not entered any value\n"
     ]
    }
   ],
   "source": [
    "#7. If blank input is entered three times, what does inputStr(limit=3, default='hello') do?\n",
    "print(\"it will also raise an error is RetryLimitException ,because default value is use when user not entered any value\")"
   ]
  },
  {
   "cell_type": "code",
   "execution_count": null,
   "metadata": {},
   "outputs": [],
   "source": []
  }
 ],
 "metadata": {
  "kernelspec": {
   "display_name": "Python 3",
   "language": "python",
   "name": "python3"
  },
  "language_info": {
   "codemirror_mode": {
    "name": "ipython",
    "version": 3
   },
   "file_extension": ".py",
   "mimetype": "text/x-python",
   "name": "python",
   "nbconvert_exporter": "python",
   "pygments_lexer": "ipython3",
   "version": "3.7.6"
  }
 },
 "nbformat": 4,
 "nbformat_minor": 4
}
