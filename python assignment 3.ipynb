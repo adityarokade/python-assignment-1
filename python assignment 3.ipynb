{
 "cells": [
  {
   "cell_type": "code",
   "execution_count": 1,
   "metadata": {},
   "outputs": [
    {
     "name": "stdout",
     "output_type": "stream",
     "text": [
      " Because functions are 1) easy to maintain   2) code reusablity   3)not complax in structure \n"
     ]
    }
   ],
   "source": [
    "#1. Why are functions advantageous to have in your programs?\n",
    "\n",
    "print(\" Because functions are 1) easy to maintain   2) code reusablity   3)not complax in structure \")"
   ]
  },
  {
   "cell_type": "code",
   "execution_count": 2,
   "metadata": {},
   "outputs": [
    {
     "name": "stdout",
     "output_type": "stream",
     "text": [
      "Code in  function run when it is called,and function called at the where it is requred or at the  of the function definition, function is called after difining the function\n",
      "\n",
      "\n",
      "full stack data science \n"
     ]
    }
   ],
   "source": [
    "#2. When does the code in a function run: when it&#39;s specified or when it&#39;s called?\n",
    "\n",
    "\n",
    "print(\"Code in  function run when it is called,and function called at the where it is requred or at the  of the function definition, function is called after difining the function\")\n",
    "\n",
    "print()\n",
    "print()\n",
    "\n",
    "def fun1():                     # defining of function\n",
    "    print(\"full stack data science \")\n",
    "    \n",
    "    \n",
    "    \n",
    "fun1()   # calling of function"
   ]
  },
  {
   "cell_type": "code",
   "execution_count": 3,
   "metadata": {},
   "outputs": [
    {
     "name": "stdout",
     "output_type": "stream",
     "text": [
      "'def ' keyword is use to create a function \n",
      "\n",
      "\n",
      "python basic assignment 3\n"
     ]
    }
   ],
   "source": [
    "#3. What statement creates a function?\n",
    "\n",
    "print(\"'def ' keyword is use to create a function \")\n",
    "print()\n",
    "print()\n",
    "def fun2():    #defining of function\n",
    "    print(\"python basic assignment 3\")\n",
    "    \n",
    "fun2()"
   ]
  },
  {
   "cell_type": "code",
   "execution_count": 4,
   "metadata": {},
   "outputs": [
    {
     "name": "stdout",
     "output_type": "stream",
     "text": [
      " The difference between function and function call is: 1)function is called at the top side and function is callend by using 'def ' keywaord \n",
      "2) function is called any wrere in the program after definoing the program\n"
     ]
    }
   ],
   "source": [
    "#4. What is the difference between a function and a function call?\n",
    "\n",
    "print(\" The difference between function and function call is: 1)function is called at the top side and function is callend by using 'def ' keywaord \")\n",
    "print(\"2) function is called any wrere in the program after definoing the program\")"
   ]
  },
  {
   "cell_type": "code",
   "execution_count": 5,
   "metadata": {},
   "outputs": [
    {
     "name": "stdout",
     "output_type": "stream",
     "text": [
      "There's only one global Python scope per program execution. This scope remains in existence until the program terminates and all its names are forgotten. Otherwise, the next time you were to run the program, the names would remember their values from the previous run.\n"
     ]
    }
   ],
   "source": [
    "#5. How many global scopes are there in a Python program? How many local scopes?\n",
    "\n",
    "print(\"There's only one global Python scope per program execution. This scope remains in existence until the program terminates and all its names are forgotten. Otherwise, the next time you were to run the program, the names would remember their values from the previous run.\")"
   ]
  },
  {
   "cell_type": "code",
   "execution_count": 6,
   "metadata": {},
   "outputs": [
    {
     "name": "stdout",
     "output_type": "stream",
     "text": [
      "A Local Variable Retains Its Value Until The Next Time The Function Is Called A Local Variable Becomes Undefined After The Function Call Completes The Local Variable Can Be Used Outside The Function Any Time After The Function Call Completes\n"
     ]
    }
   ],
   "source": [
    "#6. What happens to variables in a local scope when the function call returns?\n",
    "\n",
    "print(\"A Local Variable Retains Its Value Until The Next Time The Function Is Called A Local Variable Becomes Undefined After The Function Call Completes The Local Variable Can Be Used Outside The Function Any Time After The Function Call Completes\")"
   ]
  },
  {
   "cell_type": "code",
   "execution_count": 7,
   "metadata": {},
   "outputs": [
    {
     "name": "stdout",
     "output_type": "stream",
     "text": [
      "The concept of return value is  a  specific value returned from a function is called the return value. When the return statement is executed, the return value is copied from the function  and back to the caller. This tatal  process is called return by value.\n",
      "yes, it is possible to return value is expression\n"
     ]
    }
   ],
   "source": [
    "#7. What is the concept of a return value? Is it possible to have a return value in an expression?\n",
    "\n",
    "\n",
    "print(\"The concept of return value is  a  specific value returned from a function is called the return value. When the return statement is executed, the return value is copied from the function  and back to the caller. This tatal  process is called return by value.\")\n",
    "print(\"yes, it is possible to return value is expression\")"
   ]
  },
  {
   "cell_type": "code",
   "execution_count": 8,
   "metadata": {},
   "outputs": [
    {
     "name": "stdout",
     "output_type": "stream",
     "text": [
      "If no return statement  in a function definition, control automatically returns to the calling function after the last statement of the called function is executed. In this case, the return value of the called function is undefined.\n"
     ]
    }
   ],
   "source": [
    "#8. If a function does not have a return statement, what is the return value of a call to that function?\n",
    "\n",
    "print(\"If no return statement  in a function definition, control automatically returns to the calling function after the last statement of the called function is executed. In this case, the return value of the called function is undefined.\")\n"
   ]
  },
  {
   "cell_type": "code",
   "execution_count": 9,
   "metadata": {},
   "outputs": [
    {
     "name": "stdout",
     "output_type": "stream",
     "text": [
      "We can use global keyword as to a variable  which is refer to the global variable\n"
     ]
    }
   ],
   "source": [
    "#9. How do you make a function variable refer to the global variable?\n",
    "\n",
    "\n",
    "\n",
    "print(\"We can use global keyword as to a variable  which is refer to the global variable\")\n",
    "\n"
   ]
  },
  {
   "cell_type": "code",
   "execution_count": 10,
   "metadata": {},
   "outputs": [
    {
     "name": "stdout",
     "output_type": "stream",
     "text": [
      "The data type of None in python is 'None type' none means no value\n",
      "<class 'NoneType'>\n"
     ]
    }
   ],
   "source": [
    "#10. What is the data type of None?\n",
    "\n",
    "print(\"The data type of None in python is 'None type' none means no value\")\n",
    "print(type(None))"
   ]
  },
  {
   "cell_type": "code",
   "execution_count": 11,
   "metadata": {},
   "outputs": [
    {
     "name": "stdout",
     "output_type": "stream",
     "text": [
      "A function consists of the def statement and the code in its def clause. A function call is what moves the program execution into the function, and the function call evaluates to the function's return value. ... That import statement imports a module named areallyourpetsnamederic\n"
     ]
    }
   ],
   "source": [
    "#11. What does the sentence import areallyourpetsnamederic do?\n",
    "\n",
    "print(\"A function consists of the def statement and the code in its def clause. A function call is what moves the program execution into the function, and the function call evaluates to the function's return value. ... That import statement imports a module named areallyourpetsnamederic\")"
   ]
  },
  {
   "cell_type": "code",
   "execution_count": 12,
   "metadata": {},
   "outputs": [
    {
     "name": "stdout",
     "output_type": "stream",
     "text": [
      "This function is called as follows:\n",
      "spam.bacon()\n"
     ]
    }
   ],
   "source": [
    "#12. If you had a bacon() feature in a spam module, what would you call it after importing spam?\n",
    "\n",
    "\n",
    "print(\"This function is called as follows:\")\n",
    "print(\"spam.bacon()\")"
   ]
  },
  {
   "cell_type": "code",
   "execution_count": 13,
   "metadata": {},
   "outputs": [
    {
     "name": "stdout",
     "output_type": "stream",
     "text": [
      "Errors detected during execution are called exceptions and are not unconditionally fatal. Exceptions are raised when the program encounters an error during its execution. They disrupt the normal flow of the program and usually end it abruptly. To avoid this, you can catch them and handle them appropriately.\n"
     ]
    }
   ],
   "source": [
    "#13. What can you do to save a programme from crashing if it encounters an error?\n",
    "\n",
    "print(\"Errors detected during execution are called exceptions and are not unconditionally fatal. Exceptions are raised when the program encounters an error during its execution. They disrupt the normal flow of the program and usually end it abruptly. To avoid this, you can catch them and handle them appropriately.\")"
   ]
  },
  {
   "cell_type": "code",
   "execution_count": 14,
   "metadata": {},
   "outputs": [
    {
     "name": "stdout",
     "output_type": "stream",
     "text": [
      "The try block is used to check some code for errors i.e the code inside the try block will execute when there is no error in the program. Whereas the code inside the except block will execute whenever the program encounters some error in the preceding try block.\n"
     ]
    }
   ],
   "source": [
    "#14. What is the purpose of the try clause? What is the purpose of the except clause?\n",
    "\n",
    "\n",
    "\n",
    "print(\"The try block is used to check some code for errors i.e the code inside the try block will execute when there is no error in the program. Whereas the code inside the except block will execute whenever the program encounters some error in the preceding try block.\")"
   ]
  },
  {
   "cell_type": "code",
   "execution_count": null,
   "metadata": {},
   "outputs": [],
   "source": []
  }
 ],
 "metadata": {
  "kernelspec": {
   "display_name": "Python 3",
   "language": "python",
   "name": "python3"
  },
  "language_info": {
   "codemirror_mode": {
    "name": "ipython",
    "version": 3
   },
   "file_extension": ".py",
   "mimetype": "text/x-python",
   "name": "python",
   "nbconvert_exporter": "python",
   "pygments_lexer": "ipython3",
   "version": "3.7.4"
  }
 },
 "nbformat": 4,
 "nbformat_minor": 4
}
