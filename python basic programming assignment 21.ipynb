{
 "cells": [
  {
   "cell_type": "code",
   "execution_count": 3,
   "metadata": {},
   "outputs": [
    {
     "name": "stdout",
     "output_type": "stream",
     "text": [
      "[6, 7, 8, 9, 1]\n"
     ]
    }
   ],
   "source": [
    "#Write a function that takes a list and a number as arguments. Add the number to the end of the list, then remove the first element of the list. The function should then return the updated list.\n",
    "\n",
    "def list_collection(l,n):\n",
    "    l.append(n)\n",
    "    l.pop(0)\n",
    "    print(l)\n",
    "    \n",
    "list_collection([5, 6, 7, 8, 9], 1)"
   ]
  },
  {
   "cell_type": "code",
   "execution_count": 15,
   "metadata": {},
   "outputs": [
    {
     "name": "stdout",
     "output_type": "stream",
     "text": [
      " The sum of budget is : 65700\n"
     ]
    }
   ],
   "source": [
    "#Create the function that takes a list of dictionaries and returns the sum of people's budgets.\n",
    "\n",
    "def budget_sum(l):\n",
    "    s=0\n",
    "    for i in l:\n",
    "        \n",
    "        s=s+i[\"budget\"]\n",
    "    print(\" The sum of budget is :\",s)\n",
    "        \n",
    "        \n",
    "            \n",
    "\n",
    "            \n",
    "budget_sum([\n",
    "  { \"name\": \"John\", \"age\": 21, \"budget\": 23000 },\n",
    "  { \"name\": \"Steve\",  \"age\": 32, \"budget\": 40000 },\n",
    "  { \"name\": \"Martin\",  \"age\": 16, \"budget\": 2700 }\n",
    "])"
   ]
  },
  {
   "cell_type": "code",
   "execution_count": 6,
   "metadata": {},
   "outputs": [
    {
     "name": "stdout",
     "output_type": "stream",
     "text": [
      "aadity\n"
     ]
    }
   ],
   "source": [
    "#Create a function that takes a string and returns a string with its letters in alphabetical order.\n",
    "\n",
    "\n",
    "\n",
    "def string_alpha(s):\n",
    "    sa=sorted(s)\n",
    "    ba=\"\".join(sa)\n",
    "    print(ba)\n",
    "    \n",
    "string_alpha(\"aditya\")"
   ]
  },
  {
   "cell_type": "code",
   "execution_count": 12,
   "metadata": {},
   "outputs": [
    {
     "name": "stdout",
     "output_type": "stream",
     "text": [
      "18193.9673403229\n"
     ]
    }
   ],
   "source": [
    "#Suppose that you invest $10,000 for 10 years at an interest rate of 6% compounded monthly. What will be the value of your investment at the end of the 10 year period?\n",
    "#Create a function that accepts the principal p, the term in years t, the interest rate r, and the number of compounding periods per year n. The function returns the value at the end of term rounded to the nearest cent.\n",
    "#For the example above:\n",
    "#compound_interest(10000, 10, 0.06, 12) ➞ 18193.97\n",
    "#Note that the interest rate is given as a decimal and n=12 because with monthly compounding there are 12 periods per year. Compounding can also be done annually, quarterly, weekly, or daily.\n",
    "\n",
    "def compound_interest(p,t,r,n):\n",
    "    #result=((p (1 + r)**n)-p)\n",
    "    #result=p(((1 + r)**n)-1)\n",
    "    result=p*(1 + r/n)**(n*t)\n",
    "    #result=p *(1 + r)\n",
    "    print(result)\n",
    "    \n",
    "compound_interest(10000, 10,0.06, 12)\n",
    "\n"
   ]
  },
  {
   "cell_type": "code",
   "execution_count": 13,
   "metadata": {},
   "outputs": [
    {
     "data": {
      "text/plain": [
       "('interger list=', [9, 2, 16])"
      ]
     },
     "execution_count": 13,
     "metadata": {},
     "output_type": "execute_result"
    }
   ],
   "source": [
    "#Write a function that takes a list of elements and returns only the integers.\n",
    "\n",
    "\n",
    "def intcollection(l):\n",
    "    l1=[]\n",
    "    for i in l:\n",
    "        if type(i)==int:\n",
    "            l1.append(i)\n",
    "            \n",
    "    return(\"interger list=\",l1)\n",
    "\n",
    "intcollection([9, 2, \"space\", \"car\", \"lion\", 16])\n",
    "            "
   ]
  },
  {
   "cell_type": "code",
   "execution_count": null,
   "metadata": {},
   "outputs": [],
   "source": []
  }
 ],
 "metadata": {
  "kernelspec": {
   "display_name": "Python 3",
   "language": "python",
   "name": "python3"
  },
  "language_info": {
   "codemirror_mode": {
    "name": "ipython",
    "version": 3
   },
   "file_extension": ".py",
   "mimetype": "text/x-python",
   "name": "python",
   "nbconvert_exporter": "python",
   "pygments_lexer": "ipython3",
   "version": "3.7.6"
  }
 },
 "nbformat": 4,
 "nbformat_minor": 4
}
