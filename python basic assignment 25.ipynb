{
 "cells": [
  {
   "cell_type": "code",
   "execution_count": 2,
   "metadata": {},
   "outputs": [
    {
     "name": "stdout",
     "output_type": "stream",
     "text": [
      "squre is used to store the statements like we can store range fun,if/else,for etc loops and list comprehension is start with squre bracket then end also with squre bracket\n"
     ]
    }
   ],
   "source": [
    "#1) . What is the difference between enclosing a list comprehension in square brackets and parentheses?\n",
    "print(\"squre is used to store the statements like we can store range fun,if/else,for etc loops and list comprehension is start with squre bracket then end also with squre bracket\")\n"
   ]
  },
  {
   "cell_type": "code",
   "execution_count": 3,
   "metadata": {},
   "outputs": [
    {
     "name": "stdout",
     "output_type": "stream",
     "text": [
      "Iterators are used mostly to iterate or convert other objects to an iterator using iter() function\n",
      "Generators are mostly used in loops to generate an iterator by returning all the values in the loop without affecting the iteration of the loop\n"
     ]
    }
   ],
   "source": [
    "#2) What is the relationship between generators and iterators?\n",
    "print(\"Iterators are used mostly to iterate or convert other objects to an iterator using iter() function\")\n",
    "print(\"Generators are mostly used in loops to generate an iterator by returning all the values in the loop without affecting the iteration of the loop\")"
   ]
  },
  {
   "cell_type": "code",
   "execution_count": 4,
   "metadata": {},
   "outputs": [
    {
     "name": "stdout",
     "output_type": "stream",
     "text": [
      "If a function contains at least one yield statement then it is called as generator function\n"
     ]
    }
   ],
   "source": [
    "#3) What are the signs that a function is a generator function?\n",
    "print(\"If a function contains at least one yield statement then it is called as generator function\")"
   ]
  },
  {
   "cell_type": "code",
   "execution_count": 5,
   "metadata": {},
   "outputs": [
    {
     "name": "stdout",
     "output_type": "stream",
     "text": [
      "The yield statement suspends function's execution and sends a value back to the caller, but retains enough state to enable function to resume where it is left off\n"
     ]
    }
   ],
   "source": [
    "#4) What is the purpose of a yield statement?\n",
    "print(\"The yield statement suspends function's execution and sends a value back to the caller, but retains enough state to enable function to resume where it is left off\")"
   ]
  },
  {
   "cell_type": "code",
   "execution_count": 6,
   "metadata": {},
   "outputs": [
    {
     "name": "stdout",
     "output_type": "stream",
     "text": [
      "List comprehension is more concise and easier to read as compared to map. List comprehension are used when a list of results is required as map only returns a map object and does not return any list. Map is faster in case of calling an already defined function (as no lambda is required).\n"
     ]
    }
   ],
   "source": [
    "#5) What is the relationship between map calls and list comprehensions? Make a comparison and contrast between the two.\n",
    "print(\"List comprehension is more concise and easier to read as compared to map. List comprehension are used when a list of results is required as map only returns a map object and does not return any list. Map is faster in case of calling an already defined function (as no lambda is required).\")"
   ]
  },
  {
   "cell_type": "code",
   "execution_count": null,
   "metadata": {},
   "outputs": [],
   "source": []
  }
 ],
 "metadata": {
  "kernelspec": {
   "display_name": "Python 3",
   "language": "python",
   "name": "python3"
  },
  "language_info": {
   "codemirror_mode": {
    "name": "ipython",
    "version": 3
   },
   "file_extension": ".py",
   "mimetype": "text/x-python",
   "name": "python",
   "nbconvert_exporter": "python",
   "pygments_lexer": "ipython3",
   "version": "3.7.6"
  }
 },
 "nbformat": 4,
 "nbformat_minor": 4
}
