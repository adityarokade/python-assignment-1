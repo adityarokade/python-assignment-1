{
 "cells": [
  {
   "cell_type": "code",
   "execution_count": 1,
   "metadata": {},
   "outputs": [
    {
     "name": "stdout",
     "output_type": "stream",
     "text": [
      "A relative path is a path that describes the location of a file or folder in relative to the current working directory\n"
     ]
    }
   ],
   "source": [
    "#1. To what does a relative path refer?\n",
    "print(\"A relative path is a path that describes the location of a file or folder in relative to the current working directory\")"
   ]
  },
  {
   "cell_type": "code",
   "execution_count": 2,
   "metadata": {},
   "outputs": [
    {
     "name": "stdout",
     "output_type": "stream",
     "text": [
      "absolute path is a complete path from start of actual file system from / directory\n"
     ]
    }
   ],
   "source": [
    "#2. What does an absolute path start with your operating system?\n",
    "print(\"absolute path is a complete path from start of actual file system from / directory\")"
   ]
  },
  {
   "cell_type": "code",
   "execution_count": 3,
   "metadata": {},
   "outputs": [
    {
     "name": "stdout",
     "output_type": "stream",
     "text": [
      "The function 'os.getcwd()-get current working directory' and 'os.chdir()- it is use to change directory'\n"
     ]
    }
   ],
   "source": [
    "#3. What do the functions os.getcwd() and os.chdir() do?\n",
    "print(\"The function 'os.getcwd()-get current working directory' and 'os.chdir()- it is use to change directory'\")"
   ]
  },
  {
   "cell_type": "code",
   "execution_count": 4,
   "metadata": {},
   "outputs": [
    {
     "name": "stdout",
     "output_type": "stream",
     "text": [
      " In operating systems every directory contains, as a minimum, an object represented by a single dot and another represented by two successive dots.\n"
     ]
    }
   ],
   "source": [
    "#4. What are the . and .. folders?\n",
    "print(\" In operating systems every directory contains, as a minimum, an object represented by a single dot and another represented by two successive dots.\")"
   ]
  },
  {
   "cell_type": "code",
   "execution_count": 7,
   "metadata": {},
   "outputs": [
    {
     "name": "stdout",
     "output_type": "stream",
     "text": [
      "'C:\bacon\\eggs' is the dir name and  'spam. txt' is the base name.\n"
     ]
    }
   ],
   "source": [
    "#5. In C:\\bacon\\eggs\\spam.txt, which part is the dir name, and which part is the base name?\n",
    "print(\"'C:\\bacon\\eggs' is the dir name and  'spam. txt' is the base name.\")"
   ]
  },
  {
   "cell_type": "code",
   "execution_count": 8,
   "metadata": {},
   "outputs": [
    {
     "name": "stdout",
     "output_type": "stream",
     "text": [
      "1)“ r “, for reading. 2)“ w “, for writing. 3)“ r+ “, for both reading and writing.\n"
     ]
    }
   ],
   "source": [
    "#6. What are the three “mode” arguments that can be passed to the open() function?\n",
    "print('1)“ r “, for reading. 2)“ w “, for writing. 3)“ r+ “, for both reading and writing.')"
   ]
  },
  {
   "cell_type": "code",
   "execution_count": 9,
   "metadata": {},
   "outputs": [
    {
     "name": "stdout",
     "output_type": "stream",
     "text": [
      " If a file with the same name already exists, its contents are discarded and the file is treated as a new empty file.\n"
     ]
    }
   ],
   "source": [
    "#7. What happens if an existing file is opened in write mode?\n",
    "print(\" If a file with the same name already exists, its contents are discarded and the file is treated as a new empty file.\")"
   ]
  },
  {
   "cell_type": "code",
   "execution_count": 10,
   "metadata": {},
   "outputs": [
    {
     "name": "stdout",
     "output_type": "stream",
     "text": [
      "The only difference between the Read() and ReadLine() is that Console. Read is used to read only single character from the standard output device, while Console. ReadLine is used to read a line or string from the standard output device.\n"
     ]
    }
   ],
   "source": [
    "#8. How do you tell the difference between read() and readlines()?\n",
    "print(\"The only difference between the Read() and ReadLine() is that Console. Read is used to read only single character from the standard output device, while Console. ReadLine is used to read a line or string from the standard output device.\")"
   ]
  },
  {
   "cell_type": "code",
   "execution_count": 11,
   "metadata": {},
   "outputs": [
    {
     "name": "stdout",
     "output_type": "stream",
     "text": [
      "A shelf value resembles a dictionary value; it has keys and values, along with keys() and values() methods that work similarly to the dictionary methods of the same names.\n"
     ]
    }
   ],
   "source": [
    "#9. What data structure does a shelf value resemble?\n",
    "print(\"A shelf value resembles a dictionary value; it has keys and values, along with keys() and values() methods that work similarly to the dictionary methods of the same names.\")"
   ]
  },
  {
   "cell_type": "code",
   "execution_count": null,
   "metadata": {},
   "outputs": [],
   "source": []
  }
 ],
 "metadata": {
  "kernelspec": {
   "display_name": "Python 3",
   "language": "python",
   "name": "python3"
  },
  "language_info": {
   "codemirror_mode": {
    "name": "ipython",
    "version": 3
   },
   "file_extension": ".py",
   "mimetype": "text/x-python",
   "name": "python",
   "nbconvert_exporter": "python",
   "pygments_lexer": "ipython3",
   "version": "3.7.6"
  }
 },
 "nbformat": 4,
 "nbformat_minor": 4
}
