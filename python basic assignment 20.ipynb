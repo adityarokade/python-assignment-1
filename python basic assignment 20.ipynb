{
 "cells": [
  {
   "cell_type": "code",
   "execution_count": 2,
   "metadata": {},
   "outputs": [],
   "source": [
    "#1. Set the variable test1 to the string 'This is a test of the emergency text system,' and save test1 to a file named test.txt.\n",
    "\n",
    "\n",
    "f=open(\"test.txt\",\"w\")\n",
    "test1=\"This is a test of the emergency text system\"\n",
    "f.write(test1)\n",
    "f.close()\n"
   ]
  },
  {
   "cell_type": "code",
   "execution_count": 3,
   "metadata": {},
   "outputs": [
    {
     "name": "stdout",
     "output_type": "stream",
     "text": [
      "This is a test of the emergency text system\n",
      "This is a test of the emergency text system\n"
     ]
    }
   ],
   "source": [
    "#2. Read the contents of the file test.txt into the variable test2. Is there a difference between test 1 and test 2?\n",
    "\n",
    "\n",
    "f=open(\"test.txt\",\"r\")\n",
    "test2=f.read()\n",
    "print(test2)\n",
    "print(test1)\n",
    "\n",
    "f.close()"
   ]
  },
  {
   "cell_type": "code",
   "execution_count": 4,
   "metadata": {},
   "outputs": [],
   "source": [
    "#Create a CSV file called books.csv by using these lines:\n",
    "\n",
    "f=open(\"books.csv\",\"w\")\n",
    "f.write(\"\\n title,author,year\")\n",
    "f.write(\"\\n The Weirdstone of Brisingamen,Alan Garner,1960\")\n",
    "f.write(\"\\n Perdido Street Station,China Miéville,2000\")\n",
    "f.write(\"\\n Thud!,Terry Pratchett,2005\")\n",
    "f.write(\"\\n The Spellman Files,Lisa Lutz,2007\")\n",
    "f.write(\"\\n Small Gods,Terry Pratchett,1992\")\n",
    "f.close()"
   ]
  },
  {
   "cell_type": "code",
   "execution_count": null,
   "metadata": {},
   "outputs": [],
   "source": []
  }
 ],
 "metadata": {
  "kernelspec": {
   "display_name": "Python 3",
   "language": "python",
   "name": "python3"
  },
  "language_info": {
   "codemirror_mode": {
    "name": "ipython",
    "version": 3
   },
   "file_extension": ".py",
   "mimetype": "text/x-python",
   "name": "python",
   "nbconvert_exporter": "python",
   "pygments_lexer": "ipython3",
   "version": "3.7.6"
  }
 },
 "nbformat": 4,
 "nbformat_minor": 4
}
