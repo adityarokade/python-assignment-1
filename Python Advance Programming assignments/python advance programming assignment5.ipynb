{
 "cells": [
  {
   "cell_type": "code",
   "execution_count": 1,
   "metadata": {},
   "outputs": [
    {
     "name": "stdout",
     "output_type": "stream",
     "text": [
      "The majority element is 2\n"
     ]
    }
   ],
   "source": [
    "#2. Create a function that returns the majority vote in a list. A majority vote is an element that occurs > N/2 times in a list (where N is the length of the list).\n",
    "\n",
    "\n",
    "\n",
    "def findMajorityElement(nums):\n",
    " \n",
    "    \n",
    "    m = -1\n",
    " \n",
    "    \n",
    "    i = 0\n",
    " \n",
    "    \n",
    "    for j in range(len(nums)):\n",
    " \n",
    "        \n",
    "        if i == 0:\n",
    " \n",
    "            \n",
    "            m = nums[j]\n",
    " \n",
    "            \n",
    "            i = 1\n",
    " \n",
    "        \n",
    "        elif m == nums[j]:\n",
    "            i = i + 1\n",
    " \n",
    "        \n",
    "        else:\n",
    "            i = i - 1\n",
    " \n",
    "    return m\n",
    " \n",
    " \n",
    "\n",
    "   \n",
    "nums = [1, 8, 7, 4, 1, 2, 2, 2, 2, 2, 2]\n",
    " \n",
    "print('The majority element is', findMajorityElement(nums))"
   ]
  },
  {
   "cell_type": "code",
   "execution_count": 3,
   "metadata": {},
   "outputs": [
    {
     "name": "stdout",
     "output_type": "stream",
     "text": [
      "Today is a Wednesday!\n"
     ]
    }
   ],
   "source": [
    "#3. Create a function that takes a string txt and censors any word from a given list lst. The text removed must be replaced by the given character char.\n",
    "\n",
    "\n",
    "def censor(text, word):\n",
    " \n",
    "    word_list = text.split()\n",
    " \n",
    "    \n",
    "    result = ''\n",
    " \n",
    "    \n",
    "    stars = '*' * len(word)\n",
    " \n",
    "    count = 0\n",
    " \n",
    "    \n",
    "    index = 0;\n",
    "    for i in word_list:\n",
    " \n",
    "        if i == word:\n",
    "             \n",
    "            \n",
    "            word_list[index] = stars\n",
    "        index += 1\n",
    " \n",
    "    \n",
    "    result =' '.join(word_list)\n",
    " \n",
    "    return result\n",
    "\n",
    "    \n",
    "print(censor(\"Today is a Wednesday!\", [\"Today\", \"a\"]))"
   ]
  },
  {
   "cell_type": "code",
   "execution_count": 4,
   "metadata": {},
   "outputs": [
    {
     "name": "stdout",
     "output_type": "stream",
     "text": [
      "345654 is Polydivisible number.\n"
     ]
    }
   ],
   "source": [
    "# In mathematics a Polydivisible Number (or magic number) is a number in a given number base with digits abcde... that has the following properties:\n",
    "\n",
    "#-  Its first digit a is not 0.\n",
    "#- The number formed by its first two digits ab is a multiple of 2.\n",
    "#- The number formed by its first three digits abc is a multiple of 3.\n",
    "#- The number formed by its first four digits abcd is a multiple of 4.\n",
    "\n",
    "#Create a function which takes an integer n and returns True if the given number is a Polydivisible Number and False otherwise.\n",
    "\n",
    "\n",
    "\n",
    "def check_polydivisible(n):\n",
    "    N = n\n",
    "    digit = []\n",
    "  \n",
    "   \n",
    "    while (n > 0):\n",
    "          \n",
    "        \n",
    "        digit.append(n % 10)\n",
    "        n //= 10\n",
    "  \n",
    "    digit = digit[::-1]\n",
    "  \n",
    "    flag = True\n",
    "    n = digit[0]\n",
    "    for i in range(1, len(digit), 1):\n",
    "          \n",
    "        \n",
    "        n = n * 10 + digit[i]\n",
    "  \n",
    "        \n",
    "        if (n % (i + 1) != 0):\n",
    "            flag = False\n",
    "            break\n",
    "      \n",
    "    if (flag):\n",
    "        print(N, \"is Polydivisible number.\")\n",
    "    else:\n",
    "        print(N, \"is Not Polydivisible number.\")\n",
    " \n",
    "\n",
    "\n",
    "n = 345654\n",
    "check_polydivisible(n)\n",
    " "
   ]
  }
 ],
 "metadata": {
  "kernelspec": {
   "display_name": "Python 3",
   "language": "python",
   "name": "python3"
  },
  "language_info": {
   "codemirror_mode": {
    "name": "ipython",
    "version": 3
   },
   "file_extension": ".py",
   "mimetype": "text/x-python",
   "name": "python",
   "nbconvert_exporter": "python",
   "pygments_lexer": "ipython3",
   "version": "3.7.6"
  }
 },
 "nbformat": 4,
 "nbformat_minor": 4
}
