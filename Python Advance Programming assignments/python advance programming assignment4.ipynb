{
 "cells": [
  {
   "cell_type": "code",
   "execution_count": 2,
   "metadata": {},
   "outputs": [
    {
     "name": "stdout",
     "output_type": "stream",
     "text": [
      "34\n"
     ]
    }
   ],
   "source": [
    "#1. In mathematics, the Fibonacci numbers, commonly denoted Fn, form a sequence, called the Fibonacci sequence, such that each number is the sum of the two preceding ones, starting from 0 and 1:\n",
    "\n",
    "\n",
    "\n",
    "def fibonacci(n, second_last, last):\n",
    "    if n-1 == 0:\n",
    "        return second_last\n",
    "    else:\n",
    "        new_last = second_last + last\n",
    "        second_last = last\n",
    "        return fibonacci(n-1, second_last, new_last)\n",
    " \n",
    " \n",
    "print(fibonacci(10, 0, 1))\n",
    "\n",
    "\n",
    "\n",
    "\n",
    "\n",
    "\n"
   ]
  },
  {
   "cell_type": "code",
   "execution_count": 3,
   "metadata": {},
   "outputs": [
    {
     "name": "stdout",
     "output_type": "stream",
     "text": [
      "4765656b\n"
     ]
    }
   ],
   "source": [
    "#2. Create a function that takes a strings characters as ASCII and returns each characters hexadecimal value as a string.\n",
    "\n",
    "\n",
    "\n",
    "def ASCIItoHEX(ascii):\n",
    " \n",
    "    \n",
    "    hexa = \"\"\n",
    " \n",
    "   \n",
    "    for i in range(len(ascii)):\n",
    " \n",
    "       \n",
    "        ch = ascii[i]\n",
    " \n",
    "        in1 = ord(ch)\n",
    "   \n",
    "        \n",
    "        part = hex(in1).lstrip(\"0x\").rstrip(\"L\")\n",
    " \n",
    "        \n",
    "        hexa += part\n",
    " \n",
    "    \n",
    "    return hexa\n",
    "   \n",
    "\n",
    "\n",
    " \n",
    "    \n",
    "print(ASCIItoHEX(\"Geek\"))"
   ]
  },
  {
   "cell_type": "code",
   "execution_count": 5,
   "metadata": {},
   "outputs": [
    {
     "name": "stdout",
     "output_type": "stream",
     "text": [
      "Hello World\n"
     ]
    }
   ],
   "source": [
    "#3. Someone has attempted to censor my strings by replacing every vowel with a *, l*k* th*s. Luckily, I've been able to find the vowels that were removed.\n",
    "\n",
    "#Given a censored string and a string of the censored vowels, return the original uncensored string.\n",
    "\n",
    "\n",
    "\n",
    "\n",
    "def uncensor(string, vowels):\n",
    "    new_ = \"\"\n",
    "    counter = 0\n",
    "    for i in range(len(string)):\n",
    "        if string[i] == \"*\":\n",
    "          new_ += vowels[counter]\n",
    "          counter += 1\n",
    "        else:\n",
    "          new_ += string[i]\n",
    "    return new_\n",
    " \n",
    "print(uncensor(\"H*ll* W*rld\", \"eoo\"))"
   ]
  },
  {
   "cell_type": "code",
   "execution_count": 8,
   "metadata": {},
   "outputs": [],
   "source": [
    "#4. Write a function that takes an IP address and returns the domain name using PTR DNS records.\n",
    "\n",
    "import dns.resolver\n",
    "  \n",
    "\n",
    "result = dns.resolver.query('geeksforgeeks.org', 'A')\n",
    "  \n",
    "\n",
    "for val in result:\n",
    "    print('A Record : ', val.to_text())\n"
   ]
  },
  {
   "cell_type": "code",
   "execution_count": 9,
   "metadata": {},
   "outputs": [
    {
     "name": "stdout",
     "output_type": "stream",
     "text": [
      "Factorial of 5 is 120\n"
     ]
    }
   ],
   "source": [
    "#5. Create a function that takes an integer n and returns the factorial of factorials. See below examples for a better understanding:\n",
    "\n",
    "\n",
    "\n",
    "def factorial(n):\n",
    "      \n",
    "    if n == 0:\n",
    "        return 1\n",
    "     \n",
    "    return n * factorial(n-1)\n",
    "  \n",
    "\n",
    "num = 5;\n",
    "print(\"Factorial of\", num, \"is\",\n",
    "factorial(num))\n"
   ]
  },
  {
   "cell_type": "code",
   "execution_count": null,
   "metadata": {},
   "outputs": [],
   "source": []
  }
 ],
 "metadata": {
  "kernelspec": {
   "display_name": "Python 3",
   "language": "python",
   "name": "python3"
  },
  "language_info": {
   "codemirror_mode": {
    "name": "ipython",
    "version": 3
   },
   "file_extension": ".py",
   "mimetype": "text/x-python",
   "name": "python",
   "nbconvert_exporter": "python",
   "pygments_lexer": "ipython3",
   "version": "3.7.6"
  }
 },
 "nbformat": 4,
 "nbformat_minor": 4
}
