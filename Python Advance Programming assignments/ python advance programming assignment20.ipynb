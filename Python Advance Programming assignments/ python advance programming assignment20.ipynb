{
 "cells": [
  {
   "cell_type": "code",
   "execution_count": 1,
   "metadata": {},
   "outputs": [
    {
     "data": {
      "text/plain": [
       "\"<p class='one'></p> \""
      ]
     },
     "execution_count": 1,
     "metadata": {},
     "output_type": "execute_result"
    }
   ],
   "source": [
    "#1. Create a function based on the input and output. Look at the examples, there is a pattern.\n",
    "\n",
    "\n",
    "def secret(s):\n",
    "    s1=s.replace(\".\",\" \")[2:]\n",
    "    n=\"<p class='str'></p> \"\n",
    "    n=n.replace(\"str\",s1)\n",
    "    return n\n",
    "secret(\"p.one\")"
   ]
  },
  {
   "cell_type": "code",
   "execution_count": 2,
   "metadata": {},
   "outputs": [
    {
     "data": {
      "text/plain": [
       "0"
      ]
     },
     "execution_count": 2,
     "metadata": {},
     "output_type": "execute_result"
    }
   ],
   "source": [
    "#2. Create a function which counts how many lone 1s appear in a given number. Lone means the number doesn't appear twice or more in a row.\n",
    "\n",
    "def count_lone_ones(num):\n",
    "    count=0\n",
    "    lst=[int(i) for i in str(num)]\n",
    "    if lst[0]==1 and lst[1]!=1:\n",
    "        count+=1\n",
    "    if lst[-2]!=1 and lst[-1]==1:\n",
    "        count+=1\n",
    "    for i in range(1,len(lst)-2):\n",
    "        if lst[i]==1:\n",
    "            if lst[i-1]!=1 and lst[i+1]!=1:\n",
    "                count+=1\n",
    "    return count\n",
    "\n",
    "count_lone_ones(1111)\n"
   ]
  },
  {
   "cell_type": "code",
   "execution_count": 3,
   "metadata": {},
   "outputs": [
    {
     "data": {
      "text/plain": [
       "[[1, 4, 7, 10, 13, 16], [2, 5, 8, 11, 14, 17], [3, 6, 9, 12, 15, 18]]"
      ]
     },
     "execution_count": 3,
     "metadata": {},
     "output_type": "execute_result"
    }
   ],
   "source": [
    "#3. Write a method that accepts two integer parameters rows and cols. The output is a 2d array of numbers displayed in column-major order, meaning the numbers shown increase sequentially down each column and wrap to the top of the next column to the right once the bottom of the current column is reached.\n",
    "def printGrid(rows,cols):\n",
    "    \n",
    "    rows,cols=cols,rows\n",
    "    arr=[]\n",
    "    x=1\n",
    "    for i in range(rows):\n",
    "        col = []\n",
    "        for j in range(cols):\n",
    "            col.append(x)\n",
    "            x+=1\n",
    "        arr.append(col)\n",
    "    l2 =[[row[i] for row in arr] for i in range(len(arr[0]))]\n",
    "    return l2\n",
    "    \n",
    "printGrid(3, 6)\n"
   ]
  },
  {
   "cell_type": "code",
   "execution_count": 4,
   "metadata": {},
   "outputs": [
    {
     "data": {
      "text/plain": [
       "2"
      ]
     },
     "execution_count": 4,
     "metadata": {},
     "output_type": "execute_result"
    }
   ],
   "source": [
    "#4. Given a list of integers, return the smallest positive integer not present in the list.\n",
    "\n",
    "#Here is a representative example. Consider the list:\n",
    "\n",
    "#[-2, 6, 4, 5, 7, -1, 7, 1, 3, 6, 6, -2, 9, 10, 2, 2]\n",
    "\n",
    "#After reordering, the list becomes:\n",
    "\n",
    "#[-2, -2, -1, 1, 2, 2, 3, 4, 5, 6, 6, 6, 7, 7, 9, 10]\n",
    "\n",
    "#from which we see that the smallest missing positive integer is 8.\n",
    "\n",
    "def min_miss_pos(lst):\n",
    "    pos=[i for i in range(1,11)]\n",
    "    for i in lst:\n",
    "        if i <0:\n",
    "            lst.remove(i)\n",
    "    lst=list(set(pos).difference(lst))\n",
    "    lst.sort()\n",
    "    return lst[0]\n",
    "\n",
    "min_miss_pos([5, 9, -2, 0, 1, 3, 9, 3, 8, 9]) \n"
   ]
  },
  {
   "cell_type": "code",
   "execution_count": 5,
   "metadata": {},
   "outputs": [
    {
     "data": {
      "text/plain": [
       "['Spider-Man']"
      ]
     },
     "execution_count": 5,
     "metadata": {},
     "output_type": "execute_result"
    }
   ],
   "source": [
    "#5. Google is launching a network of autonomous pizza delivery drones and wants you to create a flexible rewards system (Pizza Points™) that can be tweaked in the future. The rules are simple: if a customer has made at least N orders of at least Y price, they get a FREE pizza!\n",
    "\n",
    "#Create a function that takes a dictionary of customers, a minimum number of orders and a minimum order price. Return a list of customers that are eligible for a free pizza.\n",
    "\n",
    "\n",
    "def pizza_points(customers, minOrders, minPrice):\n",
    "    \n",
    "    new=[]\n",
    "    for cust in customers:\n",
    "        x=[i for i in customers[cust] if i>minPrice]\n",
    "        if len(x)>=minOrders:\n",
    "            new.append(cust)\n",
    "    return new\n",
    "    \n",
    "customers = {\n",
    "  \"Batman\": [22, 30, 11, 17, 15, 52, 27, 12],\n",
    "  \"Spider-Man\": [5, 17, 30, 33, 40, 22, 26, 10, 11, 45]\n",
    "}\n",
    "pizza_points(customers, 5, 20)\n",
    "\n"
   ]
  },
  {
   "cell_type": "code",
   "execution_count": null,
   "metadata": {},
   "outputs": [],
   "source": []
  }
 ],
 "metadata": {
  "kernelspec": {
   "display_name": "Python 3",
   "language": "python",
   "name": "python3"
  },
  "language_info": {
   "codemirror_mode": {
    "name": "ipython",
    "version": 3
   },
   "file_extension": ".py",
   "mimetype": "text/x-python",
   "name": "python",
   "nbconvert_exporter": "python",
   "pygments_lexer": "ipython3",
   "version": "3.7.6"
  }
 },
 "nbformat": 4,
 "nbformat_minor": 4
}
