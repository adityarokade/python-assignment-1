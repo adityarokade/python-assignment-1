{
 "cells": [
  {
   "cell_type": "code",
   "execution_count": 1,
   "metadata": {},
   "outputs": [
    {
     "name": "stdout",
     "output_type": "stream",
     "text": [
      "Repeating list [1, 2, 3, 4, 1, 2, 3, 4, 1, 2, 3, 4]\n",
      "adding at the end of list [1, 2, 3, 4, 1, 2, 3, 4, 1, 2, 3, 4, 8]\n",
      "Removing some elements form list [1, 2, 3, 4, 8]\n",
      "concating list [1, 2, 3, 4, 8, 6, 8]\n"
     ]
    }
   ],
   "source": [
    "#1. Write four functions that directly mutate a list:\n",
    "\n",
    " #   1. repeat(lst, n): Repeat lst n times.\n",
    "  #  2. add(lst, x): Adds x to the end of the lst.\n",
    "  #  3. remove(lst, m, n): Removes all elements between indices m and n inclusive in lst.\n",
    "  #  4. concat(lst, x): concatenates lst with x (another list).\n",
    "\n",
    "\n",
    "def repeat(lst,n):\n",
    "    return lst * n\n",
    "\n",
    "def add(lst, x):\n",
    "    lst.append(x)\n",
    "    return lst\n",
    "\n",
    "def remove(lst,m,n):\n",
    "    del lst[m:n+1]\n",
    "    return lst\n",
    "\n",
    "def concat(lst,lst2):\n",
    "    return lst + lst2\n",
    "    \n",
    "\n",
    "lst = [1,2,3,4]\n",
    "lst = repeat(lst,3)\n",
    "print('Repeating list', lst)\n",
    "lst = add(lst,8)\n",
    "print(\"adding at the end of list\",lst)\n",
    "lst = remove(lst,1,8)\n",
    "print('Removing some elements form list',lst)\n",
    "lst = concat(lst,[6,8])\n",
    "print('concating list',lst)"
   ]
  },
  {
   "cell_type": "code",
   "execution_count": 2,
   "metadata": {},
   "outputs": [],
   "source": [
    "#2. The classic game of Mastermind is played on a tray on which the Mastermind conceals a code and the Guesser has 10 tries to guess it. The code is a sequence of 4 (or 6, sometimes more) pegs of different colors. Each guess is a corresponding sequence of 4 (or more) pegs of different colors. A guess is \"correct\" when the color of every peg in the guess exactly matches the corresponding peg in the Mastermind's code.\n",
    "\n",
    "#After each guess by the Guesser, the Mastermind will give a score comprising black & white pegs, not arranged in any order:\n",
    "\n",
    "#   - Black peg == guess peg matches the color of a code peg in the same position.\n",
    "#   - White peg == guess peg matches the color of a code peg in another position.\n",
    "\n",
    "#Create a function that takes two strings, code and guess as arguments, and returns the score in a dictionary.\n",
    "\n",
    "#   - The code and guess are strings of numeric digits\n",
    "#   - The color of the pegs are represented by numeric digits\n",
    " #  - no \"peg\" may be double-scored\n",
    "\n",
    "    \n",
    "def guess_score(code, guesser):\n",
    "    \n",
    "    dict = {'black' : 0, 'white' : 0}\n",
    "    BlackCnt = 0\n",
    "    whiteCnt = 0\n",
    "\n",
    "    if len(code) != len(guesser):\n",
    "        print('code and guesser are of not of equal lenth')\n",
    "        return False\n",
    "\n",
    "    code = [code[x] for x in range(len(code))]    \n",
    "  \n",
    "    # find the black match\n",
    "    for i in range(len(guesser)):\n",
    "        if code[i] == guesser[i]:               \n",
    "            code[i] = '-'                        \n",
    "            BlackCnt += 1 \n",
    "            dict['black'] = BlackCnt             \n",
    "            \n",
    "    #for white matches\n",
    "    for i in range(len(guesser)):\n",
    "        for j in range(len(code)):               \n",
    "            if guesser[i] == code[j]:\n",
    "                code[j] = '-'                    \n",
    "                whiteCnt += 1\n",
    "                dict['white'] = whiteCnt         \n",
    "\n",
    "    return dict   "
   ]
  },
  {
   "cell_type": "code",
   "execution_count": 3,
   "metadata": {},
   "outputs": [
    {
     "data": {
      "text/plain": [
       "[4, 5]"
      ]
     },
     "execution_count": 3,
     "metadata": {},
     "output_type": "execute_result"
    }
   ],
   "source": [
    "#3. Create a function that takes a list lst and a number N and returns a list of two integers from lst whose product equals N.\n",
    "\n",
    "\n",
    "def two_product(lst, n):\n",
    "    lst = sorted(lst,reverse = True)\n",
    "    divisors = []\n",
    "    for i in range(len(lst)):\n",
    "        for j in range(i+1,len(lst)):\n",
    "            if lst[i]*lst[j] == n:\n",
    "                divisors.append(lst[i])            \n",
    "                divisors.append(lst[j])\n",
    "                break            \n",
    "    return sorted(divisors)\n",
    "two_product([1, 2, -1, 4, 5], 20)"
   ]
  },
  {
   "cell_type": "code",
   "execution_count": 4,
   "metadata": {},
   "outputs": [
    {
     "name": "stdout",
     "output_type": "stream",
     "text": [
      "Sorting in Descending order\n"
     ]
    },
    {
     "data": {
      "text/plain": [
       "['10-02-2018_12:30', '10-02-2018_12:15', '10-02-2016_12:30']"
      ]
     },
     "execution_count": 4,
     "metadata": {},
     "output_type": "execute_result"
    }
   ],
   "source": [
    "#4. In this challenge, sort a list containing a series of dates given as strings. Each date is given in the format DD-MM-YYYY_HH:MM:\n",
    "\n",
    "#\"12-02-2012_13:44\"\n",
    "\n",
    "#The priority of criteria used for sorting will be:\n",
    "\n",
    "#  - Year\n",
    "#  - Month\n",
    "#  - Day\n",
    "#  - Hours\n",
    " # - Minutes\n",
    "\n",
    "#Given a list lst and a string mode, implement a function that returns:\n",
    "\n",
    " #  - if mode is equal to \"ASC\", the list lst sorted in ascending order.\n",
    "#   - if mode is equal to \"DSC\", the list lst sorted in descending order.\n",
    "\n",
    "\n",
    "import datetime\n",
    "def sort_dates(d, sort):\n",
    "    if sort == 'ASC':\n",
    "        print(\"Sorting in Ascending order\")\n",
    "        return sorted(d, key=lambda x: datetime.datetime.strptime(x, '%d-%m-%Y_%H:%M'), reverse = False)\n",
    "    elif sort == 'DSC':\n",
    "        print(\"Sorting in Descending order\")\n",
    "        return sorted(d, key=lambda x: datetime.datetime.strptime(x, '%d-%m-%Y_%H:%M'), reverse = True)\n",
    "    else:\n",
    "        print(\"Provide right sorting order\")\n",
    "        \n",
    "        \n",
    "sort_dates(['10-02-2018_12:30', '10-02-2016_12:30', '10-02-2018_12:15'],\n",
    "'DSC')"
   ]
  },
  {
   "cell_type": "code",
   "execution_count": 6,
   "metadata": {},
   "outputs": [
    {
     "data": {
      "text/plain": [
       "['toe', 'ocelot']"
      ]
     },
     "execution_count": 6,
     "metadata": {},
     "output_type": "execute_result"
    }
   ],
   "source": [
    "#5. Write a function that selects all words that have all the same vowels (in any order and/or number) as the first word, including the first word.\n",
    "\n",
    "\n",
    "def findVowelInWord(word):\n",
    "    lstvowstr = ''    \n",
    "    vowel = 'aeiou'\n",
    "    for i in range(len(word)):        \n",
    "        if word[i] in vowel:\n",
    "            lstvowstr = lstvowstr + word[i]\n",
    "    return ''.join(set(lstvowstr)) # find the unique vowels in the word\n",
    "\n",
    "\n",
    "def same_vowel_group(lst):\n",
    "    vowel = 'aeiou'\n",
    "    resultlst = []\n",
    "    test = findVowelInWord(lst[0])   # find the vowels in each word of the list     \n",
    "    resultlst.append(lst[0]) # append the first word in to list\n",
    "    for i in range(1,len(lst)):\n",
    "        vowWord = findVowelInWord(lst[i])\n",
    "        if test == vowWord: # check the vowel of each word with first word in the list\n",
    "            resultlst.append(lst[i])\n",
    "    return resultlst\n",
    "same_vowel_group(['toe', 'ocelot', 'maniac'])"
   ]
  },
  {
   "cell_type": "code",
   "execution_count": null,
   "metadata": {},
   "outputs": [],
   "source": []
  },
  {
   "cell_type": "code",
   "execution_count": null,
   "metadata": {},
   "outputs": [],
   "source": []
  }
 ],
 "metadata": {
  "kernelspec": {
   "display_name": "Python 3",
   "language": "python",
   "name": "python3"
  },
  "language_info": {
   "codemirror_mode": {
    "name": "ipython",
    "version": 3
   },
   "file_extension": ".py",
   "mimetype": "text/x-python",
   "name": "python",
   "nbconvert_exporter": "python",
   "pygments_lexer": "ipython3",
   "version": "3.7.6"
  }
 },
 "nbformat": 4,
 "nbformat_minor": 4
}
