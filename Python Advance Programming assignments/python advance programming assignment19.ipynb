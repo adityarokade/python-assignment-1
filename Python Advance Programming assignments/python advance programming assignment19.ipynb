{
 "cells": [
  {
   "cell_type": "code",
   "execution_count": 1,
   "metadata": {},
   "outputs": [
    {
     "data": {
      "text/plain": [
       "[[7, 6], [6, 7]]"
      ]
     },
     "execution_count": 1,
     "metadata": {},
     "output_type": "execute_result"
    }
   ],
   "source": [
    "#1. Create a checker board generator, which takes as inputs n and 2 elements to generate an n x n checkerboard with those two elements as alternating squares.\n",
    "\n",
    "def checker_board(n,i1,i2):\n",
    "    if(i1==i2):\n",
    "        return \"invalid\"\n",
    "    else:\n",
    "        matrix=[]\n",
    "        for i in range(n):          \n",
    "            a =[] \n",
    "            for j in range(n):    \n",
    "                a.append(i1)\n",
    "\n",
    "                i1, i2 = i2, i1\n",
    "            matrix.append(a)\n",
    "            if n%2==0:\n",
    "                i1, i2 = i2, i1\n",
    "        return matrix\n",
    "checker_board(2, 7, 6)"
   ]
  },
  {
   "cell_type": "code",
   "execution_count": 2,
   "metadata": {},
   "outputs": [
    {
     "data": {
      "text/plain": [
       "True"
      ]
     },
     "execution_count": 2,
     "metadata": {},
     "output_type": "execute_result"
    }
   ],
   "source": [
    "#2. A string is an almost-palindrome if, by changing only one character, you can make it a palindrome. Create a function that returns True if a string is an almost-palindrome and False otherwise.\n",
    "\n",
    "\n",
    "def almost_palindrome(s):\n",
    "    rs=s[::-1]\n",
    "    count=0\n",
    "    for i in range(len(s)):\n",
    "        if s[i]!=rs[i]:\n",
    "            count+=1\n",
    "    if count >2 :\n",
    "        return False\n",
    "    return True\n",
    "\n",
    "almost_palindrome(\"abccia\") "
   ]
  },
  {
   "cell_type": "code",
   "execution_count": 3,
   "metadata": {},
   "outputs": [
    {
     "data": {
      "text/plain": [
       "8"
      ]
     },
     "execution_count": 3,
     "metadata": {},
     "output_type": "execute_result"
    }
   ],
   "source": [
    "#3. Create a function that finds how many prime numbers there are, up to the given integer.\n",
    "\n",
    "def prime_numbers(n):\n",
    "    count=0\n",
    "    for i in range(n+1):\n",
    "        if i>1:\n",
    "            for j in range(2,i):\n",
    "                if(i % j==0):\n",
    "                    break\n",
    "            else:\n",
    "    #             print(i)\n",
    "                count+=1\n",
    "    return count\n",
    "prime_numbers(20)"
   ]
  },
  {
   "cell_type": "code",
   "execution_count": 4,
   "metadata": {},
   "outputs": [
    {
     "data": {
      "text/plain": [
       "['Monday', 'Monday', 'Monday']"
      ]
     },
     "execution_count": 4,
     "metadata": {},
     "output_type": "execute_result"
    }
   ],
   "source": [
    "#4. If today was Monday, in two days, it would be Wednesday.\n",
    "\n",
    "#Create a function that takes in a list of days as input and the number of days to increment by. Return a list of days after n number of days has passed.\n",
    "\n",
    "\n",
    "def after_n_days(lst,n):\n",
    "    index=[]\n",
    "    new=[]\n",
    "    days=[\"Monday\",\"Tuesday\",\"Wednesday\",\"Thursday\",\"Friday\",\"Saturday\",\"Sunday\"]\n",
    "    index=[days.index(i) for i in lst]\n",
    "    index=[(i+n)%7 for i in index]\n",
    "    for i in index:\n",
    "        new.append(days[i])\n",
    "    return new\n",
    "after_n_days([\"Sunday\", \"Sunday\", \"Sunday\"], 1)"
   ]
  },
  {
   "cell_type": "code",
   "execution_count": 5,
   "metadata": {},
   "outputs": [
    {
     "data": {
      "text/plain": [
       "True"
      ]
     },
     "execution_count": 5,
     "metadata": {},
     "output_type": "execute_result"
    }
   ],
   "source": [
    "#5. You are in the process of creating a chat application and want to add an anonymous name feature. This anonymous name feature will create an alias that consists of two capitalized words beginning with the same letter as the users first name.\n",
    "\n",
    "#Create a function that determines if the list of users is mapped to a list of anonymous names correctly.\n",
    "\n",
    "\n",
    "def is_correct_aliases(lst1,lst2):\n",
    "    new=[]\n",
    "    for i in lst2:\n",
    "        x=i.split()\n",
    "        new.append(x)\n",
    "    for i in range(len(lst1)):\n",
    "\n",
    "        if lst1[i][0]!=new[i][0][0] or lst1[i][0] !=new[i][1][0]:\n",
    "            return False\n",
    "    return True\n",
    "\n",
    "        \n",
    "        \n",
    "\n",
    "    \n",
    "is_correct_aliases([\"Adrian M.\", \"Harriet S.\", \"Mandy T.\"], [\"Amazing Artichoke\", \"Hopeful Hedgehog\", \"Marvelous Mouse\"])"
   ]
  },
  {
   "cell_type": "code",
   "execution_count": null,
   "metadata": {},
   "outputs": [],
   "source": []
  },
  {
   "cell_type": "code",
   "execution_count": null,
   "metadata": {},
   "outputs": [],
   "source": []
  },
  {
   "cell_type": "code",
   "execution_count": null,
   "metadata": {},
   "outputs": [],
   "source": []
  }
 ],
 "metadata": {
  "kernelspec": {
   "display_name": "Python 3",
   "language": "python",
   "name": "python3"
  },
  "language_info": {
   "codemirror_mode": {
    "name": "ipython",
    "version": 3
   },
   "file_extension": ".py",
   "mimetype": "text/x-python",
   "name": "python",
   "nbconvert_exporter": "python",
   "pygments_lexer": "ipython3",
   "version": "3.7.6"
  }
 },
 "nbformat": 4,
 "nbformat_minor": 4
}
