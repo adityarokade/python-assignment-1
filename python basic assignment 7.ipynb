{
 "cells": [
  {
   "cell_type": "code",
   "execution_count": 1,
   "metadata": {},
   "outputs": [
    {
     "name": "stdout",
     "output_type": "stream",
     "text": [
      "The re. compile() function is responsible for generating Regex onject in pytho.\n"
     ]
    }
   ],
   "source": [
    "#1. What is the name of the feature responsible for generating Regex objects?\n",
    "print(\"The re. compile() function is responsible for generating Regex onject in pytho.\")"
   ]
  },
  {
   "cell_type": "code",
   "execution_count": 2,
   "metadata": {},
   "outputs": [
    {
     "name": "stdout",
     "output_type": "stream",
     "text": [
      " Raw strings are used to that backslashes do not have to be escaped\n"
     ]
    }
   ],
   "source": [
    "#2. Why do raw strings often appear in Regex objects?\n",
    "print(\" Raw strings are used to that backslashes do not have to be escaped\")"
   ]
  },
  {
   "cell_type": "code",
   "execution_count": 3,
   "metadata": {},
   "outputs": [
    {
     "name": "stdout",
     "output_type": "stream",
     "text": [
      "The search() method is use to search the perticular value or specified value and it is returns the position of the matched value\n"
     ]
    }
   ],
   "source": [
    "#3. What is the return value of the search() method?\n",
    "print(\"The search() method is use to search the perticular value or specified value and it is returns the position of the matched value\")"
   ]
  },
  {
   "cell_type": "code",
   "execution_count": 4,
   "metadata": {},
   "outputs": [
    {
     "name": "stdout",
     "output_type": "stream",
     "text": [
      "the group() method is returns the actual strings that match the pattern.\n"
     ]
    }
   ],
   "source": [
    "#4. From a Match item, how do you get the actual strings that match the pattern?\n",
    "print(\"the group() method is returns the actual strings that match the pattern.\")"
   ]
  },
  {
   "cell_type": "code",
   "execution_count": 6,
   "metadata": {},
   "outputs": [
    {
     "name": "stdout",
     "output_type": "stream",
     "text": [
      "Group 0 is the entire match, group 1 covers the first set of parentheses, and group 2 covers the second set of parentheses.\n"
     ]
    }
   ],
   "source": [
    "#5. In the regex which created from the r&#39;(\\d\\d\\d)-(\\d\\d\\d-\\d\\d\\d\\d)&#39;, what does group zero cover? Group 2? Group 1?\n",
    "print(\"Group 0 is the entire match, group 1 covers the first set of parentheses, and group 2 covers the second set of parentheses.\")"
   ]
  },
  {
   "cell_type": "code",
   "execution_count": 7,
   "metadata": {},
   "outputs": [
    {
     "name": "stdout",
     "output_type": "stream",
     "text": [
      "Periods and parentheses can be escaped with a backslash: \\., \\(, and \\).\n"
     ]
    }
   ],
   "source": [
    "#6. In standard expression syntax, parentheses and intervals have distinct meanings. How can you tell a regex that you want it to fit real parentheses and periods?\n",
    "print(\"Periods and parentheses can be escaped with a backslash: \\., \\(, and \\).\")"
   ]
  },
  {
   "cell_type": "code",
   "execution_count": 8,
   "metadata": {},
   "outputs": [
    {
     "name": "stdout",
     "output_type": "stream",
     "text": [
      "If the regex has no groups, a list of strings is returned. If the regex has groups, a list of tuples of strings is returned.\n"
     ]
    }
   ],
   "source": [
    "#7. The findall() method returns a string list or a list of string tuples. What causes it to return one of the two options?\n",
    "print(\"If the regex has no groups, a list of strings is returned. If the regex has groups, a list of tuples of strings is returned.\")"
   ]
  },
  {
   "cell_type": "code",
   "execution_count": 10,
   "metadata": {},
   "outputs": [
    {
     "name": "stdout",
     "output_type": "stream",
     "text": [
      "The | character signifies matching 'either, or' between two groups.\n"
     ]
    }
   ],
   "source": [
    "#8. In standard expressions, what does the | character mean?\n",
    "print(\"The | character signifies matching 'either, or' between two groups.\")"
   ]
  },
  {
   "cell_type": "code",
   "execution_count": 26,
   "metadata": {},
   "outputs": [
    {
     "name": "stdout",
     "output_type": "stream",
     "text": [
      "Regular expressions (shortened as 'regex') are special strings representing a pattern to be matched in a search operation. They are an important tool in a wide variety of computing applications, from programming languages like Java and Perl, to text processing tools like grep, sed, and the text editor vim.\n"
     ]
    }
   ],
   "source": [
    "#9. In regular expressions, what does the character stand for?\n",
    "print(\"Regular expressions (shortened as 'regex') are special strings representing a pattern to be matched in a search operation. They are an important tool in a wide variety of computing applications, from programming languages like Java and Perl, to text processing tools like grep, sed, and the text editor vim.\")"
   ]
  },
  {
   "cell_type": "code",
   "execution_count": 11,
   "metadata": {},
   "outputs": [
    {
     "name": "stdout",
     "output_type": "stream",
     "text": [
      "+ matches one or more & *matches zero or more\n"
     ]
    }
   ],
   "source": [
    "#10.In regular expressions, what is the difference between the + and * characters?\n",
    "print(\"+ matches one or more & *matches zero or more\")"
   ]
  },
  {
   "cell_type": "code",
   "execution_count": 12,
   "metadata": {},
   "outputs": [
    {
     "name": "stdout",
     "output_type": "stream",
     "text": [
      "The {4} matches exactly four instances of the preceding group. The {4,5} matches between four and five instances.\n"
     ]
    }
   ],
   "source": [
    "#11. What is the difference between {4} and {4,5} in regular expression?\n",
    "print(\"The {4} matches exactly four instances of the preceding group. The {4,5} matches between four and five instances.\")"
   ]
  },
  {
   "cell_type": "code",
   "execution_count": 13,
   "metadata": {},
   "outputs": [
    {
     "name": "stdout",
     "output_type": "stream",
     "text": [
      "The \\d, \\w, and \\s shorthand character classes match a single digit, word, or space character, respectively.\n"
     ]
    }
   ],
   "source": [
    "#12. What do you mean by the \\d, \\w, and \\s shorthand character classes signify in regular expressions?\n",
    "print(\"The \\d, \\w, and \\s shorthand character classes match a single digit, word, or space character, respectively.\")"
   ]
  },
  {
   "cell_type": "code",
   "execution_count": 14,
   "metadata": {},
   "outputs": [
    {
     "name": "stdout",
     "output_type": "stream",
     "text": [
      "The \\D, \\W, and \\S shorthand character classes match a single character that is not a digit, word, or space character, respectively. it is oposite to the \\d ,\\w,\\s\n"
     ]
    }
   ],
   "source": [
    "#13. What do means by \\D, \\W, and \\S shorthand character classes signify in regular expressions?\n",
    "print(\"The \\D, \\W, and \\S shorthand character classes match a single character that is not a digit, word, or space character, respectively. it is oposite to the \\d ,\\w,\\s\")"
   ]
  },
  {
   "cell_type": "code",
   "execution_count": 15,
   "metadata": {},
   "outputs": [
    {
     "name": "stdout",
     "output_type": "stream",
     "text": [
      "The main difference between the two patterns is in performance: being more strict, the negated character class can only match one way for a given input. It doesn't matter if you use greedy or reluctant modifier for this pattern\n"
     ]
    }
   ],
   "source": [
    "#14. What is the difference between .*? and .*?\n",
    "print(\"The main difference between the two patterns is in performance: being more strict, the negated character class can only match one way for a given input. It doesn't matter if you use greedy or reluctant modifier for this pattern\")"
   ]
  },
  {
   "cell_type": "code",
   "execution_count": 16,
   "metadata": {},
   "outputs": [
    {
     "name": "stdout",
     "output_type": "stream",
     "text": [
      "Either [0-9a-z] or [a-z0-9]\n"
     ]
    }
   ],
   "source": [
    "#15. What is the syntax for matching both numbers and lowercase letters with a character class?\n",
    "print(\"Either [0-9a-z] or [a-z0-9]\")"
   ]
  },
  {
   "cell_type": "code",
   "execution_count": 17,
   "metadata": {},
   "outputs": [
    {
     "name": "stdout",
     "output_type": "stream",
     "text": [
      "Passing re.I or re.IGNORECASE as the second argument to re.compile() will make the matching case insensitive.\n"
     ]
    }
   ],
   "source": [
    "#16. What is the procedure for making a normal expression in regax case insensitive?\n",
    "print(\"Passing re.I or re.IGNORECASE as the second argument to re.compile() will make the matching case insensitive.\")"
   ]
  },
  {
   "cell_type": "code",
   "execution_count": 18,
   "metadata": {},
   "outputs": [
    {
     "name": "stdout",
     "output_type": "stream",
     "text": [
      "The . character normally matches any character except the newline character. If re.DOTALL is passed as the second argument to re.compile(), then the dot will also match newline characters.\n"
     ]
    }
   ],
   "source": [
    "#17. What does the . character normally match? What does it match if re.DOTALL is passed as 2nd argument in re.compile()?\n",
    "print(\"The . character normally matches any character except the newline character. If re.DOTALL is passed as the second argument to re.compile(), then the dot will also match newline characters.\")"
   ]
  },
  {
   "cell_type": "code",
   "execution_count": 20,
   "metadata": {},
   "outputs": [
    {
     "name": "stdout",
     "output_type": "stream",
     "text": [
      "'X drummers, X pipers, five rings, X hens'\n"
     ]
    }
   ],
   "source": [
    "#18. If numReg = re.compile(r&#39;\\d+&#39;), what will numRegex.sub(&#39;X&#39;, &#39;11 drummers, 10 pipers, five rings, 4 hen&#39;) return?\n",
    "print(\"'X drummers, X pipers, five rings, X hens'\")"
   ]
  },
  {
   "cell_type": "code",
   "execution_count": 21,
   "metadata": {},
   "outputs": [
    {
     "name": "stdout",
     "output_type": "stream",
     "text": [
      "The re.VERBOSE argument allows you to add whitespace and comments to the string passed to re.compile().\n"
     ]
    }
   ],
   "source": [
    "#19. What does passing re.VERBOSE as the 2nd argument to re.compile() allow to do?\n",
    "print(\"The re.VERBOSE argument allows you to add whitespace and comments to the string passed to re.compile().\")"
   ]
  },
  {
   "cell_type": "code",
   "execution_count": 22,
   "metadata": {},
   "outputs": [
    {
     "name": "stdout",
     "output_type": "stream",
     "text": [
      "re.compile(r'^\\d{1,3}(,\\d{3})*$') will create this regex, but other regex strings can produce a similar regular expression.\n"
     ]
    }
   ],
   "source": [
    "#20. How would you write a regex that match a number with comma for every three digits? It must\n",
    "#match the given following:\n",
    "#&#39;42&#39;\n",
    "#&#39;1,234&#39;\n",
    "#&#39;6,368,745&#39;\n",
    "\n",
    "#but not the following:\n",
    "#&#39;12,34,567&#39; (which has only two digits between the commas)\n",
    "#&#39;1234&#39; (which lacks commas)\n",
    "\n",
    "print(\"re.compile(r'^\\d{1,3}(,\\d{3})*$') will create this regex, but other regex strings can produce a similar regular expression.\")"
   ]
  },
  {
   "cell_type": "code",
   "execution_count": 23,
   "metadata": {},
   "outputs": [
    {
     "name": "stdout",
     "output_type": "stream",
     "text": [
      "re.compile(r'[A-Z][a-z]*\\sNakamoto')\n"
     ]
    }
   ],
   "source": [
    "#21. How would you write a regex that matches the full name of someone whose last name is\n",
    "#Watanabe? You can assume that the first name that comes before it will always be one word that\n",
    "#begins with a capital letter. The regex must match the following:\n",
    "#&#39;Haruto Watanabe&#39;\n",
    "#&#39;Alice Watanabe&#39;\n",
    "#&#39;RoboCop Watanabe&#39;\n",
    "#but not the following:\n",
    "#&#39;haruto Watanabe&#39; (where the first name is not capitalized)\n",
    "#&#39;Mr. Watanabe&#39; (where the preceding word has a nonletter character)\n",
    "#&#39;Watanabe&#39; (which has no first name)\n",
    "#&#39;Haruto watanabe&#39; (where Watanabe is not capitalized)\n",
    "\n",
    "print(\"re.compile(r'[A-Z][a-z]*\\sNakamoto')\")"
   ]
  },
  {
   "cell_type": "code",
   "execution_count": 24,
   "metadata": {},
   "outputs": [
    {
     "name": "stdout",
     "output_type": "stream",
     "text": [
      "re.compile(r'(Alice|Bob|Carol)\\s(eats|pets|throws)\\s(apples|cats|baseballs)\\.', re.IGNORECASE)\n"
     ]
    }
   ],
   "source": [
    "#22. How would you write a regex that matches a sentence where the first word is either Alice, Bob,\n",
    "#or Carol; the second word is either eats, pets, or throws; the third word is apples, cats, or baseballs;\n",
    "#and the sentence ends with a period? This regex should be case-insensitive. It must match the\n",
    "#following:\n",
    "#&#39;Alice eats apples.&#39;\n",
    "#&#39;Bob pets cats.&#39;\n",
    "#&#39;Carol throws baseballs.&#39;\n",
    "#&#39;Alice throws Apples.&#39;\n",
    "#&#39;BOB EATS CATS.&#39;\n",
    "#but not the following:\n",
    "#&#39;RoboCop eats apples.&#39;\n",
    "#&#39;ALICE THROWS FOOTBALLS.&#39;\n",
    "#&#39;Carol eats 7 cats.&#39;\n",
    "\n",
    "print(\"re.compile(r'(Alice|Bob|Carol)\\s(eats|pets|throws)\\s(apples|cats|baseballs)\\.', re.IGNORECASE)\")"
   ]
  },
  {
   "cell_type": "code",
   "execution_count": null,
   "metadata": {},
   "outputs": [],
   "source": []
  }
 ],
 "metadata": {
  "kernelspec": {
   "display_name": "Python 3",
   "language": "python",
   "name": "python3"
  },
  "language_info": {
   "codemirror_mode": {
    "name": "ipython",
    "version": 3
   },
   "file_extension": ".py",
   "mimetype": "text/x-python",
   "name": "python",
   "nbconvert_exporter": "python",
   "pygments_lexer": "ipython3",
   "version": "3.7.6"
  }
 },
 "nbformat": 4,
 "nbformat_minor": 4
}
