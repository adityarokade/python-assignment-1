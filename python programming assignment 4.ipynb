{
 "cells": [
  {
   "cell_type": "code",
   "execution_count": 1,
   "metadata": {},
   "outputs": [
    {
     "name": "stdout",
     "output_type": "stream",
     "text": [
      "Enter the number56\n",
      "The factorial of 56 is 710998587804863451854045647463724949736497978881168458687447040000000000000\n"
     ]
    }
   ],
   "source": [
    "#1. Write a Python Program to Find the Factorial of a Number?\n",
    "\n",
    "\n",
    "a= int(input(\"Enter the number\"))\n",
    "\n",
    "factorial = 1\n",
    "\n",
    "\n",
    "\n",
    "if (a < 0):\n",
    "\n",
    "    print(\" factorial does not exist for negative numbers\")\n",
    "\n",
    "elif  (a== 0):\n",
    "\n",
    "    print(\"The factorial of 0 is 1\")\n",
    "\n",
    "else:\n",
    "\n",
    "    for i in range(1,a + 1):\n",
    "\n",
    "        factorial = factorial*i\n",
    "\n",
    "    print(\"The factorial of\",a,\"is\",factorial)  "
   ]
  },
  {
   "cell_type": "code",
   "execution_count": 28,
   "metadata": {},
   "outputs": [
    {
     "name": "stdout",
     "output_type": "stream",
     "text": [
      "Enter the number which multiplication want: 2\n",
      "1 : 2\n",
      "2 : 4\n",
      "3 : 6\n",
      "4 : 8\n",
      "5 : 10\n",
      "6 : 12\n",
      "7 : 14\n",
      "8 : 16\n",
      "9 : 18\n",
      "10 : 20\n"
     ]
    }
   ],
   "source": [
    "#2. Write a Python Program to Display the multiplication Table?\n",
    "\n",
    "a=int(input(\"Enter the number which multiplication want: \"))\n",
    "\n",
    "for i in range(1,11):\n",
    "    b=a*i\n",
    "    print(i,\":\",b)"
   ]
  },
  {
   "cell_type": "code",
   "execution_count": 11,
   "metadata": {},
   "outputs": [
    {
     "name": "stdout",
     "output_type": "stream",
     "text": [
      "Enter the first no: 2\n",
      "Enter the second no: 5\n",
      "Enter the renge for this sequence:5\n",
      "5\n",
      "7\n",
      "12\n",
      "19\n",
      "31\n"
     ]
    }
   ],
   "source": [
    "#3. Write a Python Program to Print the Fibonacci sequence?\n",
    "\n",
    "def getFibonacci_sequence(a,b):             #creating a function\n",
    "    for i in range(c):                     #looping a function\n",
    "        a,b=b,a+b\n",
    "        print(a)\n",
    "x=int(input(\"Enter the first no: \"))\n",
    "y=int(input(\"Enter the second no: \"))\n",
    "c=int(input(\"Enter the renge for this sequence:\"))\n",
    "getFibonacci_sequence(x,y)   #calling of function"
   ]
  },
  {
   "cell_type": "code",
   "execution_count": 24,
   "metadata": {},
   "outputs": [
    {
     "name": "stdout",
     "output_type": "stream",
     "text": [
      "Enter a number: 407\n",
      "is an Armstrong number: 407\n"
     ]
    }
   ],
   "source": [
    "#4. Write a Python Program to Check Armstrong Number?\n",
    "\n",
    "\n",
    "\n",
    "\n",
    "num = int(input(\"Enter a number: \"))             #take input from the user\n",
    "\n",
    "sum = 0\n",
    "\n",
    "\n",
    "temp = num\n",
    "while temp > 0:\n",
    "   digit = temp % 10\n",
    "   sum += digit ** 3\n",
    "   temp //= 10\n",
    "\n",
    "\n",
    "if num == sum:\n",
    "   print(\"is an Armstrong number:\",num)\n",
    "else:\n",
    "   print(\"is not an Armstrong number:\",num)"
   ]
  },
  {
   "cell_type": "code",
   "execution_count": 27,
   "metadata": {},
   "outputs": [
    {
     "name": "stdout",
     "output_type": "stream",
     "text": [
      "enter the lower number in interval:10\n",
      "enter the upper number in interval:2000\n",
      "the armstorng mo is : 153\n",
      "the armstorng mo is : 370\n",
      "the armstorng mo is : 371\n",
      "the armstorng mo is : 407\n",
      "the armstorng mo is : 1634\n"
     ]
    }
   ],
   "source": [
    "#5. Write a Python Program to Find Armstrong Number in an Interval?\n",
    "\n",
    "\n",
    "lower = int(input(\"enter the lower number in interval:\"))\n",
    "upper = int(input(\"enter the upper number in interval:\"))\n",
    "\n",
    "for num in range(lower, upper + 1):\n",
    "\n",
    "   \n",
    "   order = len(str(num))\n",
    "    \n",
    "\n",
    "   sum = 0\n",
    "\n",
    "   temp = num\n",
    "   while temp > 0:\n",
    "       digit = temp % 10\n",
    "       sum += digit ** order\n",
    "       temp //= 10\n",
    "\n",
    "   if num == sum:\n",
    "       print(\"the armstorng mo is :\",num)"
   ]
  },
  {
   "cell_type": "code",
   "execution_count": 35,
   "metadata": {},
   "outputs": [
    {
     "name": "stdout",
     "output_type": "stream",
     "text": [
      "The sum is 26\n"
     ]
    }
   ],
   "source": [
    "#6. Write a Python Program to Find the Sum of Natural Numbers\n",
    "   \n",
    "   \n",
    "   while(num > sum):\n",
    "       sum += num\n",
    "       num += 1\n",
    "   print(\"The sum is\", sum)\n"
   ]
  },
  {
   "cell_type": "code",
   "execution_count": null,
   "metadata": {},
   "outputs": [],
   "source": []
  }
 ],
 "metadata": {
  "kernelspec": {
   "display_name": "Python 3",
   "language": "python",
   "name": "python3"
  },
  "language_info": {
   "codemirror_mode": {
    "name": "ipython",
    "version": 3
   },
   "file_extension": ".py",
   "mimetype": "text/x-python",
   "name": "python",
   "nbconvert_exporter": "python",
   "pygments_lexer": "ipython3",
   "version": "3.7.4"
  }
 },
 "nbformat": 4,
 "nbformat_minor": 4
}
