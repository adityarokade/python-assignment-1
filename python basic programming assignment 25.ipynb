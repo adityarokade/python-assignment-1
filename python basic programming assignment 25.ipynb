{
 "cells": [
  {
   "cell_type": "code",
   "execution_count": 4,
   "metadata": {},
   "outputs": [
    {
     "data": {
      "text/plain": [
       "3"
      ]
     },
     "execution_count": 4,
     "metadata": {},
     "output_type": "execute_result"
    }
   ],
   "source": [
    "#Create a function that takes three integer arguments (a, b, c) and returns the amount of integers which are of equal value\n",
    "\n",
    "\n",
    "def equal_check(a,b,c):\n",
    "    if (a==b==c):\n",
    "        return 3\n",
    "    elif (a==b!=c) or (a==c!=b) or (b==c!=a):\n",
    "        return 2\n",
    "    else:\n",
    "        return 0\n",
    "    \n",
    "equal_check(3,4,3)\n",
    "equal_check(1,1,1)"
   ]
  },
  {
   "cell_type": "code",
   "execution_count": 7,
   "metadata": {},
   "outputs": [
    {
     "data": {
      "text/plain": [
       "[('D', 1), ('B', 2), ('C', 3)]"
      ]
     },
     "execution_count": 7,
     "metadata": {},
     "output_type": "execute_result"
    }
   ],
   "source": [
    "#Write a function that converts a dictionary into a list of keys-values tuples\n",
    "\n",
    "\n",
    "def dict_to_list(d):\n",
    "    l=[]\n",
    "    for i in d:\n",
    "        l.append((i,d[i]))\n",
    "    return l\n",
    "        \n",
    "        \n",
    "        \n",
    "dict_to_list({\"D\": 1,\"B\": 2,\"C\": 3})"
   ]
  },
  {
   "cell_type": "code",
   "execution_count": 9,
   "metadata": {},
   "outputs": [
    {
     "name": "stdout",
     "output_type": "stream",
     "text": [
      "{'p': 'P', 's': 'S'}\n"
     ]
    }
   ],
   "source": [
    "#Write a function that creates a dictionary with each (key, value) pair being the (lower case, upper case) versions of a letter, respectively.\n",
    "\n",
    "\n",
    "def mapping(l):\n",
    "    dic=dict()\n",
    "    for i in l:\n",
    "        dic[i]=i.upper()\n",
    "        \n",
    "    print(dic)\n",
    "        \n",
    "        \n",
    "        \n",
    "mapping([\"p\", \"s\"])"
   ]
  },
  {
   "cell_type": "code",
   "execution_count": 32,
   "metadata": {},
   "outputs": [
    {
     "data": {
      "text/plain": [
       "'upplus und bununus'"
      ]
     },
     "execution_count": 32,
     "metadata": {},
     "output_type": "execute_result"
    }
   ],
   "source": [
    "#Write a function, that replaces all vowels in a string with a specified vowel.\n",
    "\n",
    "\n",
    "def vow_replace(s,a):\n",
    "    vl=['a','e','i','o','u']\n",
    "    vl.remove(a)\n",
    "    l=[]\n",
    "    for i in s:\n",
    "        if i in vl :\n",
    "            l.append(a)\n",
    "        else:\n",
    "            l.append(i)\n",
    "    l1=\"\".join(l)\n",
    "    return l1\n",
    "        \n",
    "vow_replace(\"apples and bananas\", \"u\")"
   ]
  },
  {
   "cell_type": "code",
   "execution_count": 41,
   "metadata": {},
   "outputs": [
    {
     "data": {
      "text/plain": [
       "'To Be oR NoT To Be!'"
      ]
     },
     "execution_count": 41,
     "metadata": {},
     "output_type": "execute_result"
    }
   ],
   "source": [
    "#Create a function that takes a string as input and capitalizes a letter if its ASCII code is even and returns its lower case version if its ASCII code is odd.\n",
    "\n",
    "def ascii_capitalize(s):\n",
    "    l=[]\n",
    "    for i in s:\n",
    "        if (ord(i))%2==0:\n",
    "            l.append(i.upper())\n",
    "        else:\n",
    "            l.append(i.lower())\n",
    "    l1=\"\".join(l)\n",
    "    return l1\n",
    "\n",
    "    \n",
    "ascii_capitalize(\"to be or not to be!\")\n",
    "    \n",
    "            "
   ]
  },
  {
   "cell_type": "code",
   "execution_count": null,
   "metadata": {},
   "outputs": [],
   "source": []
  }
 ],
 "metadata": {
  "kernelspec": {
   "display_name": "Python 3",
   "language": "python",
   "name": "python3"
  },
  "language_info": {
   "codemirror_mode": {
    "name": "ipython",
    "version": 3
   },
   "file_extension": ".py",
   "mimetype": "text/x-python",
   "name": "python",
   "nbconvert_exporter": "python",
   "pygments_lexer": "ipython3",
   "version": "3.7.6"
  }
 },
 "nbformat": 4,
 "nbformat_minor": 4
}
