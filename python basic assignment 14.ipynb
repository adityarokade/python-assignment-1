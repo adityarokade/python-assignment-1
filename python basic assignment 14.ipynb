{
 "cells": [
  {
   "cell_type": "code",
   "execution_count": 1,
   "metadata": {},
   "outputs": [
    {
     "name": "stdout",
     "output_type": "stream",
     "text": [
      "RGBA stands for red green blue alpha. While it is sometimes described as a color space, it is actually a three-channel RGB color model supplemented with a fourth alpha channel.\n"
     ]
    }
   ],
   "source": [
    "#1. What does RGBA stand for?\n",
    "print(\"RGBA stands for red green blue alpha. While it is sometimes described as a color space, it is actually a three-channel RGB color model supplemented with a fourth alpha channel.\")"
   ]
  },
  {
   "cell_type": "code",
   "execution_count": 2,
   "metadata": {},
   "outputs": [
    {
     "name": "stdout",
     "output_type": "stream",
     "text": [
      "import the Image module from the Pillow library from PIL import Image.\n",
      "Open any image and get the RAGBAG values. img = Image.open('image.png')\n",
      "Change the color. Data will be an Imaging Core object containing thousands of tuples of RGBA values.\n",
      "Store the changed image\n"
     ]
    }
   ],
   "source": [
    "#2. From the Pillow module, how do you get the RGBA value of any images?\n",
    "print(\"import the Image module from the Pillow library from PIL import Image.\")\n",
    "print(\"Open any image and get the RAGBAG values. img = Image.open('image.png')\")\n",
    "print(\"Change the color. Data will be an Imaging Core object containing thousands of tuples of RGBA values.\")\n",
    "print(\"Store the changed image\")"
   ]
  },
  {
   "cell_type": "code",
   "execution_count": 3,
   "metadata": {},
   "outputs": [
    {
     "name": "stdout",
     "output_type": "stream",
     "text": [
      "A tuple is a collection of objects which ordered and immutable. Tuples are sequences, just like lists. The differences between tuples and lists are, the tuples cannot be changed unlike lists and tuples use parentheses, whereas lists use square brackets.\n"
     ]
    }
   ],
   "source": [
    "#3. What is a box tuple, and how does it work?\n",
    "print(\"A tuple is a collection of objects which ordered and immutable. Tuples are sequences, just like lists. The differences between tuples and lists are, the tuples cannot be changed unlike lists and tuples use parentheses, whereas lists use square brackets.\")"
   ]
  },
  {
   "cell_type": "code",
   "execution_count": 6,
   "metadata": {},
   "outputs": [
    {
     "name": "stdout",
     "output_type": "stream",
     "text": [
      " by using these steps:1)image = PIL. Image. open('sample.png') image to open.\n",
      "2)width, height = image. size. extract width and height from output tuple.\n",
      "3)print(width, height)\n"
     ]
    }
   ],
   "source": [
    "#4. Use your image and load in notebook then, How can you find out the width and height of an Image object?\n",
    "print(\" by using these steps:1)image = PIL. Image. open('sample.png') image to open.\")\n",
    "print(\"2)width, height = image. size. extract width and height from output tuple.\")\n",
    "print(\"3)print(width, height)\")"
   ]
  },
  {
   "cell_type": "code",
   "execution_count": 7,
   "metadata": {},
   "outputs": [
    {
     "name": "stdout",
     "output_type": "stream",
     "text": [
      "Call the imageObj.save('new_filename.png') method of the Image object.\n"
     ]
    }
   ],
   "source": [
    "#5. What method would you call to get Image object for a 100×100 image, excluding the lower-left quarter of it?\n",
    "print(\"Call the imageObj.save('new_filename.png') method of the Image object.\")"
   ]
  },
  {
   "cell_type": "code",
   "execution_count": 8,
   "metadata": {},
   "outputs": [
    {
     "name": "stdout",
     "output_type": "stream",
     "text": [
      "The ImageDraw module contains code to draw on image\n"
     ]
    }
   ],
   "source": [
    "#6. After making changes to an Image object, how could you save it as an image file?\n",
    "print(\"The ImageDraw module contains code to draw on image\")"
   ]
  },
  {
   "cell_type": "code",
   "execution_count": 9,
   "metadata": {},
   "outputs": [
    {
     "name": "stdout",
     "output_type": "stream",
     "text": [
      "ImageDraw objects have shape-drawing methods such as point(), line(), or rectangle(). They are returned by passing the Image object to the ImageDraw.Draw() function.\n"
     ]
    }
   ],
   "source": [
    "#7. What module contains Pillow’s shape-drawing code?\n",
    "print(\"ImageDraw objects have shape-drawing methods such as point(), line(), or rectangle(). They are returned by passing the Image object to the ImageDraw.Draw() function.\")"
   ]
  },
  {
   "cell_type": "code",
   "execution_count": 10,
   "metadata": {},
   "outputs": [
    {
     "name": "stdout",
     "output_type": "stream",
     "text": [
      "Drawings refer to a drawing object or a group of drawing objects. Drawing objects include shapes, diagrams, flowcharts, curves, lines, and WordArt. These objects are part of your Word document. You can change and enhance these objects with colors, patterns, borders, and other effects.\n"
     ]
    }
   ],
   "source": [
    "#8. Image objects do not have drawing methods. What kind of object does? How do you get this kind of object?\n",
    "print(\"Drawings refer to a drawing object or a group of drawing objects. Drawing objects include shapes, diagrams, flowcharts, curves, lines, and WordArt. These objects are part of your Word document. You can change and enhance these objects with colors, patterns, borders, and other effects.\")"
   ]
  },
  {
   "cell_type": "code",
   "execution_count": null,
   "metadata": {},
   "outputs": [],
   "source": []
  }
 ],
 "metadata": {
  "kernelspec": {
   "display_name": "Python 3",
   "language": "python",
   "name": "python3"
  },
  "language_info": {
   "codemirror_mode": {
    "name": "ipython",
    "version": 3
   },
   "file_extension": ".py",
   "mimetype": "text/x-python",
   "name": "python",
   "nbconvert_exporter": "python",
   "pygments_lexer": "ipython3",
   "version": "3.7.6"
  }
 },
 "nbformat": 4,
 "nbformat_minor": 4
}
